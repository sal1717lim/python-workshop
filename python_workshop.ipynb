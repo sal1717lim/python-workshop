{
  "nbformat": 4,
  "nbformat_minor": 0,
  "metadata": {
    "colab": {
      "name": "python workshop.ipynb",
      "provenance": [],
      "collapsed_sections": [
        "Jxk9rs30Q5ta",
        "2mVQgfiXWh0L",
        "Hwryk3NYBBeH",
        "T0dbrAMIMSo4",
        "PjFobeM8_JDG",
        "-rM5MRNi_tdJ",
        "6P7Sl2HVBGnu",
        "VWeqqUoqD_5d",
        "0LvYFMHWH2Bv"
      ],
      "authorship_tag": "ABX9TyPWSxVuHygeMM+20tFT94Ks",
      "include_colab_link": true
    },
    "kernelspec": {
      "name": "python3",
      "display_name": "Python 3"
    },
    "language_info": {
      "name": "python"
    }
  },
  "cells": [
    {
      "cell_type": "markdown",
      "metadata": {
        "id": "view-in-github",
        "colab_type": "text"
      },
      "source": [
        "<a href=\"https://colab.research.google.com/github/sal1717lim/python-workshop/blob/main/python_workshop.ipynb\" target=\"_parent\"><img src=\"https://colab.research.google.com/assets/colab-badge.svg\" alt=\"Open In Colab\"/></a>"
      ]
    },
    {
      "cell_type": "markdown",
      "source": [
        "## Affichage"
      ],
      "metadata": {
        "id": "Jxk9rs30Q5ta"
      }
    },
    {
      "cell_type": "code",
      "source": [
        "print(\" hello gdsc! \")"
      ],
      "metadata": {
        "colab": {
          "base_uri": "https://localhost:8080/"
        },
        "id": "Ugr_X_k8Q4Aw",
        "outputId": "7554228e-0d3d-4f75-a563-6074924d28aa"
      },
      "execution_count": null,
      "outputs": [
        {
          "output_type": "stream",
          "name": "stdout",
          "text": [
            " hello gdsc! \n"
          ]
        }
      ]
    },
    {
      "cell_type": "markdown",
      "source": [
        "## Type de donnees de base:"
      ],
      "metadata": {
        "id": "2mVQgfiXWh0L"
      }
    },
    {
      "cell_type": "markdown",
      "source": [
        "### Le type int (entier)"
      ],
      "metadata": {
        "id": "bSlfN6RcX86j"
      }
    },
    {
      "cell_type": "markdown",
      "source": [
        "Ce type est utilisé pour stocker un entier, en anglais integer. Pour cette raison, on appelle ce type int."
      ],
      "metadata": {
        "id": "ia7qcF_-YUbE"
      }
    },
    {
      "cell_type": "code",
      "source": [
        "print(type(128))"
      ],
      "metadata": {
        "colab": {
          "base_uri": "https://localhost:8080/"
        },
        "id": "vw5LdCqDWhgj",
        "outputId": "2526ed3a-d96d-4edb-a0ca-b61c32bb5c7b"
      },
      "execution_count": null,
      "outputs": [
        {
          "output_type": "stream",
          "name": "stdout",
          "text": [
            "<class 'int'>\n"
          ]
        }
      ]
    },
    {
      "cell_type": "code",
      "source": [
        "a=15\n",
        "print(a)\n",
        "print(type(a))"
      ],
      "metadata": {
        "colab": {
          "base_uri": "https://localhost:8080/"
        },
        "id": "zSuJbk4IXb5M",
        "outputId": "f2d92ebe-bcb4-4849-d263-787bdb940ac5"
      },
      "execution_count": null,
      "outputs": [
        {
          "output_type": "stream",
          "name": "stdout",
          "text": [
            "15\n",
            "<class 'int'>\n"
          ]
        }
      ]
    },
    {
      "cell_type": "markdown",
      "source": [
        "convertir un nombre en entier"
      ],
      "metadata": {
        "id": "J9SDRGEc87Ll"
      }
    },
    {
      "cell_type": "code",
      "source": [
        "a='10'\n",
        "b=int(a)\n",
        "print(type(a))\n",
        "print(type(b))\n",
        "print(b+5)"
      ],
      "metadata": {
        "colab": {
          "base_uri": "https://localhost:8080/"
        },
        "id": "fWWgC9mj9AkQ",
        "outputId": "9101c6b6-8c83-4cb1-881a-1bcf68a28578"
      },
      "execution_count": null,
      "outputs": [
        {
          "output_type": "stream",
          "name": "stdout",
          "text": [
            "<class 'str'>\n",
            "<class 'int'>\n",
            "15\n"
          ]
        }
      ]
    },
    {
      "cell_type": "markdown",
      "source": [
        "changement de base"
      ],
      "metadata": {
        "id": "vYZaVOZv9u1p"
      }
    },
    {
      "cell_type": "code",
      "source": [
        "a='11'\n",
        "b=int(a,base=2)\n",
        "print(b)"
      ],
      "metadata": {
        "colab": {
          "base_uri": "https://localhost:8080/"
        },
        "id": "0JmZzVi89uTx",
        "outputId": "f4bb79ff-3181-4229-fe80-92fe8b27dd78"
      },
      "execution_count": null,
      "outputs": [
        {
          "output_type": "stream",
          "name": "stdout",
          "text": [
            "3\n"
          ]
        }
      ]
    },
    {
      "cell_type": "markdown",
      "source": [
        "### Le type float (flottant)"
      ],
      "metadata": {
        "id": "FSJr2kwcYKhN"
      }
    },
    {
      "cell_type": "markdown",
      "source": [
        "Ce type est utilisé pour stocker des nombres à virgule flottante, désignés en anglais par l’expression floating point numbers. Pour cette raison, on appelle ce type : float. "
      ],
      "metadata": {
        "id": "wod7DHh5YaDN"
      }
    },
    {
      "cell_type": "code",
      "source": [
        "a = 14.5\n",
        "print(a)\n",
        "print(type(a))"
      ],
      "metadata": {
        "colab": {
          "base_uri": "https://localhost:8080/"
        },
        "id": "W1849LlRYroD",
        "outputId": "50c1a3e8-ac4c-4a7d-855c-454b8c8c22b7"
      },
      "execution_count": null,
      "outputs": [
        {
          "output_type": "stream",
          "name": "stdout",
          "text": [
            "14.5\n",
            "<class 'float'>\n"
          ]
        }
      ]
    },
    {
      "cell_type": "code",
      "source": [
        "a = 11.\n",
        "print(a)\n",
        "print(type(a))"
      ],
      "metadata": {
        "id": "Gy3R6KlgZBdS",
        "colab": {
          "base_uri": "https://localhost:8080/"
        },
        "outputId": "1683db2f-0412-4e5a-ee4e-ccdaf94035ba"
      },
      "execution_count": null,
      "outputs": [
        {
          "output_type": "stream",
          "name": "stdout",
          "text": [
            "11.0\n",
            "<class 'float'>\n"
          ]
        }
      ]
    },
    {
      "cell_type": "code",
      "source": [
        "b = 2e3\n",
        "print(b)\n",
        "a = 3.25e7\n",
        "print(a)\n",
        "print(type(a))"
      ],
      "metadata": {
        "colab": {
          "base_uri": "https://localhost:8080/"
        },
        "id": "MtHfs-bkZIKV",
        "outputId": "12bde0e1-c9e6-46d1-b394-b6935d939b09"
      },
      "execution_count": null,
      "outputs": [
        {
          "output_type": "stream",
          "name": "stdout",
          "text": [
            "2000.0\n",
            "32500000.0\n",
            "<class 'float'>\n"
          ]
        }
      ]
    },
    {
      "cell_type": "markdown",
      "source": [
        "### Le type str (chaîne de caractères)"
      ],
      "metadata": {
        "id": "L8aAMgLNZdxn"
      }
    },
    {
      "cell_type": "markdown",
      "source": [
        "Sous Python, une donnée de type str est une suite quelconque de caractères délimitée soit par des apostrophes (simple quotes), soit par des guillemets (double quotes). str est l’abréviation de string,"
      ],
      "metadata": {
        "id": "9MCF3pnRZmPd"
      }
    },
    {
      "cell_type": "code",
      "source": [
        "a = 'Bonjour'\n",
        "print(a)\n",
        "print(type(a))"
      ],
      "metadata": {
        "colab": {
          "base_uri": "https://localhost:8080/"
        },
        "id": "HJGgDcVMZ5HD",
        "outputId": "f410bdba-7ba7-401d-d41d-d0b5fadfa19e"
      },
      "execution_count": null,
      "outputs": [
        {
          "output_type": "stream",
          "name": "stdout",
          "text": [
            "Bonjour\n",
            "<class 'str'>\n"
          ]
        }
      ]
    },
    {
      "cell_type": "code",
      "source": [
        "b = \"Bonsoir\"\n",
        "print(b)\n",
        "print(type(b))"
      ],
      "metadata": {
        "colab": {
          "base_uri": "https://localhost:8080/"
        },
        "id": "6iUXyLMoaDsK",
        "outputId": "8f784bb7-64bf-4933-c631-8bfe3dd2e137"
      },
      "execution_count": null,
      "outputs": [
        {
          "output_type": "stream",
          "name": "stdout",
          "text": [
            "Bonsoir\n",
            "<class 'str'>\n"
          ]
        }
      ]
    },
    {
      "cell_type": "markdown",
      "source": [
        "concatenation de chaines de caracteres"
      ],
      "metadata": {
        "id": "MDApvtyz-CLU"
      }
    },
    {
      "cell_type": "code",
      "source": [
        "a='gd'\n",
        "b=\"sc\"\n",
        "c=a+b\n",
        "print(c)"
      ],
      "metadata": {
        "colab": {
          "base_uri": "https://localhost:8080/"
        },
        "id": "N9Rn-9qv-B8_",
        "outputId": "02cd9919-6bff-4967-8f50-26a4e3bf6e11"
      },
      "execution_count": null,
      "outputs": [
        {
          "output_type": "stream",
          "name": "stdout",
          "text": [
            "gdsc\n"
          ]
        }
      ]
    },
    {
      "cell_type": "markdown",
      "source": [
        "recuperation d'un caractere"
      ],
      "metadata": {
        "id": "mjsaCkGS-d08"
      }
    },
    {
      "cell_type": "code",
      "source": [
        "a='gdsc'\n",
        "print(a[0])\n",
        "print(a[1])\n",
        "print(a[2])\n",
        "print(a[3])"
      ],
      "metadata": {
        "colab": {
          "base_uri": "https://localhost:8080/"
        },
        "id": "Ig82aVhR-ZYs",
        "outputId": "b43b4f36-bbd7-476c-d211-528d1e99894c"
      },
      "execution_count": null,
      "outputs": [
        {
          "output_type": "stream",
          "name": "stdout",
          "text": [
            "g\n",
            "d\n",
            "s\n",
            "c\n"
          ]
        }
      ]
    },
    {
      "cell_type": "markdown",
      "source": [
        "longeur d'une chaine de caractere"
      ],
      "metadata": {
        "id": "i9RgbRxA-sks"
      }
    },
    {
      "cell_type": "code",
      "source": [
        "a='gdsc'\n",
        "l=len(a)\n",
        "print(l)\n",
        "b=\"bonjour\"\n",
        "l=len(b)\n",
        "print(l)"
      ],
      "metadata": {
        "colab": {
          "base_uri": "https://localhost:8080/"
        },
        "id": "_jRykiJ_-0IP",
        "outputId": "198a1d94-00a8-4cb7-d21a-af522597cbe3"
      },
      "execution_count": null,
      "outputs": [
        {
          "output_type": "stream",
          "name": "stdout",
          "text": [
            "4\n",
            "7\n"
          ]
        }
      ]
    },
    {
      "cell_type": "markdown",
      "source": [
        "exctraction d'une sous chaine de caractere"
      ],
      "metadata": {
        "id": "OTqzb8oR-85D"
      }
    },
    {
      "cell_type": "code",
      "source": [
        "a='i love gdsc'\n",
        "b=a[2:6]\n",
        "print(b)\n",
        "c=a[7:]\n",
        "print(c)\n",
        "d=a[:6]\n",
        "print(d)"
      ],
      "metadata": {
        "colab": {
          "base_uri": "https://localhost:8080/"
        },
        "id": "xeRIYH5Y_C3w",
        "outputId": "6b2729de-17e6-4acd-8614-8a30ccfbe25a"
      },
      "execution_count": null,
      "outputs": [
        {
          "output_type": "stream",
          "name": "stdout",
          "text": [
            "love\n",
            "gdsc\n",
            "i love\n"
          ]
        }
      ]
    },
    {
      "cell_type": "markdown",
      "source": [
        "### Le type bool (booléen)"
      ],
      "metadata": {
        "id": "aQGIFjxBbWc0"
      }
    },
    {
      "cell_type": "code",
      "source": [
        "a = True\n",
        "print(a)\n",
        "print(type(a))"
      ],
      "metadata": {
        "colab": {
          "base_uri": "https://localhost:8080/"
        },
        "id": "Hrzk-0VRbkY-",
        "outputId": "6df0b766-7e86-4f98-e91c-bdd246da36b1"
      },
      "execution_count": null,
      "outputs": [
        {
          "output_type": "stream",
          "name": "stdout",
          "text": [
            "True\n",
            "<class 'bool'>\n"
          ]
        }
      ]
    },
    {
      "cell_type": "code",
      "source": [
        "a = False\n",
        "print(a)\n",
        "print(type(a))"
      ],
      "metadata": {
        "colab": {
          "base_uri": "https://localhost:8080/"
        },
        "id": "LVi34XwNbruK",
        "outputId": "5d31c133-ec31-4c82-f19d-3557b635c80b"
      },
      "execution_count": null,
      "outputs": [
        {
          "output_type": "stream",
          "name": "stdout",
          "text": [
            "False\n",
            "<class 'bool'>\n"
          ]
        }
      ]
    },
    {
      "cell_type": "markdown",
      "source": [
        "operateur AND"
      ],
      "metadata": {
        "id": "tE4ZIg8v_ucM"
      }
    },
    {
      "cell_type": "code",
      "source": [
        "a=True\n",
        "b=False\n",
        "c=True \n",
        "print(a,'and',c,':',a and c)\n",
        "print(a,'and',b,':',a and b)\n",
        "print(b,'and',a,':',b and a)\n",
        "print(b,'and',b,':',b and b)"
      ],
      "metadata": {
        "colab": {
          "base_uri": "https://localhost:8080/"
        },
        "id": "ipvJIEi0_xJz",
        "outputId": "430127e5-f811-41b4-d77a-1801276736dc"
      },
      "execution_count": null,
      "outputs": [
        {
          "output_type": "stream",
          "name": "stdout",
          "text": [
            "True and True : True\n",
            "True and False : False\n",
            "False and True : False\n",
            "False and False : False\n"
          ]
        }
      ]
    },
    {
      "cell_type": "markdown",
      "source": [
        "operateur OR"
      ],
      "metadata": {
        "id": "zqhEGu8wAdy0"
      }
    },
    {
      "cell_type": "code",
      "source": [
        "a=True\n",
        "b=False\n",
        "c=True\n",
        "print(a,'or',c,':',a or c)\n",
        "print(a,'or',b,':',a or b)\n",
        "print(b,'or',a,':',b or a)\n",
        "print(b,'or',b,':',b or b)"
      ],
      "metadata": {
        "colab": {
          "base_uri": "https://localhost:8080/"
        },
        "id": "0XmrXjynAgAw",
        "outputId": "f6d29ebc-2d59-4e6d-9c4d-9e6920aa3425"
      },
      "execution_count": null,
      "outputs": [
        {
          "output_type": "stream",
          "name": "stdout",
          "text": [
            "True or True : True\n",
            "True or False : True\n",
            "False or True : True\n",
            "False or False : False\n"
          ]
        }
      ]
    },
    {
      "cell_type": "markdown",
      "source": [
        "l'operateur not"
      ],
      "metadata": {
        "id": "2vwfcyIRArJE"
      }
    },
    {
      "cell_type": "code",
      "source": [
        "a=False\n",
        "b= not a\n",
        "print(b)"
      ],
      "metadata": {
        "colab": {
          "base_uri": "https://localhost:8080/"
        },
        "id": "rYijDuX5Ao6x",
        "outputId": "0b4fbe98-8146-4b30-9257-9808f2b32495"
      },
      "execution_count": null,
      "outputs": [
        {
          "output_type": "stream",
          "name": "stdout",
          "text": [
            "True\n"
          ]
        }
      ]
    },
    {
      "cell_type": "markdown",
      "source": [
        "### Le type complex (complexe)"
      ],
      "metadata": {
        "id": "vzY8S9m7beLE"
      }
    },
    {
      "cell_type": "code",
      "source": [
        "a = 2 + 3j\n",
        "print(a)\n",
        "print(type(a))"
      ],
      "metadata": {
        "colab": {
          "base_uri": "https://localhost:8080/"
        },
        "id": "8tqv7UGmb45T",
        "outputId": "d5052e8c-dfbd-4d4c-ee4b-bd09f5d99920"
      },
      "execution_count": null,
      "outputs": [
        {
          "output_type": "stream",
          "name": "stdout",
          "text": [
            "(2+3j)\n",
            "<class 'complex'>\n"
          ]
        }
      ]
    },
    {
      "cell_type": "code",
      "source": [
        "b = 1 + j"
      ],
      "metadata": {
        "colab": {
          "base_uri": "https://localhost:8080/",
          "height": 165
        },
        "id": "EmpiDovFb8Ab",
        "outputId": "fd59912f-8dba-4303-f049-7b874cd2a142"
      },
      "execution_count": null,
      "outputs": [
        {
          "output_type": "error",
          "ename": "NameError",
          "evalue": "ignored",
          "traceback": [
            "\u001b[0;31m---------------------------------------------------------------------------\u001b[0m",
            "\u001b[0;31mNameError\u001b[0m                                 Traceback (most recent call last)",
            "\u001b[0;32m<ipython-input-33-0f22d953f29e>\u001b[0m in \u001b[0;36m<module>\u001b[0;34m()\u001b[0m\n\u001b[0;32m----> 1\u001b[0;31m \u001b[0mb\u001b[0m \u001b[0;34m=\u001b[0m \u001b[0;36m1\u001b[0m \u001b[0;34m+\u001b[0m \u001b[0mj\u001b[0m\u001b[0;34m\u001b[0m\u001b[0;34m\u001b[0m\u001b[0m\n\u001b[0m",
            "\u001b[0;31mNameError\u001b[0m: name 'j' is not defined"
          ]
        }
      ]
    },
    {
      "cell_type": "code",
      "source": [
        "b = 1 + 1j\n",
        "print(a * b)"
      ],
      "metadata": {
        "id": "kCCUP06zcBPa",
        "colab": {
          "base_uri": "https://localhost:8080/"
        },
        "outputId": "8f6003ad-8b5a-408e-c2e6-2b2a6ca173d8"
      },
      "execution_count": null,
      "outputs": [
        {
          "output_type": "stream",
          "name": "stdout",
          "text": [
            "(-1+5j)\n"
          ]
        }
      ]
    },
    {
      "cell_type": "code",
      "source": [
        "c= 1j*1j\n",
        "print(c)\n",
        "print(type(c))"
      ],
      "metadata": {
        "id": "l6T-js9YcKr0",
        "colab": {
          "base_uri": "https://localhost:8080/"
        },
        "outputId": "d6de9d07-1986-437e-db64-a8071d6c2657"
      },
      "execution_count": null,
      "outputs": [
        {
          "output_type": "stream",
          "name": "stdout",
          "text": [
            "(-1+0j)\n",
            "<class 'complex'>\n"
          ]
        }
      ]
    },
    {
      "cell_type": "markdown",
      "source": [
        "## Les conditions Python"
      ],
      "metadata": {
        "id": "Hwryk3NYBBeH"
      }
    },
    {
      "cell_type": "markdown",
      "source": [
        "Voici ci-dessous les différents opérateurs de comparaison disponibles en Python ainsi que leur signification :"
      ],
      "metadata": {
        "id": "Snu4adefLcWN"
      }
    },
    {
      "cell_type": "markdown",
      "source": [
        "![image.png](data:image/png;base64,iVBORw0KGgoAAAANSUhEUgAAAsEAAAEvCAYAAACkFxwbAAAAAXNSR0IArs4c6QAAAARnQU1BAACxjwv8YQUAAAAJcEhZcwAADsMAAA7DAcdvqGQAAEK6SURBVHhe7d2/TxvJ//jx133/BaQURDrF0tVWpFCcQpTCOgkpRWivIBSE9gh/QKCA6wPUwQWhuDKkOAkpcpFvjK5AOuI6kqO3FKRD4W/gMzM7a8/MrvcXNr/2+Xhr34ft9c7szOz6tTOzm58uFAEAAABq5P/Z/wIAAAC1MegJPj09NW8AAAAAd9H09LT9KwiC3Q9we1B3AAAA2cJ4iekQAAAAqB2CYAAAANQOQTAAAABqhyAYAAAAtUMQDAAAgNohCAYAAEDtEAQDAACgdgiCAQAAUDsEwQAAAKgdgmAAAADUDkEwAAAAaocgGAAAALVDEAwAAIDaIQgGAABA7dzQIPhcDlZmZGZGLTs9+x6uU2/H1sfKgaodV0+29Pt22TpRtffh1Yh1c5xs2e1sqa1mq5wGAACAcokg2A9+igYvRZx/2JDNI5HZ9UM5Xmnad3E5zoVFYnklB2d2tTQqOF3aU/9dbMvxzrxMRe8qug0syb59FTmXzx+70Z9Hffke/VVI71O8pb70s/JziTQAAAC0SkFw1AsXBj/aviypoOrVh0v0zZ0dyMaGCnBUwLX9fBhuXZra7isT8I0nUL9burL5TJVNaq+qCnSXVU0/XpPD8ILkpDNoAwtvj+X4+FhWH07Jk99mozcfN+R+9FchzacL9q+GNO7ZPwcXW26gXj0NAAAArXwQfLIlczpI1XRgpAIfHfwcH7clDmG6GxvZPYuZnsi63t6Ye4DP/+moUA+G7tFNqTc52pSN8ALm7L680Ot5PcChWWlM2z+Vqefb0bYzv5Pi4arN06oMat8JtF2V0wAAAFBKBsHnctAe9P1J2wtAmrL695oKh7SubP4V9bd6c0kHvbHRouePevTnz+ZkbrCO02vrfHfrJOgdHMwldZZBr2Y0DWAQuNvearfXczC/NF7cecheuva9Qe/ksNfb3c9evL1bMZ9Z1Zt7AfPxs9MbrPbTq49hb6zZX91DbNieZFtfifnDQRkOPteLU0bDenC2UzQNK1GXwVQPP41hPeol0R4BAMCdVTII/i79I/vnYmvYWxe790Raj+3fX/tecCLSkY1nm15v7P6yE6DoQDb4PApYnUDY2l/2p2Kc/69v/3IcbcpcECCl0cHUMEC29paqB7Aq3aVwezdeU1qL9s94jq0JXMMpLzoQ9YPKsvrtV9H84pgq6/EEn+HFTiwKnpNp9GV3xd+//eVkWwMAAHdTuSD4rK9Ch4qOutKw80aPnR7jzj86THV6mAdD9YeyZgLqfemEAcxgGsa2zN9zhsbj5a3t1zzqyOezKZnfOZbDdTuHVPdg63V0L7YK9HZtQBbPaR3kba9TOSAabOsW39TX+8tekDhTXtomUI7qrLmi3ovLWZXY2t96HWcawwhdaUXbG7QBVcOf0ku6VBon78zNlNqg/AdtSKXRDi+I1N79dmjWG7aNlLYGAADupHJB8L2GNOyfpalg6sVD+7fTY9z9pvsdnR5m3QtrhqfnBkFN/39++DL72xN/Hqgz3G6WwRB6jtN+FOgp+8v2u4Pe6LwnFIyyIK14P2+tc+l/tX/qHnVbrnEPblRn1Sws2Sk07qjBGAxHA9zyd26gSzxFYkFe2hsvp35tDQJyAABQDyWnQ9yXRhy4pPWUnn2Wjg1cE4Fqlpwe5jDoavzsblnPW40DV9vLO+g9zJY6jWKgK/1T+2cZt/FpBU6PeDTNxbkoSZOY6nL9vn+LL2cAAADylQyCp2R+KQ4w92XJm3PrBqOz0vo1CIHN1AT7tzN0PftAhYxuD7P35AK7ZE0rGATQOgCOhsqzg9uhqZ+H/drDIfThshr06A56pEc8seBW0r3ozlzshae6BJ2LHe8JIHa5gU9kGD5ezZ3S4DxPmEepAQAAR8kgWHm4aueGKs5Qufvc4IW30VxdX3x3v1oG0xXiIemmvIjnZQ6mQ9ilwM1tEfvUB7Ukb45yA17n6RAPXwznjMbTIewyeNaxE6B3N+aiz4tOt7ip3DJ2AmD9j5NEgb9zsePVsV6u+Oax6YadquA/HSIhtS6HU2oG0zAAAACU8kGwYm5Ycm5sGrC9hmEPqqE+aw9uQNKGPbeaubmt4DQGz7152Xa/p/OQth03eB+IbppLvu9yH/2m6Ru0nGfr3gW23rx/nEQ/szetjq+aqt91r92MMqouoykyqW0SAADU1k8Xiv7j9PRUpqedf/FgTPQjyMwNVTrQ4h82mIhJ1R0AAMBdEcZLlXqCAQAAgNuMIBgAAAC1QxAMAACA2pn4nGBMHnUHAACQjTnBAAAAqD2CYAAAANQOQTAAAABqhyAYAAAAtUMQDAAAgNohCAYAAEDtEAQDAACgdgiCAQAAUDsEwQAAAKgdgmAAAADUjvfPJgMAAAB3lfvPJntBsPsBbg/qDgAAIFsYLzEdAgAAALVDEAwAAIDaIQgGAABA7RAEAwAAoHYIggEAAFA7BMEAAACoHYJgAAAA1A5BMAAAAGqHIBgAAAC1QxAMAACA2iEIBgAAQO0QBAMAAKB2CIIBAABQOwTBAAAAqB2CYNxNZwfyauaVHJzZ13VQZp/NujOydWJfj825HKzMyKsP597rmZ2efV3AxPJ2BerY7gDgliIIrpHejgpGVHDhLWWCE9wyPdma2VL/n9T7a1Nk/VBWH9o3bpCbnDcAwN1BEFw3i205Pj62S1sW9pZubiB8sqUC9fQg7kpMIP3zD69kZuVA4n7SiTrpyP5iS5r25YDar6Wva7L+fMq+MUlTMr+j2tpKnIuwpzhwpXmroWs9pnLqHgCuGEFwrTVl9e2CyF7n+gJNTEzv074sPE2EwCIPV+V4Z16FpzfQTc4bAOBOIQiuu+mGzEpf+nYOo+mpdKZLePMy4/mOJ9GczbhHyUyz2Ol50y2i3h47H9R7z+dP0RjOpTTvL++rv/ZlyXyW3Xvl51tt59R+4LJzTQfrZfSAZ6evpxk42wl7dk1vm/O5SScqi7mNrsjRpswF36tS7nmaK8eJKQWZ6WhBGb360Ev23oXlmNmz7fT+me/NyeaRSHdjzm5/+M3cvKUY1X6MuNczyO/I7cblHM7nDXpP/TQL5DMsL7fd6W0nyi9qX8PtxmUY1UV2mqPbZtljavxlm6x7k0biOHR7jId/++0jJe9Z5QwAaS6s79+/27/y/Lh4/8eji0eP0peVgx92PeW/9xcrKetEy8rF+//seriUonX3ZVuV+/YX+8r6942qizcX+t0fBysXj/54r2rYsvX35l//tbeOYrbrrme2mfaeX+eJ/ITrOHnLYvLtrffl4o1J39mWybubvm3HYXm4UtOPtj3YL8XsR1wmiXTU+k4aiTJWqpZ7QiJtX9F0Evum3nOP6y/bbpmE5Ri9Hq6f9zqSm7cUxdqPX27JtuJKy1vwnsrXG/fzMM2wDsLXdnuDfOvvJ+o1bGP2Oxl1G8lpm1pqm04af9lqKeWblh+vzOJ9978XtUvne3nlDABKGC9V6Am2c/wG80r9Zdudy3dvXrZT1omWbZm/Z9fD9dA9J8v7Mrv+QprSk3cbImuvnaFoVX8vF0X2P/k9KgtLKcPVi+1hr+PDF7L2WP038V5XOv/YfimV9u7egrQHc0WVcJ1CdL67svB21Zn72pTVv9dk1r7Soput1p02p9rxUvmpIOcfdmXf3S+l+btK66gjn3VP2WlfutKQxiAdlRd3HxMuWe6F5aejy6gb7tvKYVSXjuaKW9ZT8uQ3VdJf+0FvZhnFy2CgcPuZ9bY79fylLMi+dFJ7LKN96X78PNyXs8/SOZqV1q92Cypfq+457mFLba8r/bSRB2Vc7c5YfJl5zsxtm0VNpGxHMNv1v3P+T0e1w2Bf1X65vy3NlbaX1ljLGUBtMB2ibvSNcPFw4bNNaby1Fy5nfdHh2+YzZzhRLUt79nsDs9KYtn/mmH1w3/6VwgSL8bBsvETDpaWYfC9Iy/nhTzqX/tfhMOxgMUPD5Xz/1vXLUC+qHNW7EfujrvfLHeofaQLlnio3naiMUucQp3CHys0Uj8soXAaOwu3HvSDJZwI5J2hMDci8YfcllYtRxtfutMzjScltm0VNqGzTRRcew4udc/n8UV3UBu0wue/3paEuzvr/08fYeMsZQH1UCIKjOVreycZZvB9+78ciXFLm3mHyFt2nQ4RzRhek7Xw2WDJ7Mi/h8ZocpqTnjSaM0YIK+MO0jo/dXs1iZtcPU7YTj2zEIyVtaaTMe013VeU+hnTsMb0kw3Z0uO72uVdVIW8TaT9NaS3GPZ7JgMwE/8860vo7Tk/3SGYbV7srIrttlnCFx+bUry2ZjXtsdc+7rMmLzIvadFdZzgDuBqZDIHKvIQ1neHHi9A15ZYdpR0rJt+nNik1J45eMofUS7j8IhstHasqqauc6QMxc/6rKvWA6yTL6Ln2nB9D0jOoAaZwBepUyGGv78TWfLkR1ZqZCuKMMPens6WCr6LmrYLs76qtSdpie8fKKt80cEyzbVGbqS1T/un3Jb09UyeXwpqmM7/gGUC9Mh4Cle8DUD8myf9f1+YetyfTY33sircdd2fzTvzO+t+OkHzy5IlU8d9TLd0+2gqFQHdjooWLv7vWzA9nK6qVNSd/0Wh1tyob3PZVefCf6yVbm0wKmfm4EQc9VlXteOvEcSr+Mejv+cH8i/6oMN0pNh4gClu43N+yrUAZF2k9VekqLdOTdXyogM/PlY+4QfCQsn1BuuzNzivdld9CezuXgzwpTGJTctqkVOqYmVbZpdR/R5bT/6UA+f5Th/GuHnuowLENbRo9b8sRejFQ6vgHUHkEwBvQjtdqL/lzAuW+tCfXY6xGFQxVs2MeF2WX3gRN0mAA3nis6+gc4mW89XO3fGGeeP/tW/dAuD9OaedaXVtbwblr6enRDbVu8+Ye70vh9GCq5acx9bMmh+9xbZ85w/Piqqyr33HRSyqjzNLgxTq3jbeNPkZclp0OYm7Xs3NV4qkj5MijQfirT81RVPe6FAZlK87Vf952nOdMhcttd9Kzu4XzWDZHX+VMsUhVom8WOqcmVbVrdG/piYG9TNn9Jv/lvdr0tjXaclzmVs7XguKpwfAOovZ/0IyL0H6enpzI9fZk7b3BdqDtMjr4HYE46vx1ObK42YHqsZ5ZE3ob3KdD+AIxPGC/REwxgtPARYcAk6H/iW/Ke8gIA40UQDCByshU8yaInW/oRWznPpwUu51wO2vHzygHg6hAEA4hMN4L5pEvmH1+Y2CPyUHvRP4U8J5u/+P8YBgBcBeYE3wHUHQAAQDbmBAMAAKD2CIIBAABQOwTBAAAAqB2CYAAAANQOQTAAAABqhyAYAAAAtUMQDAAAgNohCAYAAEDtEAQDAACgdrx/MQ4AAAC4q9x/MY5/NvkOoO4AAACy8c8mAwAAoPYIggEAAFA7BMEAAACoHYJgAAAA1A5BMAAAAGqHIBgAAAC1QxAMAACA2iEIBgAAQO0QBAMAAKB2CIIBAABQOwTBAAAAqB2CYAAAANQOQTAAAABqhyAYAAAAtUMQjLvp7EBezbySgzP7ug4mtc8nWzIzsyU9+zJ6HaRj0p5R78/I1knGezH7WeJ9XE5YVwCAkSoEwT3ZqltwcUf0dqKAxFt2+LnEZalzwrNNabw9luPjY1l9OOq9od5fmyLrh4n3AQC4KvQE181i2wQl0dKWhb2lmxsIX3ev1gTSP//wSmZWDuTcvr6VHq6qtrMt8/fs67O+9GVWGtP2tZb2XkyV69LXNVl/PmXfAK4JPedArREE11pTVt8uiOx1+BHA1dFB9M68EAIDAK4TQXDdTTdkVvrSt9NbTE+lM13Cm7MZzzk9ied6Rj0oZprFTs+bbvHqg+7rPJeDlfA9nz9FYzjNxry/vK/+2pcl81l2b42fb7WdU/uBy5mjapaMHvDs9PWUIGc7Yc+u6V1yPjfpRGUxt9EVOdqUueB7Vcq9CL98i83B9b+TkpbTe2by/WxTuup/m8+i9f9/ynvxNqruZ6Hvnfn1kmxvfnsMtzOqLY6W3Q7M9lTd+3nPqLvBftjXMa+3Mkgza3tWZtnpbSdGJqI0BuuVan/ZZRxtO7mPcVllMvlwtu2uX7gNDJk0w2O8SB0M/s5LK6ir2z4CBNxFF9b379/tX3m+XLx5tHLx/j/7Uvv3zcWjR49GLG/UNzBJRevuy7aqj+2gNkzdRXX042Dl4tEf7y9+RJ9cXPz3/mJF1eGbf/3X3jqK2a67ntMe/Pf8dpPIT7iOk7csJt/eerqN6vSdbZm8u+n/uHj/R5B+KDX9aNuD/VLMfsRlkkhHre+kkShjpWq5J4Rpq9dvDpxvpNRByNsXLU7bLYewXMJ0tZT3qu5n4e8l8hjUg14naG/xNnLbYkJOO4hfq3VWBnWQ1+aiz4fra/57Pw7eeHlK1FdQN7llp9cPyjuxbyPqJSmljO13h/uk10mWa6L8Q2Y77veCsizUBlIE5ZVeB0H+zHeCtFL3M7t9ALh6Ybw0np5gM0cwnmcaLqvStKvhhtG9Hsv7Mrv+QtVRT95tiKy9doap783Ly0WR/U9+D83CUspQ9mJ7eJPTwxey9lj9N/FeVzr/2L4Qlfbu3oK0V5zWEa5TiM53Vxbeuu2sKat/r8msfaVFN2KtD+exqj2YXyo/FeT8w67su/ulNH9XaR115LPuPTrtS1ca0hiko/Li7mPCJcs9i9rOqjvv9mFLFlTu+mm95Jqpk9lEXrb1lJlLq7qfJb7ntoGgLZl6e7wmh157W43qsUJbzG0HMZXmcO5zXpubkie/zUr34+dhj+HZZ+kczUrr12gbU89XnTas0nyqtnfUl+/2ta942RWR1/5Sy1ilt74e7FMFRY/frDZQTLRdP7896ejj4ndnv9TZZe1vJ61gPwu3DwDXqkIQfF8aOsDB7aRvhIuH5+zd+9v6R9rcyBQPXw+XpT37vYERNzulmH1w3/6VwgSL8TBkvMzJ5pH9vCiT7wVpOT82SefS/yrS3Zhz0lKLGQot5/u3rl+GejFD/5b54Y32K2sodmAC5e4xw7vxdpdUiWfQdfK4JU+cIGtsqu7nmMpH19vsb0/Sg7gKbTG3HcR+aWQGjqGp5y9lwQmUzv/pSHfxpRf4etMbstpw4bIrIr/9jSrjqV9bKvgbFagXUfT4rXiMhPTFohusnnRUcB8eF+6FbmTq58bggqRw+wBwrSoEwepKece5M1wzc6Scg91b8ues4Qotuk+HCB9dtSBt57PBktmTeQm61yglPROUT8CCfVyXv5QfqZhdP0zZTnxM6ONDv25Lw/5o5wfDkyl3M+fxWUdaf8fbbKuUrlPV/byCdlmhLWa3g6qa0lqMey/P5fPHriw8jfczmmM697E1zGtuL/0VH9MTNK7jN59bB6rUP+2XH4VRJtM+AIwT0yEQudeQhuxLx7uJZYL0DXljGxpMybfp3YtNSeOXakPAofsPig7tNmVVtf/DvKHgiZW7HsLVgUPJH92UOjn/X9/+dQlV93NM5ZNZbxXaYvF2UJ6e4mC2baZCOKMcukdSB7VFn6xRtOzCXlrTg1zeqDIxvdmPGzIcFwqn5EQ9vaON7/gtSk9dELMv+jjKG2mK6GBZFlvm926S7QPA+JQPgu3wqn/HL24/3fuhfmiW/Z778w9bBe6Sr+DeE2k97srmn+Ed9U76wZMrUsVzHL1892QrGCo1cyf3lvx2q9ryVlYvbUr60dDupmx431PpxXeqn2xlHhvukGlkUuUeTVvq/2+Yz95OznQIO4fSqxNVRhv6iRaXVnU/x1M+0TSDTZlznygQ11WRthjIbQeXoetBOvLur46Ima9vJdpjsp37CpSdmSe+L7uD/TiXgz+rDdunlrFtP8OeVJun9rCszz9s5E6DqnT8FjHqHKPbhKqDzx/UhYcNbH37suQ+7UG1JT3NJO61n2j7ADA24+kJxp3QXDmW9qI/N3LuW2tCw3d62sCh+rG3jwuzy+4D50ffBLjxnMbRAUky33oKgH9jnBmteKt+7peHac0860sra+pFWvrqvW21bfHmJ+5Kw7lpxk3DDF27PXfOnOH4kUmTKXdVvq/9fHae5k2HSKmTP1UcNpYb46rv53jKR/fM238cJt7OstgevgJtMVSgHVSnb5BT7UgFVfENcYZKc31dnDm+qp3n1E1+2UXPCh/Ot90QeV112kxKGdvpON4NYitqHR0s23U2ZF3l0X44SpXjt4iR55ioDjY3+sENcbEFaS/1h+1FXYzo6RqD/Zxo+wAwLj/pR0ToP05PT2V6ehx3FeCqUXcAMF76BsTERaym74FRF1BtpvoBt04YL9ETDACAJ7opceQTRQDcCQTBAAC4Tt7J5tGCvJzQk2oA3AwEwQAAGL3onzpe7vv/GAaAO4k5wXcAdQcAAJCNOcEAAACoPYJgAAAA1A5BMAAAAGqHIBgAAAC1QxAMAACA2iEIBgAAQO0QBAMAAKB2CIIBAABQOwTBAAAAqB2CYAAAANSO988mAwAAAHeV+88me0Gw+wFuD+oOAAAgWxgvMR0CAAAAtUMQDAAAgNohCAYAAEDtEAQDAACgdgiCAQAAUDsEwQAAAKgdgmAAAADUDkEwAAAAaocgGAAAALVDEAwAAIDaIQgGAABA7RAEAwAAoHYIggEAAFA7BMEAAACoHYJg3E1nB/Jq5pUcnNnXdXeyJTN3tDx6OzMys9OzrzCKKaeVAzm3r2ur6rFgzimqDNWydWLfi9nPEu+nuPn1cC4HKxxTqAeC4BoxJ197Eh8snOgAIEdPtp5tSuPtsRwfH8vqQ/u21ftrU2T9MPH+7TQl8zttWdjbpRMBdx5BcN0sts1JPFr0iW7p5gbCpsdmS/38XJMJpH/+4dX19AI9XFX1vS3z9+xr3ABRj9urD5doDSXaaHNFHfM78yrEKUIFfQV7Nm+Ognmuciyc9aUvs9KYtq9dqg6Wvq7J+vNiJVuuHq5LU1bfNmTzzzqMHNzGto5xIQiuNX2iWxDZ64w10AOA2tBB9Y0Paiu4q/sFOMYYBOteDeZg3jrTDZmVvvRtvZmeyniqRHh1HM+zPYnnxkU9UPGcTHe6RdS7ZeeWee/5/Ckaw/Zj3l/eV3/ty5L5LLu3y8+32s6p/cDlzOkzS0YPeHb6Uc/BYDthz67pnXM+N+lEZTG30RU52pS54HtVyj2NX57OdvJ6DPXniR7qoIckzseZv//Jes0pH9eIfPk95sH2ctqCllWe5rOw7gf7FrwuUOa57SqtPZjvzMnmkUh3Y868P7pH2D+O4uNkZBsdkXezfl7edJmb95bUVtWWl6P33fLz25hTZkqchrtO0XNB5jEQt5OgrP32PTrPnnhb9mWcZz/94efm/Web0lX/23yW8tngO0GaJeohq0wLtdd4n8x/1TacYy5r22nCfRrdLiOl8jeq/mLB54ntJmSfG3LzNqrdxOukHf+l84gb7cL6/v27/au8L9uPLh49enTx5l/7Bq5U0boz9bT9xb6y/n2j6u7NhX73x8HKxaM/3l/8iD65uPjv/cWKW6/2tbeOkqh/s82091Yu3v9nXyuJ/ITrOHnLYvLtrffl4o1J39mWybub/o+L938E6YdS04+27bZ1sx9xmSTSUes7aSTKWKla7qHEdlT+/fLPKEv9eWL7wb7G+XC3Y7Yb7G9W+SQk1w/f+3Hwxtl+cnthO8orT/N5WO9hvRUs88T31Npeu0p87raHaN2Vg8wUUvbPKY+0eh2R99RyCvO+HX8nrV6S2wjr33zufs98nvaem67NS0adDbbjrBPlP3nch3lOCMoszvOwHlLODYl6LJDngvWQV6aF2mtcPsF6edtOctunEu5TilL5y6q/8Dtp9RDIOzcUyltau7H7HdZdlTziZgnjpUv1BMdXmJ2n6TcL4IbTV7TL+zK7/kKa6jr33YbI2mtn+OvevLxcVFfIn/wr3YWllCGyxfaw/h++kLXH6r+J97rS+cf2Kqi0d/cWpL3SjF5r4TqF6Hx3ZeHtqtqHWFNW/16TWftKi25cWXfmAU7J/FL5qSDnH3Zl390vpfm7SuuoI591z8JpX7rSkMYgHZUXdx8TLlnuju/fuiK/NIbrPFydyDHplXVQZ7nlk9CUVrivJx3ZlwVp2W1MPV/15m82n6p6O+rLd/vaV7w8i8gr89x2Vbo9hM6l/1Vk9sF9+zpZHqNk5z0+bty5sSrvKxnfKXrMlj0XFK6zWW+dqecvVSvZl86oHt8yHrtzeoucG8Z03I7tPKip8vnd2U6lbQft894Taan66/+vbF7SZNdflXN0uXNDeWHdjet3BDdHpSA4Hi7ZfXBI8Hvb6Bvh4mEce7fztj75mxs/4uG+4bK0Z783MOLmkBTuD3eCCQ7iYdx4iYaHSzH5HgZM6aJAIh52HixmKLkcE2i6ZagXM1RqmR+ZaL/yhhGNMZa7CTZN3vKHPKvLzkdu+aSI8j38Eel9ii/Mhrwh2qx6K1yeReSVeYF2VbY9JEQ/slEa/lBvtpy8FzpuApc4ZjPPBYXrzL2YGDP34rGIcR234zoPGkH5VN62O8Wgal7SZNVf9XN04XNDaWHdje93BDdHpSB46vm2HP+9JlL6xIxrt+g+HSK8gFmQtvPZYCnVc1XC4zU5TEnPBOUTsGAfb+Qvbg9yMbPr0cWfv8Q9aipo2dGv29KwJ8v84GdM5X5vXrb19/Rd3ebHeZLB8GjZ5ZPC9DbFPUI96ezNSuvXuA1EP8hzH1vDtqJv5sx0te04u11VaQ8B8zSDYzlc79uA5hrPuRM7Zq/43DMWY8rzJM+DJbcdBZRLIoM2fagu4uyHV6DcObrKueHyxvU7gpuh+nSI+Af3uCUdc2LOuBEBN989dZXuDE1NnL4hb+QQeVkp+Ta9ILEpafxSbTg8dP/BrHQ/fpb8MKYpq+r4OFzPWX8S5W6CJv3jVXJINRxGNL1d5RQvH9eUPPltNqofPRXicUuexAGznRrRLnqXetHy/Nr38+i1l6LKtKuC7SGD6XzQjzUcR3up0u7Gesw6rvrcMw7jynPRMq3SXkvX17l8/tg1F7GlR3cvfTxVOEcXPTeM5VjXxvc7gptjDE+HiE7u+ke30b6enieMg52buRzeXbs1mTo1vX/dxHMoeztO+sGTK1LF8/C8fPdkKxiiMnPF9pYSd29vZfXKpaQ/9WtL/bBsyob3PZVefIfwyVbmxeDUz40g2BxfuXtlV9bDlgmudgf7dS4Hf2ZPY0iTWz4jmPmBex3Z+qR+1tx5eIk6SNatL7884zy+G9RT3jZHy21Xme0h+lHtfsuawajqYSfj6RpFjpFUTXmhAvL9Zfec7aZ1XxrhXNAix2wl4zoGUvI8MWPKc4EyrdxeS9dXsj2ef9jInQ4xruOp9Dm6wLmhWN6Kt5tKvyO40cYQBMf0sB8P47/N9EPc24v+HLK5b60J1aluL4eyJvZxYXbZfeDMBTUBbjzvbvQPbTLfHWkFN8aZ3tG3Ksyzj8Exy7O+tLKGHNPS1yMgg6lA8bZ2peHckOKmYYbq3J4KZ45o/Bij8ZW7u4056fx2WGJIVV3MqvIZznfbEHmtex1LKlA+6XRQsS/7e8E8VbW99XVx5l6qus0Z8swtT7NNHQA62wzbS1EF2lVWexjO486YJvHVPUaioepBT11aGy1I9ywfemWr2syDJzZv7lzkeJSvwDFb0XiOgbQ8T87Y8lzgPFitvZavr+aK/QeU7Lob8jJ/OsS4jqey5+gi54ZCeSvRbqr8juBG+0k/IkL/cXp6KtPTmXeB4Iai7gAAALKF8dIYe4IBAACA24EgGAAAALVDEAwAAIDaIQgGAABA7RAEAwAAoHYIggEAAFA7BMEAAACoHYJgAAAA1A5BMAAAAGqHIBgAAAC1QxAMAACA2iEIBgAAQO0QBAMAAKB2CIIBAABQOz9dKPqP09NT8wYAAABwF01PT9u/giDY/QC3B3UHAACQLYyXmA4BAACA2iEIBgAAQO0QBAMAAKB2CIIBAABQOwTBAAAAqB2CYAAAANQOQTAAAABqhyAYAAAAtUMQDAAAgNohCAYAAEDtEAQDAACgdgiCAQAAUDsEwQAAAKgdgmAAAADUDkEw7qazA3k180oOzuzrujvZkpk7Wh69nRmZ2enZVxjFlNPKgZzb17g6hcv+Nhynd/hcgvohCK4RcyKeCRaCBwCYHHVBvru3IO2deZmyb91qD1flcF1k8y9+O3D7EQTXzWJbjo+P7dKWhb2lmxsImx6HLbm23E0g/fMPr66nN079cB0fb8v8PfsaN8C5HKzMyKsPl2gNJdpoc0Ud84UDsZ5sqYvkrRP78la4iXlWdfznpjTerkrTvpPplhynU8/XZe3r0i1rH1WM4RjFjUYQXGtNWX27ILLXub5AEwDurCmZ3zmW1Yf25Z1xV/cLdVMpCNa9WVwZ3RHTDZmVvvTt/C7TU+lMl/Cu9ON5tif6v/rzqAcqnpPpTreI2kd0Fe2/5/OnaAznmZn3l/fVX/uyZD7L7u3y8622c2o/cJn8x+uoJaMHPDv9qMdpsJ2wZ9f0zjmfm3Sispjb6Iocbcpc8L0q5Z7GL09nO3k9hvrzRA910LM2mGft73+yXnPKxzUiX36PebC9nLagZZWn+Sys+8G+Ba8LlHluu0prD+Y7c7J5JNLdmDPvjz6n+sdRfJyMbKMj8m7Wz8ubLnPz3pLaqtrycvS+W35+G3PKTInTcNcpei7IPAbidhKUtd++R+fZl16e8fvh9/y26JSjV3Z+OUSyjoMorVcfeoO8mHTj/YxWimS1L71+4vgacdymteWsbacqeSyWyd84zyuW31aDus3Lm8lX+jEatvNhXsvnEdfswvr+/bv9q5gv248uHj16dPHmX/sGrk3RujN1tv3FvrL+faPq8c2FfvfHwcrFoz/eX/yIPrm4+O/9xYpbx/a1t46SaAtmm2nvrVy8/8++VhL5Cddx8pbF5Ntb78vFG5O+sy2Tdzf9Hxfv/wjSD6WmH23bbfdmP+IySaSj1nfSSJSxUrXcQ4ntqPz75Z9RlvrzxPaDfY3z4W7HbDfY36zySUiuH7734+CNs/3k9sJ2lFee5vOw3sN6K1jmie+ptb12lfjcbQ/RuisHmSmk7J9THmn1OiLvqeUU5n07/k5avSS3Eda/+dz9nvk87T03XZuXjDobbMdZJ8p/8rgP8xwaXZ5RfYTfD/MW72N2WSbzYr432I5tJ0E5JOozr33p9YN6TqQ9oj3kbjtF3rGYUCZ/Yz2vKGq7b9xjK9xmkbzZMgmP0bgNuPmplEdcuTBeqjwdwswvOz6W1qfoise7wsLtoK90l/dldv2FNNUV7LsNkbXXzpzBe/PyclFk/5N/rb+wlDKvcLE9HBp7+ELWHqv/Jt7rSucfe12s0jY3i6w4M+XCdQrR+e7Kgjfnrimrf6/JrH2l9f7aFFlfd+baTcn8UvmpIOcfdmXf3S+l+btK66gjn3VP0GlfutKQxiAdlRd3HxMuWe6O79+6Ir80hus8XJ3IcKVX1kGd5ZZPQlNa4b6edGRfFqRltzH1fNWbI9l8qurtqC/f7Wtf8fIsIq/Mc9tV6fYQOpf+V5HZB/ft62R5jJKd9/i4ceefqryvZHyn6DFb9lxQuM5mvXWmnr9UrWRfOqV+e6qXp+fxmhw65WDmyFY5DhZfZqY9rvOWFraHKtsudyyWM97ziqLa0OpzZ48ftlR76Uo/bZSwCtUGXjj5qZRHXLtLzwmOguFDabR1MJw2JIQbRd8IFw/VPNM3bBzLtj5RnPVF/1xvPrOf2WVpz35vYFYa0/bPHO4PTYIJDuJh3HiJhp5KMfkeBkzpoh++eEhrsJih5HJMoOmWoV5UOap3I+bkHe1X2pBvwhjL3ZxwTd4meRxm5yO3fFJE+R7+8PY+xRdmQ95QeVa9FS7PIvLKvEC7KtseEqLAJEojZ+jZk5P3QsdN4BLHbOa5oHCduRcTVVUtz4B7sWlMSeMX1Ra+ReFg0eMgs1zGeN5Ktofq2y58LJYy/vOKYaY0xN+JpsuMTdAGKucR1+ryN8aZOUzqRCjqypi7z28+daU6fDpEeGPDgrSdzwZLqZ6rEnRvSkp6JiifgAUV8IdpHR8XvGvbMbt+mLKduO2rH9kd/botDfsDkx/8jKnc783Ltv7e24YNKK7nojS7fFLceyItFShGPXo96ezNSuvXuA1Ec+zmPraGbUXfzJnpattxdruq0h4C5okBx3K43vfn/l6HiR2zV1hnV1SepY+DEcZ13kpTbttVjsXxKVueZr7us460/o7XbatWNlnjqnNcncpB8GDC+adWVNF35RmIdXWvIY3SQ4uXoG/IG9swUUq+Ta9VLOqlqTIcHrr/YFa6Hz9LfhjTlFV1XByu56w/iXI3P/KHwZBzAeGwpumhK6d4+bim5Mlvs1H96KkQj1vyJP7RsFMjCj9jtWh5fu37efTaS1Fl2lXB9pBh6vm2qlf9Qz6G9lKl3Y31mHVc9bnHGlWe/f/5tWN6+HLpizcVVD6Nwsdqx0GoYPuqdNxWOCeWPRZj13JesfXhTfdJMYa8xcZT57hqlZ8OsfvAXvFMqpcQV8zOzVz2e0XOP2xNpjfR9P51ZfNP/+7Z3o6TfvDkilTx3EEv3z3ZCobpzNy1veC5lmcHspXVK5eS/tSvLRUIbMqG9z2VXnxX9clW5vz4qZ8bwYl3fOXulV1ZZr7cvuwO9uvcPN+0bGCYWz4jmPmdex3Z+qR+Zt25i4k6SNatL7884zy+G9RT3jZHy21Xme3BH0JPp+phJ+MO8yLHSKqmvFAB+f6yO1rgpnVfGo+DgLDIMVvJuI6BlDwnZJVndDHW3Xg3zIeqv9SpNKrO3R793o4eanfmsVc8DkK57esSx23pc2LpY1G5tvNKsi1EdeQolLcix2hkXHWOq1UpCNZX0JMassb10fO724v+nL+5b60JDeXoYeJDWRP7uDC77D5w5oKaADeeKzj6hzaZbz0EtqZO2A7dO/pWnfLs45PM8qwvrax2nJa+nnKgti3eXLpdafw+vBh00zBDh27PiTNHNH58zvjK3d3GnHR+OyxxnDbNM6OHcwQ3RF5XGD4sUD7pdCC0L/t7wTxVtb11/a9TDeaLqrrNGYLNLU+zTR0AOtsM20tRBdpVVnsYzuPOmCbx1T1GlkTeOtOY0tpoQfo8bv7lr0HZqjbz4InNmzt3Nr7xucAxW9F4joG0PKfIKM/oBjcnH59Ufam2krDYlpffhm18Sd8w6E4jqHwcBHLb1yWO27LnxArH4qXy5ypdnqotvPbX7zwN0y2Wt0LHqDauOseV+kk/IkL/cXp6KtPTmXeB4Iai7gDgauipgEvSZhQUuIXCeOnyN8YBAAAAtwxBMAAAAGqHIBgAAAC1QxAMAEBB+iY+5gMDdwNBMAAAAGqHIBgAAAC1QxAMAACA2iEIBgAAQO0QBAMAAKB2CIIBAABQOwTBAAAAqB2CYAAAANQOQTAAAABq56cLRf9xenpq3gAAAADuounpaftXEAS7H+D2oO4AAACyhfES0yEAAABQOwTBAAAAqB2CYAAAANQOQTAAAABqhyAYAAAAtUMQDAAAgNohCAYAAEDtEAQDAACgdgiCAQAAUDsEwQAAAKgdgmAAAADUDkEwAAAAaocgGAAAALVDEAwAAIDaIQjG3XR2IK9mXsnBmX1ddydbMnNHy6O3MyMzOz376g6qXHfncrCiymYmrXzsZ0XK7Q63nTJMO1s5UCU3ZmM7V/VkS9X1qw9jzyFwZxEE14g5iesfRHe5y8EDUGO9nTnZ/KUtx8fHcrzStO9aJ+9kU9bkMHwf6VSguru3IO2deZmyb908TVn9e01k450KhwEUQRBcN4v2R9EsbVnYW7q5gbDpgdq6vhP6BNI///BqMr1JeR6uqvrelvl79jVugKg3NrfnrlLdnUv/q8jsg/v2tasnW8t9WXtdMKCrfdtR9fTnpjTerqow84a7Ny/r631ZqkHnxrWdS3GnEATXWlNW3y6I7HXoOQBqQx33XBCVMCXzO8ey+tC+vOGmnm8ne/4BpBpjEKx7NZg3dutMN2RW+tK39Waurp3pElsn0ftGPHftRP9Xfx71ksZzMt3pFlHvljMncfCez5+iMWw/5v3lffXXviyZz7J7ZP18q+2c2g9cJv/xOmrJ6C3JTj+aezfYTtgbYXqQnc9NOlFZzG10RY42ZS74XpVyT+OXp7OdvF5t/XmiVyXaz8E2BnMX/f1P1mtO+bhG5Mvv5Qm2l9MWtKzyNJ+FdT/Yt+B1gTLPbVdp7cF8Z042j0S6G3Pm/ZE9wmEZxa+DdP168rftfxbkJWY+S9nnlDrKbK96/aJtKaV8M7c9QvidsA4K1Xmq/Lbspx3vk7/dkcflSCWOIatcGnr7yX032xiU03Ckwtt2Sl78tPPKNFlfftvPy1vGuTRuq+a/zvtK2TyiJi6s79+/27/K+7L96OLRo0cXb/61b8T+e3+xot7XnyWXlYv3/9n1cClF687U0/YX+8r6942qizcX+t0fBysXj/54f/Ej+mRQf4N6jevTXUdJ1L/ZZtp7fp0n8hOu4+Qti8m3t96XizcmfWdbJu9u+j8u3v8RpB9KTT/attvWzX7EZZJIR63vpJEoY6VquYcS21H598s/oyz154ntB/sa58PdjtlusL9Z5ZOQXD9878fBG2f7ye2F7SivPM3nYb2H9VawzBPfU2t77SrxudseonVXDjJTSNadee3nzeyTV78p2y6U15R9DtLPba9l2lKwXu62U5j6T9l3dzuF6jwhvy0nyz36TnjueePWQ3jMJPKRn25CXhoJOo3k5/6xZMvRy0uUN7ddhcdfobTd9RN1XCRvKW1FM2kH+VHK5xF3VRgvXaonOL6y6jyN5pgmhovuzcv2YP5puDAcd+10T8jyvsyuv5Cmuvp+tyH+PEFVfy8XRfY/+T0oC0spcwkX28P6f/hC1h6r/ybe60rnH3tdrtI2N5q4w3bhOoXofHdlwZuvF90gMmtfab2/NkXW1502NyXzS+Wngpx/2JV9d7+U5u8qraOOfNY9C6d96UpDGoN0VF4yhyYvWe6O79+6Ir80hus8XJ3IEK5X1kGd5ZZPQlNa4b6edGRfFqRltzH1fNU7VzSfqno76st3+9pXvDyLyCvz3HZVuj0UNevt49Tzl6rE9qWT0ftX9BjI3udJlm+FbZvziCqLv93jX+3X66w2V0x+Wy527tH7sPrcKdGHLVVXXemnjVYp5Y8hpWQapXh5acqL9Vnpfvwc9bBWOo8Hx8C9J9JSvxf9/5U572dR7eF3Z/tj+63BXVQpCI6HMnYfHJqAdhI/tJgQfSNcPCT0TN/scSzb+uR51hf9c735LB4uipalPfu9gVlpTNs/c6TflGOZ4CCeahAv0RBuKSbfw4ApXXSTUDw0PFjMdIdyTKDplqFeVDmqdyPm5Brt18jhbdcYy938UJq8TXKoLzsfueWTIsr3MBDrfYovzIa84dOseitcnkXklXmBdlW2PRTmBtZFFD0GcvZ5kuVbZdv6PPK4JU/CsjCB1eWCwNy2XOjcY+kOh8F2ltSZb7Qqx5BRIo0yJnMed6d7VDjvZwqOjXH91uBOqhQEm4n35lEs+oTqzxXzeAdluDAn51qoq3q3R96/gFFXy85ng2UsPVcpHq/JYUp6JiifgAUV8IdpHR+Xv+N7dj26+POXeGQjuolGP3mjYQOO/OBnTOV+z468vG3YQOJ6jrHs8klhApa4F7Mnnb1Zaf0at4Hox3LuY2vYVvTNnJmuth1nt6sq7WFyxnMMTLJ8r/gclKN0W05hRkyfdaT1d/z9ttrLbGXTrZLG2JQ8j0cXtEsig7Z4qC4U7YeTcsW/Nbg9qk+HiH9wj1vSsYFtYiL+YJ20hekQN8o9dfWsrpazhlPHSt+Qd8nhyqGUfJur/9iUNH6pNlwbuv/AGQrM1JRV1c4P3aHDNJMod/NIK/3DUnK4L5xiYHq6yilePq4pefLbbFQ/eiqE27Nnp0YUfj5r0fL82vfz6LWXosq0q4LtYWLGdAwULd8qbanKsTDqPHL2WTpHQU9zyTov1pbzzj36ok5ffBT/vSt/DJVPIxL2lEejBaWUPo+fy+ePXRPkZ48gjyFvsbH+1uCuGcPTIaKTu/7RbbTp3b297NzM5fAu8K3J1Kkdrtz807/TuLfjpB88uSKVutAycwa9fPdkKxjmNfNI95b8C7WzA9nK6pVLSX/q15Y6oW7Khvc9lV58R/XJVuZd2VM/N4IAYXzl7pVdWWYO4b7sDvbr3DwbtWxgmFs+I5g5rXsd2fqkQl53nmiiDpJ168svzziP7wb1lLfN0XLbVWZ7iALT7rf02c3jVukYSCjQXiu3pQrHgjn+9RQK9zs2vcWXg6CwSp3ntuVC55770gjmu/Z2sqcqlD+GyqcxKOv28Px7/mGj/BSBIudxT7LNJ9MtlrfkuXSE0nlEnYwhCI7pYT96d2+z5sqxtBf9uVNz31oTqlPdXg5lTewjbuyy+8CZCzr4gdOfjT5hJfOthwWDm1N07+hb9dO8PExr5llfWlnDYWnpq/e2B1OB4m3tSsO5EcNNwwzju72YzhzR+PE94yt3dxtz0vntsMRwn7qYVeUznDO6IfK6wpBqgfJJp3/49mV/L5hjqba3vi7OPFFVtznTIXLL02xz1qmnlPZSVIF2ldUehvO4r2CaRJVjIEV+e63elqocC8nvRG3fm0JRpc4LtOVk2uF2o5v03G10nuaUReljqEIaSnNFraOC7fj8uyHral/sh4UVOI8HTLrOnOcNeZmYDlEobynn0nTl84j6+Ek/IkL/cXp6KtPTmXeB4Iai7gDghtD3wpj5uXQKATdNGC+NsScYAIB6O/+nk/7ECgA3DkEwAAAV9HaC+2BOtsy/ZJb3fGkANwNBMAAAFdx/4M5XV8vyvnkMHc/OB24H5gTfAdQdAABANuYEAwAAoPYIggEAAFA7BMEAAACoHYJgAAAA1A5BMAAAAGqHIBgAAAC1QxAMAACA2iEIBgAAQO0QBAMAAKB2CIIBAABQO94/mwwAAADcVe4/m+wFwe4HuD2oOwAAgGxhvMR0CAAAANQOQTAAAABqhyAYAAAAtUMQDAAAgNohCAYAAEDtEAQDAACgdgiCAQAAUDsEwQAAAKgdgmAAAADUDkEwAAAAaocgGAAAALVDEAwAAIDaIQgGAABA7RAEAwAAoHYIgnE3nR3Iq5lXcnBmX9fdyZbM3NHy6O3MyMxOz77COJgyXTmQc/t6JHOczcjWiX1dVxMrh3M5WJmRVx9yayJHtB2OE8BHEFwj5odNnai9hZMiAJcK6Hb3FqS9My9T9i1k6/21KbJ+KKsP7Rs3zpTM77RlYW+XjgHAQRBcN4ttOT4+tos+KS7d3EDY9F5uybXlbgLpn394VayHbdwerqr63pb5e/Y1boBx9fKNk8rTn5vSeLsqTftOpnvzsq3OJTc3+LsC6jyx9HVN1p/f9EuGpqy+bcjmn9dw/rlq1/3bgVuDILjW9ElxQWSvw8kCgKJ7DGse1JalLzBvS6/5bcorcAUqBcG6N+tm9V6gsumGzEpf+naIzPRUOtMlvDlu8Tzbk2j+W3ylHc/JdKdbRO3DzkPz3vP5UzSGc1bN+8v76q99WTKfZV/V+/lW2zm1H7jsvL3Behk94Nnp92TL3U7Ys2t6IZzPTTpRWcxtdEWONmUu+F6Vck/jl6eznbyeEf15ooc62s/BNuJ8nPn7n6zXnPJxjciX32MebC+nLWhZ5Wk+C+t+sG/B6wJlntuu0tqD+c6cbB6JdDfmzPujz6n+cTQ8TqL3vbai+GWnDMr4cvVm2pbKe9zGzPfDctMyy0OnEayvxNuORPv16kNvsN9+Gxy17RHC8g/bY5G2P0LmcasF+Y33ySv7cJ8SeUnyj/NkeYbCfI5ua1qxdhXXmb/tEceyk3ZemWaXR37eTL7Szt1mu+nHdOk84u64sL5//27/KubL9qOLR48eXbz5176R5r/3FytqHb1eclm5eP+fXQ+XUrTuTJ1tf7GvrH/fqLp4c6Hf/XGwcvHoj/cXP6JPBvU3qOO4Pt11lERbMNtMe8+v80R+wnWcvGUx+fbW+3LxxqTvbMvk3U3/x8X7P4L0Q6npR9t2273Zj7hMEumo9Z00EmWsVC33UGI7Kv9++WeUpf48sf1gX+N8uNsx2w32N6t8EpLrh+/9OHjjbD+5vbAd5ZWn+Tys97DeCpZ54ntqba9dJT5320O07spBZgop+xeXR/R9v+zs/rn5NnWktuHWm92/Ydr59WZeB+ukl1tGeZh03M8j/j7a74Tr5W47yZRFsJ1oP4I2nKjntHbpy2tniddKXIZunX/Zdo/LcJ+i1/76wT4njsGQ2+aUlHz5ojTDz8P9Te5Lsj5yyyhFkfLIy1tUJu52FJt2WNdV8ojbK4yXKk+HaK5E80pbnzKunOx8seEcVHdhfuK101fG6op5dv2FNNU18bsNkbXXzlCZqr+Xi+p6+pN/bb+wlDKcttgeDqE+fCFrj9V/E+91pfOPvaZXaZubb1acmYfhOoXofHdlwZvD2JTVv9dk1r7SohtX1p02NyXzS+Wngpx/2JV9d7+U5u8qraOOfNa9Mad96UpDGoN0VF7cfUy4ZLk7vn/rivzSGK7zcHUiw9peWQd1lls+CU1phft60pF9WZCW3cbU81XvXNF8qurtqC/f7Wtf8fIsIq/Mc9tV6fYQOpf+V5HZB/ft62R5FDMra3879abKZH19VrofP5ves8L19nhNXmS0qXEdZ8biS28/y287Pjf4vzXNlbZqXfvSuVRvX3470/nthmW6chidGx3NFffcNSVPflNnrq99p/fTUem8GbS5e0+kpfLQ/1+Z8+wIqj0M50KH9VHtWCxVHhX4x/R4zxe4fS49JzgKhg+l0dbBcP6wDK6ZvhEuHvZ5pm+AOZZtfRI764v+ud58Zj+zy9Ke/d7ArDSm7Z853B/uBBMcxMNV8RIND5di8j0MmNJFgUQ87DxYzJBZOSbQdMtQL6oc1bsR84MU7Vf2kKM1xnI3QYvJ2ySPw+x85JZPiijfw0Cm9ym+MBvyhiuz6q1weRaRV+YF2lXZ9pAQBRZRGhlTMnK5gXhk6ufG4GKicL25F1kJ4zvONP/8UWHbI88N0YXXpYLA3HYW5XfhqduKR3OnN5gpU6NUPm+6U10qnGdHyWoPlzgWC5dHacExPdbzBW6jy98YZ+ZbqYNK1uQw7N0N5/Z4CwHztVh0nw4R3gCzIG3ns8FSqueqhMe6zSTTM0H5BCyogD9M6/jY7XUoZnb9MGU7cdtXQcuOft2Whv3Bzg9+xlTu9+zIi74D3JzUr+cYyy6fFKZnKu6Z60lnb1Zav8ZtIPrxnvvYGrYVfTNnpqttx9ntqkp7CJgnexzL4Xrfn+M4ZqXrbYRxHWdpJrnt8sbQzuxv5JIMz8uH6+4YVoqS583oAnJJZFB2yd7oySlZRlXK49Ku+HcPN0rlIHhwpfapFTWYtDtO4x/l1KX8yRUTdK8hjUsPEZagb8gbOUReVkq+TY9JbEoav4xneOv+g+EQcramrKp2rk/gmetPotxN0KR/6EpOLQmnGJheknKKl48rGvI09aOnQjxuyZP43GCnRhR+Zm3R8gyHV732UlSZdlWwPWSYer6t6jU5lB/2aJpe3QJ0j7sstkwAWa3eQkXLoyt978bVqNc0W4VjeGRb0BdaIo2fnRZVtu0XbGfJ/H6XvtMLe/5PR7o6qC0acJU+b57L549dc4FTdmpU1XY1UOHcVrQ8Lp232CTOv7hVKj8dYveB7TXgaumOsHMzl/1epvMPW5PpTTS9f93EMyt7O076wZMrUsXzt7x892QrGCY180j3lvy562cHspXVK5eS/tSvLfUjtCkb3vdUevFd6idbmXcWu0PQkfGVu1d2ZT1smeBqd7Bf5+Z5sWV/WnLLZ4Sp5y9lYa8jWyow8+bsJeogWbe+/PKM8/huUE952xwtt11ltocosOt+S5/dHFH1sDPqaQHRxUN3491wX1V66UO5+7Lk3mVv14uH66vWWyj/OLP10x7m5fzDRqHh+fLHcFNeqIuO/WV/RKS3s6QutJy5zZXafl47i+fH+vk1adu/tcT5QO3PRtbwf5HzpifZxvLLu0y7ylL+3JZfHgXzVuS3wxjf+Re3U6UgWPdITGrIGtdHz+9uL/rzzea+tSbUY6+HiQ9lTezjwuyy+8CZC2oC3Hi+1qiTfFq+O9IKbowzvaNv1U/d8jCtmWd9aWW147T09eiG2rZ4cxN3pfH78GLQTcMM47u9mM4c0fiRPuMrd3cbc9L57bDEcdo0z4wezrncEHmtex1LKlA+6fSP0b7s7wVzONX21tfFmbOn6jZnOkRueZpt6uDI2WbYXooq0K6y2sNwHnfGNImv7jESDWvHvXpTz9eH7Ukvn9T2U4ePF6S91B9uRwX9emrBoHewcr0FCpSHuTEtfkygWjZkXdWX/TBLhWNY/1Ydeu3HDrV7IwvV2n5uO0vJb+dpMBVBreNt40+Rl6n1Fytw3gyY8rZtTC8b8jJ3OkTxdpWt9LmtQHkUyptqz0V+O7TxnX9xG/2kHxGh/zg9PZXp6YJ3POFGoe4AjHSypYJekfa1zZ3FkH7ObdkLVADjEsZLl78xDgAA5Dv7LJ0j98ZPANeJIBgAgHE72QqmuPRkSz92Lnj+MYDrQxAMAMC4TTeCOdZL5h8k4WZy4OZgTvAdQN0BAABkY04wAAAAao8gGAAAALVDEAwAAIDaIQgGAABA7RAEAwAAoHYIggEAAFA7BMEAAACoHYJgAAAA1A5BMAAAAGrH+xfjAAAAgLvK/RfjBkEwAAAAUBdMhwAAAEDNiPwfai5Nzu+B/10AAAAASUVORK5CYII=)"
      ],
      "metadata": {
        "id": "egd99YOKLWTq"
      }
    },
    {
      "cell_type": "markdown",
      "source": [
        "### La condition if en Python"
      ],
      "metadata": {
        "id": "C0OtgeoEGocI"
      }
    },
    {
      "cell_type": "markdown",
      "source": [
        "La structure conditionnelle if est une structure de base qu’on retourne dans de nombreux langages de script. Cette condition va nous permettre d’exécuter un code si (et seulement si) une certaine condition est vérifiée."
      ],
      "metadata": {
        "id": "OI0sKln-G5AV"
      }
    },
    {
      "cell_type": "code",
      "source": [
        "a=True\n",
        "if a :\n",
        "  print('je suis dans le bloc if')\n",
        "  print('je suis toujour dans le if')\n",
        "print('je suis sortie')"
      ],
      "metadata": {
        "colab": {
          "base_uri": "https://localhost:8080/"
        },
        "id": "qP6lEu4eHYpP",
        "outputId": "00e182b2-aec2-40e8-b1c5-726cc32dc0ec"
      },
      "execution_count": null,
      "outputs": [
        {
          "output_type": "stream",
          "name": "stdout",
          "text": [
            "je suis dans le bloc if\n",
            "je suis toujour dans le if\n",
            "je suis sortie\n"
          ]
        }
      ]
    },
    {
      "cell_type": "code",
      "source": [
        "a=True\n",
        "b=False\n",
        "if a :\n",
        "  print('je suis dans le premier bloc if')\n",
        "  if b:\n",
        "    print('je suis dans le second bloc if')\n",
        "  print('je suis revenue dans le premier bloc')\n",
        "print('je suis sortie du bloc if')"
      ],
      "metadata": {
        "colab": {
          "base_uri": "https://localhost:8080/"
        },
        "id": "DHGnzuoJHYkn",
        "outputId": "36c76e56-9c61-4a4a-f272-17ba9715fd70"
      },
      "execution_count": null,
      "outputs": [
        {
          "output_type": "stream",
          "name": "stdout",
          "text": [
            "je suis dans le premier bloc if\n",
            "je suis revenue dans le premier bloc\n",
            "je suis sortie du bloc if\n"
          ]
        }
      ]
    },
    {
      "cell_type": "markdown",
      "source": [
        "### La condition if… else en Python"
      ],
      "metadata": {
        "id": "iwy3ZvfTG8Gf"
      }
    },
    {
      "cell_type": "markdown",
      "source": [
        "La structure conditionnelle if…else (« si… sinon » en français) est plus complète que la condition if puisqu’elle nous permet d’exécuter un premier bloc de code si un test renvoie True ou un autre bloc de code dans le cas contraire."
      ],
      "metadata": {
        "id": "436N8X8xHCvB"
      }
    },
    {
      "cell_type": "code",
      "source": [
        "a=True\n",
        "if a :\n",
        "  print('je suis dans le bloc if')\n",
        "else:\n",
        "  print('je suis dans le bloc else')"
      ],
      "metadata": {
        "colab": {
          "base_uri": "https://localhost:8080/"
        },
        "id": "zorQWBQCI8xo",
        "outputId": "47f7053a-ef9b-458c-e153-495295393e6e"
      },
      "execution_count": null,
      "outputs": [
        {
          "output_type": "stream",
          "name": "stdout",
          "text": [
            "je suis dans le bloc if\n"
          ]
        }
      ]
    },
    {
      "cell_type": "code",
      "source": [
        "a=True\n",
        "b=False\n",
        "if a :\n",
        "  print('je suis dans le premier bloc if')\n",
        "  if b:\n",
        "    print('je suis dans le second bloc if')\n",
        "  else:\n",
        "    print('je suis dans le bloc else du second bloc')\n",
        "  print('je suis revenue dans le premier bloc')\n",
        "print('je suis sortie du bloc if')"
      ],
      "metadata": {
        "colab": {
          "base_uri": "https://localhost:8080/"
        },
        "id": "-T-yqqrRJno_",
        "outputId": "f57a9c56-44cd-4f46-cf22-b96636b86164"
      },
      "execution_count": null,
      "outputs": [
        {
          "output_type": "stream",
          "name": "stdout",
          "text": [
            "je suis dans le premier bloc if\n",
            "je suis dans le bloc else du second bloc\n",
            "je suis revenue dans le premier bloc\n",
            "je suis sortie du bloc if\n"
          ]
        }
      ]
    },
    {
      "cell_type": "markdown",
      "source": [
        "### La condition if… elif… else en Python"
      ],
      "metadata": {
        "id": "wrLO3A-7HCnn"
      }
    },
    {
      "cell_type": "markdown",
      "source": [
        "La condition if…elif…else (« si…sinon si…sinon ») est une structure conditionnelle encore plus complète que la condition if…else qui vannons permettre cette fois-ci d’effectuer autant de tests que l’on souhaite et ainsi de prendre en compte le nombre de cas souhaité."
      ],
      "metadata": {
        "id": "HpwBTGOiHPno"
      }
    },
    {
      "cell_type": "code",
      "source": [
        "a=True\n",
        "b=True\n",
        "if a :\n",
        "  print('je suis dans le premier bloc if.')\n",
        "elif b:\n",
        "    print('je suis dans le bloc if du else.')\n",
        "else:\n",
        "    print('je suis dans le dernier bloc else.')"
      ],
      "metadata": {
        "colab": {
          "base_uri": "https://localhost:8080/"
        },
        "id": "2vsxSEDtKTlV",
        "outputId": "a1b80b78-f025-42ce-ded8-550570092e6d"
      },
      "execution_count": null,
      "outputs": [
        {
          "output_type": "stream",
          "name": "stdout",
          "text": [
            "je suis dans le premier bloc if.\n"
          ]
        }
      ]
    },
    {
      "cell_type": "code",
      "source": [
        "note=9\n",
        "if note<10 :\n",
        "  print(\"vous n'avez pas la moyenne\")\n",
        "elif note==10:\n",
        "    print('vous avez juste la moyenne.')\n",
        "else:\n",
        "    print('vous etes superieur a la moyenne.')"
      ],
      "metadata": {
        "colab": {
          "base_uri": "https://localhost:8080/"
        },
        "id": "ckUFZFLaK0gy",
        "outputId": "93912b21-10c5-45d6-8e2c-260555d5ab11"
      },
      "execution_count": null,
      "outputs": [
        {
          "output_type": "stream",
          "name": "stdout",
          "text": [
            "vous n'avez pas la moyenne\n"
          ]
        }
      ]
    },
    {
      "cell_type": "markdown",
      "source": [
        "## Les boucles"
      ],
      "metadata": {
        "id": "T0dbrAMIMSo4"
      }
    },
    {
      "cell_type": "markdown",
      "source": [
        "### La boucle while"
      ],
      "metadata": {
        "id": "0wqr3oNq4hea"
      }
    },
    {
      "cell_type": "markdown",
      "source": [
        "Une boucle while qui veut dire tant que, est un concept de programmation qui, lorsqu’il est utilisé, exécute une instruction d’une manière répétitive, tant qu’une condition spécifique est vraie."
      ],
      "metadata": {
        "id": "XZN_HDfz41Pr"
      }
    },
    {
      "cell_type": "markdown",
      "source": [
        "![image.png](data:image/png;base64,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)\n",
        "\n"
      ],
      "metadata": {
        "id": "OnMwU2dz47on"
      }
    },
    {
      "cell_type": "code",
      "source": [
        "nombre_affichage=0\n",
        "while nombre_affichage<=10:\n",
        "  print(\"je suis a l'iteration \",nombre_affichage)\n",
        "  nombre_affichage+=1"
      ],
      "metadata": {
        "colab": {
          "base_uri": "https://localhost:8080/"
        },
        "id": "kp2FhWtu4gxR",
        "outputId": "89eea6aa-7e5b-4fa6-b889-791c0425da00"
      },
      "execution_count": null,
      "outputs": [
        {
          "output_type": "stream",
          "name": "stdout",
          "text": [
            "je suis a l'iteration  0\n",
            "je suis a l'iteration  1\n",
            "je suis a l'iteration  2\n",
            "je suis a l'iteration  3\n",
            "je suis a l'iteration  4\n",
            "je suis a l'iteration  5\n",
            "je suis a l'iteration  6\n",
            "je suis a l'iteration  7\n",
            "je suis a l'iteration  8\n",
            "je suis a l'iteration  9\n",
            "je suis a l'iteration  10\n"
          ]
        }
      ]
    },
    {
      "cell_type": "markdown",
      "source": [
        "### While infinie avec break"
      ],
      "metadata": {
        "id": "-xLkJIoy5lBR"
      }
    },
    {
      "cell_type": "markdown",
      "source": [
        "Nous appelons la variable qui change de valeur à chaque fois que la boucle s’exécute, la variable d’itération. S’il n’y a pas de variable d’itération, vous aurez une boucle infinie."
      ],
      "metadata": {
        "id": "6Ncl57RR5tZ5"
      }
    },
    {
      "cell_type": "code",
      "source": [
        "nombre_affichage=0\n",
        "while nombre_affichage<=10:\n",
        "  print(\"je suis a l'iteration \",nombre_affichage)\n",
        "  #nombre_affichage+=1"
      ],
      "metadata": {
        "colab": {
          "base_uri": "https://localhost:8080/",
          "height": 1000
        },
        "id": "lHwGlTVo5ef2",
        "outputId": "602326f5-f43a-4162-f273-6b1737622dad"
      },
      "execution_count": null,
      "outputs": [
        {
          "output_type": "stream",
          "name": "stdout",
          "text": [
            "\u001b[1;30;43mLe flux de sortie a été tronqué et ne contient que les 5000 dernières lignes.\u001b[0m\n",
            "je suis a l'iteration  0\n",
            "je suis a l'iteration  0\n",
            "je suis a l'iteration  0\n",
            "je suis a l'iteration  0\n",
            "je suis a l'iteration  0\n",
            "je suis a l'iteration  0\n",
            "je suis a l'iteration  0\n",
            "je suis a l'iteration  0\n",
            "je suis a l'iteration  0\n",
            "je suis a l'iteration  0\n",
            "je suis a l'iteration  0\n",
            "je suis a l'iteration  0\n",
            "je suis a l'iteration  0\n",
            "je suis a l'iteration  0\n",
            "je suis a l'iteration  0\n",
            "je suis a l'iteration  0\n",
            "je suis a l'iteration  0\n",
            "je suis a l'iteration  0\n",
            "je suis a l'iteration  0\n",
            "je suis a l'iteration  0\n",
            "je suis a l'iteration  0\n",
            "je suis a l'iteration  0\n",
            "je suis a l'iteration  0\n",
            "je suis a l'iteration  0\n",
            "je suis a l'iteration  0\n",
            "je suis a l'iteration  0\n",
            "je suis a l'iteration  0\n",
            "je suis a l'iteration  0\n",
            "je suis a l'iteration  0\n",
            "je suis a l'iteration  0\n",
            "je suis a l'iteration  0\n",
            "je suis a l'iteration  0\n",
            "je suis a l'iteration  0\n",
            "je suis a l'iteration  0\n",
            "je suis a l'iteration  0\n",
            "je suis a l'iteration  0\n",
            "je suis a l'iteration  0\n",
            "je suis a l'iteration  0\n",
            "je suis a l'iteration  0\n",
            "je suis a l'iteration  0\n",
            "je suis a l'iteration  0\n",
            "je suis a l'iteration  0\n",
            "je suis a l'iteration  0\n",
            "je suis a l'iteration  0\n",
            "je suis a l'iteration  0\n",
            "je suis a l'iteration  0\n",
            "je suis a l'iteration  0\n",
            "je suis a l'iteration  0\n",
            "je suis a l'iteration  0\n",
            "je suis a l'iteration  0\n",
            "je suis a l'iteration  0\n",
            "je suis a l'iteration  0\n",
            "je suis a l'iteration  0\n",
            "je suis a l'iteration  0\n",
            "je suis a l'iteration  0\n",
            "je suis a l'iteration  0\n",
            "je suis a l'iteration  0\n",
            "je suis a l'iteration  0\n",
            "je suis a l'iteration  0\n",
            "je suis a l'iteration  0\n",
            "je suis a l'iteration  0\n",
            "je suis a l'iteration  0\n",
            "je suis a l'iteration  0\n",
            "je suis a l'iteration  0\n",
            "je suis a l'iteration  0\n",
            "je suis a l'iteration  0\n",
            "je suis a l'iteration  0\n",
            "je suis a l'iteration  0\n",
            "je suis a l'iteration  0\n",
            "je suis a l'iteration  0\n",
            "je suis a l'iteration  0\n",
            "je suis a l'iteration  0\n",
            "je suis a l'iteration  0\n",
            "je suis a l'iteration  0\n",
            "je suis a l'iteration  0\n",
            "je suis a l'iteration  0\n",
            "je suis a l'iteration  0\n",
            "je suis a l'iteration  0\n",
            "je suis a l'iteration  0\n",
            "je suis a l'iteration  0\n",
            "je suis a l'iteration  0\n",
            "je suis a l'iteration  0\n",
            "je suis a l'iteration  0\n",
            "je suis a l'iteration  0\n",
            "je suis a l'iteration  0\n",
            "je suis a l'iteration  0\n",
            "je suis a l'iteration  0\n",
            "je suis a l'iteration  0\n",
            "je suis a l'iteration  0\n",
            "je suis a l'iteration  0\n",
            "je suis a l'iteration  0\n",
            "je suis a l'iteration  0\n",
            "je suis a l'iteration  0\n",
            "je suis a l'iteration  0\n",
            "je suis a l'iteration  0\n",
            "je suis a l'iteration  0\n",
            "je suis a l'iteration  0\n",
            "je suis a l'iteration  0\n",
            "je suis a l'iteration  0\n",
            "je suis a l'iteration  0\n",
            "je suis a l'iteration  0\n",
            "je suis a l'iteration  0\n",
            "je suis a l'iteration  0\n",
            "je suis a l'iteration  0\n",
            "je suis a l'iteration  0\n",
            "je suis a l'iteration  0\n",
            "je suis a l'iteration  0\n",
            "je suis a l'iteration  0\n",
            "je suis a l'iteration  0\n",
            "je suis a l'iteration  0\n",
            "je suis a l'iteration  0\n",
            "je suis a l'iteration  0\n",
            "je suis a l'iteration  0\n",
            "je suis a l'iteration  0\n",
            "je suis a l'iteration  0\n",
            "je suis a l'iteration  0\n",
            "je suis a l'iteration  0\n",
            "je suis a l'iteration  0\n",
            "je suis a l'iteration  0\n",
            "je suis a l'iteration  0\n",
            "je suis a l'iteration  0\n",
            "je suis a l'iteration  0\n",
            "je suis a l'iteration  0\n",
            "je suis a l'iteration  0\n",
            "je suis a l'iteration  0\n",
            "je suis a l'iteration  0\n",
            "je suis a l'iteration  0\n",
            "je suis a l'iteration  0\n",
            "je suis a l'iteration  0\n",
            "je suis a l'iteration  0\n",
            "je suis a l'iteration  0\n",
            "je suis a l'iteration  0\n",
            "je suis a l'iteration  0\n",
            "je suis a l'iteration  0\n",
            "je suis a l'iteration  0\n",
            "je suis a l'iteration  0\n",
            "je suis a l'iteration  0\n",
            "je suis a l'iteration  0\n",
            "je suis a l'iteration  0\n",
            "je suis a l'iteration  0\n",
            "je suis a l'iteration  0\n",
            "je suis a l'iteration  0\n",
            "je suis a l'iteration  0\n",
            "je suis a l'iteration  0\n",
            "je suis a l'iteration  0\n",
            "je suis a l'iteration  0\n",
            "je suis a l'iteration  0\n",
            "je suis a l'iteration  0\n",
            "je suis a l'iteration  0\n",
            "je suis a l'iteration  0\n",
            "je suis a l'iteration  0\n",
            "je suis a l'iteration  0\n",
            "je suis a l'iteration  0\n",
            "je suis a l'iteration  0\n",
            "je suis a l'iteration  0\n",
            "je suis a l'iteration  0\n",
            "je suis a l'iteration  0\n",
            "je suis a l'iteration  0\n",
            "je suis a l'iteration  0\n",
            "je suis a l'iteration  0\n",
            "je suis a l'iteration  0\n",
            "je suis a l'iteration  0\n",
            "je suis a l'iteration  0\n",
            "je suis a l'iteration  0\n",
            "je suis a l'iteration  0\n",
            "je suis a l'iteration  0\n",
            "je suis a l'iteration  0\n",
            "je suis a l'iteration  0\n",
            "je suis a l'iteration  0\n",
            "je suis a l'iteration  0\n",
            "je suis a l'iteration  0\n",
            "je suis a l'iteration  0\n",
            "je suis a l'iteration  0\n",
            "je suis a l'iteration  0\n",
            "je suis a l'iteration  0\n",
            "je suis a l'iteration  0\n",
            "je suis a l'iteration  0\n",
            "je suis a l'iteration  0\n",
            "je suis a l'iteration  0\n",
            "je suis a l'iteration  0\n",
            "je suis a l'iteration  0\n",
            "je suis a l'iteration  0\n",
            "je suis a l'iteration  0\n",
            "je suis a l'iteration  0\n",
            "je suis a l'iteration  0\n",
            "je suis a l'iteration  0\n",
            "je suis a l'iteration  0\n",
            "je suis a l'iteration  0\n",
            "je suis a l'iteration  0\n",
            "je suis a l'iteration  0\n",
            "je suis a l'iteration  0\n",
            "je suis a l'iteration  0\n",
            "je suis a l'iteration  0\n",
            "je suis a l'iteration  0\n",
            "je suis a l'iteration  0\n",
            "je suis a l'iteration  0\n",
            "je suis a l'iteration  0\n",
            "je suis a l'iteration  0\n",
            "je suis a l'iteration  0\n",
            "je suis a l'iteration  0\n",
            "je suis a l'iteration  0\n",
            "je suis a l'iteration  0\n",
            "je suis a l'iteration  0\n",
            "je suis a l'iteration  0\n",
            "je suis a l'iteration  0\n",
            "je suis a l'iteration  0\n",
            "je suis a l'iteration  0\n",
            "je suis a l'iteration  0\n",
            "je suis a l'iteration  0\n",
            "je suis a l'iteration  0\n",
            "je suis a l'iteration  0\n",
            "je suis a l'iteration  0\n",
            "je suis a l'iteration  0\n",
            "je suis a l'iteration  0\n",
            "je suis a l'iteration  0\n",
            "je suis a l'iteration  0\n",
            "je suis a l'iteration  0\n",
            "je suis a l'iteration  0\n",
            "je suis a l'iteration  0\n",
            "je suis a l'iteration  0\n",
            "je suis a l'iteration  0\n",
            "je suis a l'iteration  0\n",
            "je suis a l'iteration  0\n",
            "je suis a l'iteration  0\n",
            "je suis a l'iteration  0\n",
            "je suis a l'iteration  0\n",
            "je suis a l'iteration  0\n",
            "je suis a l'iteration  0\n",
            "je suis a l'iteration  0\n",
            "je suis a l'iteration  0\n",
            "je suis a l'iteration  0\n",
            "je suis a l'iteration  0\n",
            "je suis a l'iteration  0\n",
            "je suis a l'iteration  0\n",
            "je suis a l'iteration  0\n",
            "je suis a l'iteration  0\n",
            "je suis a l'iteration  0\n",
            "je suis a l'iteration  0\n",
            "je suis a l'iteration  0\n",
            "je suis a l'iteration  0\n",
            "je suis a l'iteration  0\n",
            "je suis a l'iteration  0\n",
            "je suis a l'iteration  0\n",
            "je suis a l'iteration  0\n",
            "je suis a l'iteration  0\n",
            "je suis a l'iteration  0\n",
            "je suis a l'iteration  0\n",
            "je suis a l'iteration  0\n",
            "je suis a l'iteration  0\n",
            "je suis a l'iteration  0\n",
            "je suis a l'iteration  0\n",
            "je suis a l'iteration  0\n",
            "je suis a l'iteration  0\n",
            "je suis a l'iteration  0\n",
            "je suis a l'iteration  0\n",
            "je suis a l'iteration  0\n",
            "je suis a l'iteration  0\n",
            "je suis a l'iteration  0\n",
            "je suis a l'iteration  0\n",
            "je suis a l'iteration  0\n",
            "je suis a l'iteration  0\n",
            "je suis a l'iteration  0\n",
            "je suis a l'iteration  0\n",
            "je suis a l'iteration  0\n",
            "je suis a l'iteration  0\n",
            "je suis a l'iteration  0\n",
            "je suis a l'iteration  0\n",
            "je suis a l'iteration  0\n",
            "je suis a l'iteration  0\n",
            "je suis a l'iteration  0\n",
            "je suis a l'iteration  0\n",
            "je suis a l'iteration  0\n",
            "je suis a l'iteration  0\n",
            "je suis a l'iteration  0\n",
            "je suis a l'iteration  0\n",
            "je suis a l'iteration  0\n",
            "je suis a l'iteration  0\n",
            "je suis a l'iteration  0\n",
            "je suis a l'iteration  0\n",
            "je suis a l'iteration  0\n",
            "je suis a l'iteration  0\n",
            "je suis a l'iteration  0\n",
            "je suis a l'iteration  0\n",
            "je suis a l'iteration  0\n",
            "je suis a l'iteration  0\n",
            "je suis a l'iteration  0\n",
            "je suis a l'iteration  0\n",
            "je suis a l'iteration  0\n",
            "je suis a l'iteration  0\n",
            "je suis a l'iteration  0\n",
            "je suis a l'iteration  0\n",
            "je suis a l'iteration  0\n",
            "je suis a l'iteration  0\n",
            "je suis a l'iteration  0\n",
            "je suis a l'iteration  0\n",
            "je suis a l'iteration  0\n",
            "je suis a l'iteration  0\n",
            "je suis a l'iteration  0\n",
            "je suis a l'iteration  0\n",
            "je suis a l'iteration  0\n",
            "je suis a l'iteration  0\n",
            "je suis a l'iteration  0\n",
            "je suis a l'iteration  0\n",
            "je suis a l'iteration  0\n",
            "je suis a l'iteration  0\n",
            "je suis a l'iteration  0\n",
            "je suis a l'iteration  0\n",
            "je suis a l'iteration  0\n",
            "je suis a l'iteration  0\n",
            "je suis a l'iteration  0\n",
            "je suis a l'iteration  0\n",
            "je suis a l'iteration  0\n",
            "je suis a l'iteration  0\n",
            "je suis a l'iteration  0\n",
            "je suis a l'iteration  0\n",
            "je suis a l'iteration  0\n",
            "je suis a l'iteration  0\n",
            "je suis a l'iteration  0\n",
            "je suis a l'iteration  0\n",
            "je suis a l'iteration  0\n",
            "je suis a l'iteration  0\n",
            "je suis a l'iteration  0\n",
            "je suis a l'iteration  0\n",
            "je suis a l'iteration  0\n",
            "je suis a l'iteration  0\n",
            "je suis a l'iteration  0\n",
            "je suis a l'iteration  0\n",
            "je suis a l'iteration  0\n",
            "je suis a l'iteration  0\n",
            "je suis a l'iteration  0\n",
            "je suis a l'iteration  0\n",
            "je suis a l'iteration  0\n",
            "je suis a l'iteration  0\n",
            "je suis a l'iteration  0\n",
            "je suis a l'iteration  0\n",
            "je suis a l'iteration  0\n",
            "je suis a l'iteration  0\n",
            "je suis a l'iteration  0\n",
            "je suis a l'iteration  0\n",
            "je suis a l'iteration  0\n",
            "je suis a l'iteration  0\n",
            "je suis a l'iteration  0\n",
            "je suis a l'iteration  0\n",
            "je suis a l'iteration  0\n",
            "je suis a l'iteration  0\n",
            "je suis a l'iteration  0\n",
            "je suis a l'iteration  0\n",
            "je suis a l'iteration  0\n",
            "je suis a l'iteration  0\n",
            "je suis a l'iteration  0\n",
            "je suis a l'iteration  0\n",
            "je suis a l'iteration  0\n",
            "je suis a l'iteration  0\n",
            "je suis a l'iteration  0\n",
            "je suis a l'iteration  0\n",
            "je suis a l'iteration  0\n",
            "je suis a l'iteration  0\n",
            "je suis a l'iteration  0\n",
            "je suis a l'iteration  0\n",
            "je suis a l'iteration  0\n",
            "je suis a l'iteration  0\n",
            "je suis a l'iteration  0\n",
            "je suis a l'iteration  0\n",
            "je suis a l'iteration  0\n",
            "je suis a l'iteration  0\n",
            "je suis a l'iteration  0\n",
            "je suis a l'iteration  0\n",
            "je suis a l'iteration  0\n",
            "je suis a l'iteration  0\n",
            "je suis a l'iteration  0\n",
            "je suis a l'iteration  0\n",
            "je suis a l'iteration  0\n",
            "je suis a l'iteration  0\n",
            "je suis a l'iteration  0\n",
            "je suis a l'iteration  0\n",
            "je suis a l'iteration  0\n",
            "je suis a l'iteration  0\n",
            "je suis a l'iteration  0\n",
            "je suis a l'iteration  0\n",
            "je suis a l'iteration  0\n",
            "je suis a l'iteration  0\n",
            "je suis a l'iteration  0\n",
            "je suis a l'iteration  0\n",
            "je suis a l'iteration  0\n",
            "je suis a l'iteration  0\n",
            "je suis a l'iteration  0\n",
            "je suis a l'iteration  0\n",
            "je suis a l'iteration  0\n",
            "je suis a l'iteration  0\n",
            "je suis a l'iteration  0\n",
            "je suis a l'iteration  0\n",
            "je suis a l'iteration  0\n",
            "je suis a l'iteration  0\n",
            "je suis a l'iteration  0\n",
            "je suis a l'iteration  0\n",
            "je suis a l'iteration  0\n",
            "je suis a l'iteration  0\n",
            "je suis a l'iteration  0\n",
            "je suis a l'iteration  0\n",
            "je suis a l'iteration  0\n",
            "je suis a l'iteration  0\n",
            "je suis a l'iteration  0\n",
            "je suis a l'iteration  0\n",
            "je suis a l'iteration  0\n",
            "je suis a l'iteration  0\n",
            "je suis a l'iteration  0\n",
            "je suis a l'iteration  0\n",
            "je suis a l'iteration  0\n",
            "je suis a l'iteration  0\n",
            "je suis a l'iteration  0\n",
            "je suis a l'iteration  0\n",
            "je suis a l'iteration  0\n",
            "je suis a l'iteration  0\n",
            "je suis a l'iteration  0\n",
            "je suis a l'iteration  0\n",
            "je suis a l'iteration  0\n",
            "je suis a l'iteration  0\n",
            "je suis a l'iteration  0\n",
            "je suis a l'iteration  0\n",
            "je suis a l'iteration  0\n",
            "je suis a l'iteration  0\n",
            "je suis a l'iteration  0\n",
            "je suis a l'iteration  0\n",
            "je suis a l'iteration  0\n",
            "je suis a l'iteration  0\n",
            "je suis a l'iteration  0\n",
            "je suis a l'iteration  0\n",
            "je suis a l'iteration  0\n",
            "je suis a l'iteration  0\n",
            "je suis a l'iteration  0\n",
            "je suis a l'iteration  0\n",
            "je suis a l'iteration  0\n",
            "je suis a l'iteration  0\n",
            "je suis a l'iteration  0\n",
            "je suis a l'iteration  0\n",
            "je suis a l'iteration  0\n",
            "je suis a l'iteration  0\n",
            "je suis a l'iteration  0\n",
            "je suis a l'iteration  0\n",
            "je suis a l'iteration  0\n",
            "je suis a l'iteration  0\n",
            "je suis a l'iteration  0\n",
            "je suis a l'iteration  0\n",
            "je suis a l'iteration  0\n",
            "je suis a l'iteration  0\n",
            "je suis a l'iteration  0\n",
            "je suis a l'iteration  0\n",
            "je suis a l'iteration  0\n",
            "je suis a l'iteration  0\n",
            "je suis a l'iteration  0\n",
            "je suis a l'iteration  0\n",
            "je suis a l'iteration  0\n",
            "je suis a l'iteration  0\n",
            "je suis a l'iteration  0\n",
            "je suis a l'iteration  0\n",
            "je suis a l'iteration  0\n",
            "je suis a l'iteration  0\n",
            "je suis a l'iteration  0\n",
            "je suis a l'iteration  0\n",
            "je suis a l'iteration  0\n",
            "je suis a l'iteration  0\n",
            "je suis a l'iteration  0\n",
            "je suis a l'iteration  0\n",
            "je suis a l'iteration  0\n",
            "je suis a l'iteration  0\n",
            "je suis a l'iteration  0\n",
            "je suis a l'iteration  0\n",
            "je suis a l'iteration  0\n",
            "je suis a l'iteration  0\n",
            "je suis a l'iteration  0\n",
            "je suis a l'iteration  0\n",
            "je suis a l'iteration  0\n",
            "je suis a l'iteration  0\n",
            "je suis a l'iteration  0\n",
            "je suis a l'iteration  0\n",
            "je suis a l'iteration  0\n",
            "je suis a l'iteration  0\n",
            "je suis a l'iteration  0\n",
            "je suis a l'iteration  0\n",
            "je suis a l'iteration  0\n",
            "je suis a l'iteration  0\n",
            "je suis a l'iteration  0\n",
            "je suis a l'iteration  0\n",
            "je suis a l'iteration  0\n",
            "je suis a l'iteration  0\n",
            "je suis a l'iteration  0\n",
            "je suis a l'iteration  0\n",
            "je suis a l'iteration  0\n",
            "je suis a l'iteration  0\n",
            "je suis a l'iteration  0\n",
            "je suis a l'iteration  0\n",
            "je suis a l'iteration  0\n",
            "je suis a l'iteration  0\n",
            "je suis a l'iteration  0\n",
            "je suis a l'iteration  0\n",
            "je suis a l'iteration  0\n",
            "je suis a l'iteration  0\n",
            "je suis a l'iteration  0\n",
            "je suis a l'iteration  0\n",
            "je suis a l'iteration  0\n",
            "je suis a l'iteration  0\n",
            "je suis a l'iteration  0\n",
            "je suis a l'iteration  0\n",
            "je suis a l'iteration  0\n",
            "je suis a l'iteration  0\n",
            "je suis a l'iteration  0\n",
            "je suis a l'iteration  0\n",
            "je suis a l'iteration  0\n",
            "je suis a l'iteration  0\n",
            "je suis a l'iteration  0\n",
            "je suis a l'iteration  0\n",
            "je suis a l'iteration  0\n",
            "je suis a l'iteration  0\n",
            "je suis a l'iteration  0\n",
            "je suis a l'iteration  0\n",
            "je suis a l'iteration  0\n",
            "je suis a l'iteration  0\n",
            "je suis a l'iteration  0\n",
            "je suis a l'iteration  0\n",
            "je suis a l'iteration  0\n",
            "je suis a l'iteration  0\n",
            "je suis a l'iteration  0\n",
            "je suis a l'iteration  0\n",
            "je suis a l'iteration  0\n",
            "je suis a l'iteration  0\n",
            "je suis a l'iteration  0\n",
            "je suis a l'iteration  0\n",
            "je suis a l'iteration  0\n",
            "je suis a l'iteration  0\n",
            "je suis a l'iteration  0\n",
            "je suis a l'iteration  0\n",
            "je suis a l'iteration  0\n",
            "je suis a l'iteration  0\n",
            "je suis a l'iteration  0\n",
            "je suis a l'iteration  0\n",
            "je suis a l'iteration  0\n",
            "je suis a l'iteration  0\n",
            "je suis a l'iteration  0\n",
            "je suis a l'iteration  0\n",
            "je suis a l'iteration  0\n",
            "je suis a l'iteration  0\n",
            "je suis a l'iteration  0\n",
            "je suis a l'iteration  0\n",
            "je suis a l'iteration  0\n",
            "je suis a l'iteration  0\n",
            "je suis a l'iteration  0\n",
            "je suis a l'iteration  0\n",
            "je suis a l'iteration  0\n",
            "je suis a l'iteration  0\n",
            "je suis a l'iteration  0\n",
            "je suis a l'iteration  0\n",
            "je suis a l'iteration  0\n",
            "je suis a l'iteration  0\n",
            "je suis a l'iteration  0\n",
            "je suis a l'iteration  0\n",
            "je suis a l'iteration  0\n",
            "je suis a l'iteration  0\n",
            "je suis a l'iteration  0\n",
            "je suis a l'iteration  0\n",
            "je suis a l'iteration  0\n",
            "je suis a l'iteration  0\n",
            "je suis a l'iteration  0\n",
            "je suis a l'iteration  0\n",
            "je suis a l'iteration  0\n",
            "je suis a l'iteration  0\n",
            "je suis a l'iteration  0\n",
            "je suis a l'iteration  0\n",
            "je suis a l'iteration  0\n",
            "je suis a l'iteration  0\n",
            "je suis a l'iteration  0\n",
            "je suis a l'iteration  0\n",
            "je suis a l'iteration  0\n",
            "je suis a l'iteration  0\n",
            "je suis a l'iteration  0\n",
            "je suis a l'iteration  0\n",
            "je suis a l'iteration  0\n",
            "je suis a l'iteration  0\n",
            "je suis a l'iteration  0\n",
            "je suis a l'iteration  0\n",
            "je suis a l'iteration  0\n",
            "je suis a l'iteration  0\n",
            "je suis a l'iteration  0\n",
            "je suis a l'iteration  0\n",
            "je suis a l'iteration  0\n",
            "je suis a l'iteration  0\n",
            "je suis a l'iteration  0\n",
            "je suis a l'iteration  0\n",
            "je suis a l'iteration  0\n",
            "je suis a l'iteration  0\n",
            "je suis a l'iteration  0\n",
            "je suis a l'iteration  0\n",
            "je suis a l'iteration  0\n",
            "je suis a l'iteration  0\n",
            "je suis a l'iteration  0\n",
            "je suis a l'iteration  0\n",
            "je suis a l'iteration  0\n",
            "je suis a l'iteration  0\n",
            "je suis a l'iteration  0\n",
            "je suis a l'iteration  0\n",
            "je suis a l'iteration  0\n",
            "je suis a l'iteration  0\n",
            "je suis a l'iteration  0\n",
            "je suis a l'iteration  0\n",
            "je suis a l'iteration  0\n",
            "je suis a l'iteration  0\n",
            "je suis a l'iteration  0\n",
            "je suis a l'iteration  0\n",
            "je suis a l'iteration  0\n",
            "je suis a l'iteration  0\n",
            "je suis a l'iteration  0\n",
            "je suis a l'iteration  0\n",
            "je suis a l'iteration  0\n",
            "je suis a l'iteration  0\n",
            "je suis a l'iteration  0\n",
            "je suis a l'iteration  0\n",
            "je suis a l'iteration  0\n",
            "je suis a l'iteration  0\n",
            "je suis a l'iteration  0\n",
            "je suis a l'iteration  0\n",
            "je suis a l'iteration  0\n",
            "je suis a l'iteration  0\n",
            "je suis a l'iteration  0\n",
            "je suis a l'iteration  0\n",
            "je suis a l'iteration  0\n",
            "je suis a l'iteration  0\n",
            "je suis a l'iteration  0\n",
            "je suis a l'iteration  0\n",
            "je suis a l'iteration  0\n",
            "je suis a l'iteration  0\n",
            "je suis a l'iteration  0\n",
            "je suis a l'iteration  0\n",
            "je suis a l'iteration  0\n",
            "je suis a l'iteration  0\n",
            "je suis a l'iteration  0\n",
            "je suis a l'iteration  0\n",
            "je suis a l'iteration  0\n",
            "je suis a l'iteration  0\n",
            "je suis a l'iteration  0\n",
            "je suis a l'iteration  0\n",
            "je suis a l'iteration  0\n",
            "je suis a l'iteration  0\n",
            "je suis a l'iteration  0\n",
            "je suis a l'iteration  0\n",
            "je suis a l'iteration  0\n",
            "je suis a l'iteration  0\n",
            "je suis a l'iteration  0\n",
            "je suis a l'iteration  0\n",
            "je suis a l'iteration  0\n",
            "je suis a l'iteration  0\n",
            "je suis a l'iteration  0\n",
            "je suis a l'iteration  0\n",
            "je suis a l'iteration  0\n",
            "je suis a l'iteration  0\n",
            "je suis a l'iteration  0\n",
            "je suis a l'iteration  0\n",
            "je suis a l'iteration  0\n",
            "je suis a l'iteration  0\n",
            "je suis a l'iteration  0\n",
            "je suis a l'iteration  0\n",
            "je suis a l'iteration  0\n",
            "je suis a l'iteration  0\n",
            "je suis a l'iteration  0\n",
            "je suis a l'iteration  0\n",
            "je suis a l'iteration  0\n",
            "je suis a l'iteration  0\n",
            "je suis a l'iteration  0\n",
            "je suis a l'iteration  0\n",
            "je suis a l'iteration  0\n",
            "je suis a l'iteration  0\n",
            "je suis a l'iteration  0\n",
            "je suis a l'iteration  0\n",
            "je suis a l'iteration  0\n",
            "je suis a l'iteration  0\n",
            "je suis a l'iteration  0\n",
            "je suis a l'iteration  0\n",
            "je suis a l'iteration  0\n",
            "je suis a l'iteration  0\n",
            "je suis a l'iteration  0\n",
            "je suis a l'iteration  0\n",
            "je suis a l'iteration  0\n",
            "je suis a l'iteration  0\n",
            "je suis a l'iteration  0\n",
            "je suis a l'iteration  0\n",
            "je suis a l'iteration  0\n",
            "je suis a l'iteration  0\n",
            "je suis a l'iteration  0\n",
            "je suis a l'iteration  0\n",
            "je suis a l'iteration  0\n",
            "je suis a l'iteration  0\n",
            "je suis a l'iteration  0\n",
            "je suis a l'iteration  0\n",
            "je suis a l'iteration  0\n",
            "je suis a l'iteration  0\n",
            "je suis a l'iteration  0\n",
            "je suis a l'iteration  0\n",
            "je suis a l'iteration  0\n",
            "je suis a l'iteration  0\n",
            "je suis a l'iteration  0\n",
            "je suis a l'iteration  0\n",
            "je suis a l'iteration  0\n",
            "je suis a l'iteration  0\n",
            "je suis a l'iteration  0\n",
            "je suis a l'iteration  0\n",
            "je suis a l'iteration  0\n",
            "je suis a l'iteration  0\n",
            "je suis a l'iteration  0\n",
            "je suis a l'iteration  0\n",
            "je suis a l'iteration  0\n",
            "je suis a l'iteration  0\n",
            "je suis a l'iteration  0\n",
            "je suis a l'iteration  0\n",
            "je suis a l'iteration  0\n",
            "je suis a l'iteration  0\n",
            "je suis a l'iteration  0\n",
            "je suis a l'iteration  0\n",
            "je suis a l'iteration  0\n",
            "je suis a l'iteration  0\n",
            "je suis a l'iteration  0\n",
            "je suis a l'iteration  0\n",
            "je suis a l'iteration  0\n",
            "je suis a l'iteration  0\n",
            "je suis a l'iteration  0\n",
            "je suis a l'iteration  0\n",
            "je suis a l'iteration  0\n",
            "je suis a l'iteration  0\n",
            "je suis a l'iteration  0\n",
            "je suis a l'iteration  0\n",
            "je suis a l'iteration  0\n",
            "je suis a l'iteration  0\n",
            "je suis a l'iteration  0\n",
            "je suis a l'iteration  0\n",
            "je suis a l'iteration  0\n",
            "je suis a l'iteration  0\n",
            "je suis a l'iteration  0\n",
            "je suis a l'iteration  0\n",
            "je suis a l'iteration  0\n",
            "je suis a l'iteration  0\n",
            "je suis a l'iteration  0\n",
            "je suis a l'iteration  0\n",
            "je suis a l'iteration  0\n",
            "je suis a l'iteration  0\n",
            "je suis a l'iteration  0\n",
            "je suis a l'iteration  0\n",
            "je suis a l'iteration  0\n",
            "je suis a l'iteration  0\n",
            "je suis a l'iteration  0\n",
            "je suis a l'iteration  0\n",
            "je suis a l'iteration  0\n",
            "je suis a l'iteration  0\n",
            "je suis a l'iteration  0\n",
            "je suis a l'iteration  0\n",
            "je suis a l'iteration  0\n",
            "je suis a l'iteration  0\n",
            "je suis a l'iteration  0\n",
            "je suis a l'iteration  0\n",
            "je suis a l'iteration  0\n",
            "je suis a l'iteration  0\n",
            "je suis a l'iteration  0\n",
            "je suis a l'iteration  0\n",
            "je suis a l'iteration  0\n",
            "je suis a l'iteration  0\n",
            "je suis a l'iteration  0\n",
            "je suis a l'iteration  0\n",
            "je suis a l'iteration  0\n",
            "je suis a l'iteration  0\n",
            "je suis a l'iteration  0\n",
            "je suis a l'iteration  0\n",
            "je suis a l'iteration  0\n",
            "je suis a l'iteration  0\n",
            "je suis a l'iteration  0\n",
            "je suis a l'iteration  0\n",
            "je suis a l'iteration  0\n",
            "je suis a l'iteration  0\n",
            "je suis a l'iteration  0\n",
            "je suis a l'iteration  0\n",
            "je suis a l'iteration  0\n",
            "je suis a l'iteration  0\n",
            "je suis a l'iteration  0\n",
            "je suis a l'iteration  0\n",
            "je suis a l'iteration  0\n",
            "je suis a l'iteration  0\n",
            "je suis a l'iteration  0\n",
            "je suis a l'iteration  0\n",
            "je suis a l'iteration  0\n",
            "je suis a l'iteration  0\n",
            "je suis a l'iteration  0\n",
            "je suis a l'iteration  0\n",
            "je suis a l'iteration  0\n",
            "je suis a l'iteration  0\n",
            "je suis a l'iteration  0\n",
            "je suis a l'iteration  0\n",
            "je suis a l'iteration  0\n",
            "je suis a l'iteration  0\n",
            "je suis a l'iteration  0\n",
            "je suis a l'iteration  0\n",
            "je suis a l'iteration  0\n",
            "je suis a l'iteration  0\n",
            "je suis a l'iteration  0\n",
            "je suis a l'iteration  0\n",
            "je suis a l'iteration  0\n",
            "je suis a l'iteration  0\n",
            "je suis a l'iteration  0\n",
            "je suis a l'iteration  0\n",
            "je suis a l'iteration  0\n",
            "je suis a l'iteration  0\n",
            "je suis a l'iteration  0\n",
            "je suis a l'iteration  0\n",
            "je suis a l'iteration  0\n",
            "je suis a l'iteration  0\n",
            "je suis a l'iteration  0\n",
            "je suis a l'iteration  0\n",
            "je suis a l'iteration  0\n",
            "je suis a l'iteration  0\n",
            "je suis a l'iteration  0\n",
            "je suis a l'iteration  0\n",
            "je suis a l'iteration  0\n",
            "je suis a l'iteration  0\n",
            "je suis a l'iteration  0\n",
            "je suis a l'iteration  0\n",
            "je suis a l'iteration  0\n",
            "je suis a l'iteration  0\n",
            "je suis a l'iteration  0\n",
            "je suis a l'iteration  0\n",
            "je suis a l'iteration  0\n",
            "je suis a l'iteration  0\n",
            "je suis a l'iteration  0\n",
            "je suis a l'iteration  0\n",
            "je suis a l'iteration  0\n",
            "je suis a l'iteration  0\n",
            "je suis a l'iteration  0\n",
            "je suis a l'iteration  0\n",
            "je suis a l'iteration  0\n",
            "je suis a l'iteration  0\n",
            "je suis a l'iteration  0\n",
            "je suis a l'iteration  0\n",
            "je suis a l'iteration  0\n",
            "je suis a l'iteration  0\n",
            "je suis a l'iteration  0\n",
            "je suis a l'iteration  0\n",
            "je suis a l'iteration  0\n",
            "je suis a l'iteration  0\n",
            "je suis a l'iteration  0\n",
            "je suis a l'iteration  0\n",
            "je suis a l'iteration  0\n",
            "je suis a l'iteration  0\n",
            "je suis a l'iteration  0\n",
            "je suis a l'iteration  0\n",
            "je suis a l'iteration  0\n",
            "je suis a l'iteration  0\n",
            "je suis a l'iteration  0\n",
            "je suis a l'iteration  0\n",
            "je suis a l'iteration  0\n",
            "je suis a l'iteration  0\n",
            "je suis a l'iteration  0\n",
            "je suis a l'iteration  0\n",
            "je suis a l'iteration  0\n",
            "je suis a l'iteration  0\n",
            "je suis a l'iteration  0\n",
            "je suis a l'iteration  0\n",
            "je suis a l'iteration  0\n",
            "je suis a l'iteration  0\n",
            "je suis a l'iteration  0\n",
            "je suis a l'iteration  0\n",
            "je suis a l'iteration  0\n",
            "je suis a l'iteration  0\n",
            "je suis a l'iteration  0\n",
            "je suis a l'iteration  0\n",
            "je suis a l'iteration  0\n",
            "je suis a l'iteration  0\n",
            "je suis a l'iteration  0\n",
            "je suis a l'iteration  0\n",
            "je suis a l'iteration  0\n",
            "je suis a l'iteration  0\n",
            "je suis a l'iteration  0\n",
            "je suis a l'iteration  0\n",
            "je suis a l'iteration  0\n",
            "je suis a l'iteration  0\n",
            "je suis a l'iteration  0\n",
            "je suis a l'iteration  0\n",
            "je suis a l'iteration  0\n",
            "je suis a l'iteration  0\n",
            "je suis a l'iteration  0\n",
            "je suis a l'iteration  0\n",
            "je suis a l'iteration  0\n",
            "je suis a l'iteration  0\n",
            "je suis a l'iteration  0\n",
            "je suis a l'iteration  0\n",
            "je suis a l'iteration  0\n",
            "je suis a l'iteration  0\n",
            "je suis a l'iteration  0\n",
            "je suis a l'iteration  0\n",
            "je suis a l'iteration  0\n",
            "je suis a l'iteration  0\n",
            "je suis a l'iteration  0\n",
            "je suis a l'iteration  0\n",
            "je suis a l'iteration  0\n",
            "je suis a l'iteration  0\n",
            "je suis a l'iteration  0\n",
            "je suis a l'iteration  0\n",
            "je suis a l'iteration  0\n",
            "je suis a l'iteration  0\n",
            "je suis a l'iteration  0\n",
            "je suis a l'iteration  0\n",
            "je suis a l'iteration  0\n",
            "je suis a l'iteration  0\n",
            "je suis a l'iteration  0\n",
            "je suis a l'iteration  0\n",
            "je suis a l'iteration  0\n",
            "je suis a l'iteration  0\n",
            "je suis a l'iteration  0\n",
            "je suis a l'iteration  0\n",
            "je suis a l'iteration  0\n",
            "je suis a l'iteration  0\n",
            "je suis a l'iteration  0\n",
            "je suis a l'iteration  0\n",
            "je suis a l'iteration  0\n",
            "je suis a l'iteration  0\n",
            "je suis a l'iteration  0\n",
            "je suis a l'iteration  0\n",
            "je suis a l'iteration  0\n",
            "je suis a l'iteration  0\n",
            "je suis a l'iteration  0\n",
            "je suis a l'iteration  0\n",
            "je suis a l'iteration  0\n",
            "je suis a l'iteration  0\n",
            "je suis a l'iteration  0\n",
            "je suis a l'iteration  0\n",
            "je suis a l'iteration  0\n",
            "je suis a l'iteration  0\n",
            "je suis a l'iteration  0\n",
            "je suis a l'iteration  0\n",
            "je suis a l'iteration  0\n",
            "je suis a l'iteration  0\n",
            "je suis a l'iteration  0\n",
            "je suis a l'iteration  0\n",
            "je suis a l'iteration  0\n",
            "je suis a l'iteration  0\n",
            "je suis a l'iteration  0\n",
            "je suis a l'iteration  0\n",
            "je suis a l'iteration  0\n",
            "je suis a l'iteration  0\n",
            "je suis a l'iteration  0\n",
            "je suis a l'iteration  0\n",
            "je suis a l'iteration  0\n",
            "je suis a l'iteration  0\n",
            "je suis a l'iteration  0\n",
            "je suis a l'iteration  0\n",
            "je suis a l'iteration  0\n",
            "je suis a l'iteration  0\n",
            "je suis a l'iteration  0\n",
            "je suis a l'iteration  0\n",
            "je suis a l'iteration  0\n",
            "je suis a l'iteration  0\n",
            "je suis a l'iteration  0\n",
            "je suis a l'iteration  0\n",
            "je suis a l'iteration  0\n",
            "je suis a l'iteration  0\n",
            "je suis a l'iteration  0\n",
            "je suis a l'iteration  0\n",
            "je suis a l'iteration  0\n",
            "je suis a l'iteration  0\n",
            "je suis a l'iteration  0\n",
            "je suis a l'iteration  0\n",
            "je suis a l'iteration  0\n",
            "je suis a l'iteration  0\n",
            "je suis a l'iteration  0\n",
            "je suis a l'iteration  0\n",
            "je suis a l'iteration  0\n",
            "je suis a l'iteration  0\n",
            "je suis a l'iteration  0\n",
            "je suis a l'iteration  0\n",
            "je suis a l'iteration  0\n",
            "je suis a l'iteration  0\n",
            "je suis a l'iteration  0\n",
            "je suis a l'iteration  0\n",
            "je suis a l'iteration  0\n",
            "je suis a l'iteration  0\n",
            "je suis a l'iteration  0\n",
            "je suis a l'iteration  0\n",
            "je suis a l'iteration  0\n",
            "je suis a l'iteration  0\n",
            "je suis a l'iteration  0\n",
            "je suis a l'iteration  0\n",
            "je suis a l'iteration  0\n",
            "je suis a l'iteration  0\n",
            "je suis a l'iteration  0\n",
            "je suis a l'iteration  0\n",
            "je suis a l'iteration  0\n",
            "je suis a l'iteration  0\n",
            "je suis a l'iteration  0\n",
            "je suis a l'iteration  0\n",
            "je suis a l'iteration  0\n",
            "je suis a l'iteration  0\n",
            "je suis a l'iteration  0\n",
            "je suis a l'iteration  0\n",
            "je suis a l'iteration  0\n",
            "je suis a l'iteration  0\n",
            "je suis a l'iteration  0\n",
            "je suis a l'iteration  0\n",
            "je suis a l'iteration  0\n",
            "je suis a l'iteration  0\n",
            "je suis a l'iteration  0\n",
            "je suis a l'iteration  0\n",
            "je suis a l'iteration  0\n",
            "je suis a l'iteration  0\n",
            "je suis a l'iteration  0\n",
            "je suis a l'iteration  0\n",
            "je suis a l'iteration  0\n",
            "je suis a l'iteration  0\n",
            "je suis a l'iteration  0\n",
            "je suis a l'iteration  0\n",
            "je suis a l'iteration  0\n",
            "je suis a l'iteration  0\n",
            "je suis a l'iteration  0\n",
            "je suis a l'iteration  0\n",
            "je suis a l'iteration  0\n",
            "je suis a l'iteration  0\n",
            "je suis a l'iteration  0\n",
            "je suis a l'iteration  0\n",
            "je suis a l'iteration  0\n",
            "je suis a l'iteration  0\n",
            "je suis a l'iteration  0\n",
            "je suis a l'iteration  0\n",
            "je suis a l'iteration  0\n",
            "je suis a l'iteration  0\n",
            "je suis a l'iteration  0\n",
            "je suis a l'iteration  0\n",
            "je suis a l'iteration  0\n",
            "je suis a l'iteration  0\n",
            "je suis a l'iteration  0\n",
            "je suis a l'iteration  0\n",
            "je suis a l'iteration  0\n",
            "je suis a l'iteration  0\n",
            "je suis a l'iteration  0\n",
            "je suis a l'iteration  0\n",
            "je suis a l'iteration  0\n",
            "je suis a l'iteration  0\n",
            "je suis a l'iteration  0\n",
            "je suis a l'iteration  0\n",
            "je suis a l'iteration  0\n",
            "je suis a l'iteration  0\n",
            "je suis a l'iteration  0\n",
            "je suis a l'iteration  0\n",
            "je suis a l'iteration  0\n",
            "je suis a l'iteration  0\n",
            "je suis a l'iteration  0\n",
            "je suis a l'iteration  0\n",
            "je suis a l'iteration  0\n",
            "je suis a l'iteration  0\n",
            "je suis a l'iteration  0\n",
            "je suis a l'iteration  0\n",
            "je suis a l'iteration  0\n",
            "je suis a l'iteration  0\n",
            "je suis a l'iteration  0\n",
            "je suis a l'iteration  0\n",
            "je suis a l'iteration  0\n",
            "je suis a l'iteration  0\n",
            "je suis a l'iteration  0\n",
            "je suis a l'iteration  0\n",
            "je suis a l'iteration  0\n",
            "je suis a l'iteration  0\n",
            "je suis a l'iteration  0\n",
            "je suis a l'iteration  0\n",
            "je suis a l'iteration  0\n",
            "je suis a l'iteration  0\n",
            "je suis a l'iteration  0\n",
            "je suis a l'iteration  0\n",
            "je suis a l'iteration  0\n",
            "je suis a l'iteration  0\n",
            "je suis a l'iteration  0\n",
            "je suis a l'iteration  0\n",
            "je suis a l'iteration  0\n",
            "je suis a l'iteration  0\n",
            "je suis a l'iteration  0\n",
            "je suis a l'iteration  0\n",
            "je suis a l'iteration  0\n",
            "je suis a l'iteration  0\n",
            "je suis a l'iteration  0\n",
            "je suis a l'iteration  0\n",
            "je suis a l'iteration  0\n",
            "je suis a l'iteration  0\n",
            "je suis a l'iteration  0\n",
            "je suis a l'iteration  0\n",
            "je suis a l'iteration  0\n",
            "je suis a l'iteration  0\n",
            "je suis a l'iteration  0\n",
            "je suis a l'iteration  0\n",
            "je suis a l'iteration  0\n",
            "je suis a l'iteration  0\n",
            "je suis a l'iteration  0\n",
            "je suis a l'iteration  0\n",
            "je suis a l'iteration  0\n",
            "je suis a l'iteration  0\n",
            "je suis a l'iteration  0\n",
            "je suis a l'iteration  0\n",
            "je suis a l'iteration  0\n",
            "je suis a l'iteration  0\n",
            "je suis a l'iteration  0\n",
            "je suis a l'iteration  0\n",
            "je suis a l'iteration  0\n",
            "je suis a l'iteration  0\n",
            "je suis a l'iteration  0\n",
            "je suis a l'iteration  0\n",
            "je suis a l'iteration  0\n",
            "je suis a l'iteration  0\n",
            "je suis a l'iteration  0\n",
            "je suis a l'iteration  0\n",
            "je suis a l'iteration  0\n",
            "je suis a l'iteration  0\n",
            "je suis a l'iteration  0\n",
            "je suis a l'iteration  0\n",
            "je suis a l'iteration  0\n",
            "je suis a l'iteration  0\n",
            "je suis a l'iteration  0\n",
            "je suis a l'iteration  0\n",
            "je suis a l'iteration  0\n",
            "je suis a l'iteration  0\n",
            "je suis a l'iteration  0\n",
            "je suis a l'iteration  0\n",
            "je suis a l'iteration  0\n",
            "je suis a l'iteration  0\n",
            "je suis a l'iteration  0\n",
            "je suis a l'iteration  0\n",
            "je suis a l'iteration  0\n",
            "je suis a l'iteration  0\n",
            "je suis a l'iteration  0\n",
            "je suis a l'iteration  0\n",
            "je suis a l'iteration  0\n",
            "je suis a l'iteration  0\n",
            "je suis a l'iteration  0\n",
            "je suis a l'iteration  0\n",
            "je suis a l'iteration  0\n",
            "je suis a l'iteration  0\n",
            "je suis a l'iteration  0\n",
            "je suis a l'iteration  0\n",
            "je suis a l'iteration  0\n",
            "je suis a l'iteration  0\n",
            "je suis a l'iteration  0\n",
            "je suis a l'iteration  0\n",
            "je suis a l'iteration  0\n",
            "je suis a l'iteration  0\n",
            "je suis a l'iteration  0\n",
            "je suis a l'iteration  0\n",
            "je suis a l'iteration  0\n",
            "je suis a l'iteration  0\n",
            "je suis a l'iteration  0\n",
            "je suis a l'iteration  0\n",
            "je suis a l'iteration  0\n",
            "je suis a l'iteration  0\n",
            "je suis a l'iteration  0\n",
            "je suis a l'iteration  0\n",
            "je suis a l'iteration  0\n",
            "je suis a l'iteration  0\n",
            "je suis a l'iteration  0\n",
            "je suis a l'iteration  0\n",
            "je suis a l'iteration  0\n",
            "je suis a l'iteration  0\n",
            "je suis a l'iteration  0\n",
            "je suis a l'iteration  0\n",
            "je suis a l'iteration  0\n",
            "je suis a l'iteration  0\n",
            "je suis a l'iteration  0\n",
            "je suis a l'iteration  0\n",
            "je suis a l'iteration  0\n",
            "je suis a l'iteration  0\n",
            "je suis a l'iteration  0\n",
            "je suis a l'iteration  0\n",
            "je suis a l'iteration  0\n",
            "je suis a l'iteration  0\n",
            "je suis a l'iteration  0\n",
            "je suis a l'iteration  0\n",
            "je suis a l'iteration  0\n",
            "je suis a l'iteration  0\n",
            "je suis a l'iteration  0\n",
            "je suis a l'iteration  0\n",
            "je suis a l'iteration  0\n",
            "je suis a l'iteration  0\n",
            "je suis a l'iteration  0\n",
            "je suis a l'iteration  0\n",
            "je suis a l'iteration  0\n",
            "je suis a l'iteration  0\n",
            "je suis a l'iteration  0\n",
            "je suis a l'iteration  0\n",
            "je suis a l'iteration  0\n",
            "je suis a l'iteration  0\n",
            "je suis a l'iteration  0\n",
            "je suis a l'iteration  0\n",
            "je suis a l'iteration  0\n",
            "je suis a l'iteration  0\n",
            "je suis a l'iteration  0\n",
            "je suis a l'iteration  0\n",
            "je suis a l'iteration  0\n",
            "je suis a l'iteration  0\n",
            "je suis a l'iteration  0\n",
            "je suis a l'iteration  0\n",
            "je suis a l'iteration  0\n",
            "je suis a l'iteration  0\n",
            "je suis a l'iteration  0\n",
            "je suis a l'iteration  0\n",
            "je suis a l'iteration  0\n",
            "je suis a l'iteration  0\n",
            "je suis a l'iteration  0\n",
            "je suis a l'iteration  0\n",
            "je suis a l'iteration  0\n",
            "je suis a l'iteration  0\n",
            "je suis a l'iteration  0\n",
            "je suis a l'iteration  0\n",
            "je suis a l'iteration  0\n",
            "je suis a l'iteration  0\n",
            "je suis a l'iteration  0\n",
            "je suis a l'iteration  0\n",
            "je suis a l'iteration  0\n",
            "je suis a l'iteration  0\n",
            "je suis a l'iteration  0\n",
            "je suis a l'iteration  0\n",
            "je suis a l'iteration  0\n",
            "je suis a l'iteration  0\n",
            "je suis a l'iteration  0\n",
            "je suis a l'iteration  0\n",
            "je suis a l'iteration  0\n",
            "je suis a l'iteration  0\n",
            "je suis a l'iteration  0\n",
            "je suis a l'iteration  0\n",
            "je suis a l'iteration  0\n",
            "je suis a l'iteration  0\n",
            "je suis a l'iteration  0\n",
            "je suis a l'iteration  0\n",
            "je suis a l'iteration  0\n",
            "je suis a l'iteration  0\n",
            "je suis a l'iteration  0\n",
            "je suis a l'iteration  0\n",
            "je suis a l'iteration  0\n",
            "je suis a l'iteration  0\n",
            "je suis a l'iteration  0\n",
            "je suis a l'iteration  0\n",
            "je suis a l'iteration  0\n",
            "je suis a l'iteration  0\n",
            "je suis a l'iteration  0\n",
            "je suis a l'iteration  0\n",
            "je suis a l'iteration  0\n",
            "je suis a l'iteration  0\n",
            "je suis a l'iteration  0\n",
            "je suis a l'iteration  0\n",
            "je suis a l'iteration  0\n",
            "je suis a l'iteration  0\n",
            "je suis a l'iteration  0\n",
            "je suis a l'iteration  0\n",
            "je suis a l'iteration  0\n",
            "je suis a l'iteration  0\n",
            "je suis a l'iteration  0\n",
            "je suis a l'iteration  0\n",
            "je suis a l'iteration  0\n",
            "je suis a l'iteration  0\n",
            "je suis a l'iteration  0\n",
            "je suis a l'iteration  0\n",
            "je suis a l'iteration  0\n",
            "je suis a l'iteration  0\n",
            "je suis a l'iteration  0\n",
            "je suis a l'iteration  0\n",
            "je suis a l'iteration  0\n",
            "je suis a l'iteration  0\n",
            "je suis a l'iteration  0\n",
            "je suis a l'iteration  0\n",
            "je suis a l'iteration  0\n",
            "je suis a l'iteration  0\n",
            "je suis a l'iteration  0\n",
            "je suis a l'iteration  0\n",
            "je suis a l'iteration  0\n",
            "je suis a l'iteration  0\n",
            "je suis a l'iteration  0\n",
            "je suis a l'iteration  0\n",
            "je suis a l'iteration  0\n",
            "je suis a l'iteration  0\n",
            "je suis a l'iteration  0\n",
            "je suis a l'iteration  0\n",
            "je suis a l'iteration  0\n",
            "je suis a l'iteration  0\n",
            "je suis a l'iteration  0\n",
            "je suis a l'iteration  0\n",
            "je suis a l'iteration  0\n",
            "je suis a l'iteration  0\n",
            "je suis a l'iteration  0\n",
            "je suis a l'iteration  0\n",
            "je suis a l'iteration  0\n",
            "je suis a l'iteration  0\n",
            "je suis a l'iteration  0\n",
            "je suis a l'iteration  0\n",
            "je suis a l'iteration  0\n",
            "je suis a l'iteration  0\n",
            "je suis a l'iteration  0\n",
            "je suis a l'iteration  0\n",
            "je suis a l'iteration  0\n",
            "je suis a l'iteration  0\n",
            "je suis a l'iteration  0\n",
            "je suis a l'iteration  0\n",
            "je suis a l'iteration  0\n",
            "je suis a l'iteration  0\n",
            "je suis a l'iteration  0\n",
            "je suis a l'iteration  0\n",
            "je suis a l'iteration  0\n",
            "je suis a l'iteration  0\n",
            "je suis a l'iteration  0\n",
            "je suis a l'iteration  0\n",
            "je suis a l'iteration  0\n",
            "je suis a l'iteration  0\n",
            "je suis a l'iteration  0\n",
            "je suis a l'iteration  0\n",
            "je suis a l'iteration  0\n",
            "je suis a l'iteration  0\n",
            "je suis a l'iteration  0\n",
            "je suis a l'iteration  0\n",
            "je suis a l'iteration  0\n",
            "je suis a l'iteration  0\n",
            "je suis a l'iteration  0\n",
            "je suis a l'iteration  0\n",
            "je suis a l'iteration  0\n",
            "je suis a l'iteration  0\n",
            "je suis a l'iteration  0\n",
            "je suis a l'iteration  0\n",
            "je suis a l'iteration  0\n",
            "je suis a l'iteration  0\n",
            "je suis a l'iteration  0\n",
            "je suis a l'iteration  0\n",
            "je suis a l'iteration  0\n",
            "je suis a l'iteration  0\n",
            "je suis a l'iteration  0\n",
            "je suis a l'iteration  0\n",
            "je suis a l'iteration  0\n",
            "je suis a l'iteration  0\n",
            "je suis a l'iteration  0\n",
            "je suis a l'iteration  0\n",
            "je suis a l'iteration  0\n",
            "je suis a l'iteration  0\n",
            "je suis a l'iteration  0\n",
            "je suis a l'iteration  0\n",
            "je suis a l'iteration  0\n",
            "je suis a l'iteration  0\n",
            "je suis a l'iteration  0\n",
            "je suis a l'iteration  0\n",
            "je suis a l'iteration  0\n",
            "je suis a l'iteration  0\n",
            "je suis a l'iteration  0\n",
            "je suis a l'iteration  0\n",
            "je suis a l'iteration  0\n",
            "je suis a l'iteration  0\n",
            "je suis a l'iteration  0\n",
            "je suis a l'iteration  0\n",
            "je suis a l'iteration  0\n",
            "je suis a l'iteration  0\n",
            "je suis a l'iteration  0\n",
            "je suis a l'iteration  0\n",
            "je suis a l'iteration  0\n",
            "je suis a l'iteration  0\n",
            "je suis a l'iteration  0\n",
            "je suis a l'iteration  0\n",
            "je suis a l'iteration  0\n",
            "je suis a l'iteration  0\n",
            "je suis a l'iteration  0\n",
            "je suis a l'iteration  0\n",
            "je suis a l'iteration  0\n",
            "je suis a l'iteration  0\n",
            "je suis a l'iteration  0\n",
            "je suis a l'iteration  0\n",
            "je suis a l'iteration  0\n",
            "je suis a l'iteration  0\n",
            "je suis a l'iteration  0\n",
            "je suis a l'iteration  0\n",
            "je suis a l'iteration  0\n",
            "je suis a l'iteration  0\n",
            "je suis a l'iteration  0\n",
            "je suis a l'iteration  0\n",
            "je suis a l'iteration  0\n",
            "je suis a l'iteration  0\n",
            "je suis a l'iteration  0\n",
            "je suis a l'iteration  0\n",
            "je suis a l'iteration  0\n",
            "je suis a l'iteration  0\n",
            "je suis a l'iteration  0\n",
            "je suis a l'iteration  0\n",
            "je suis a l'iteration  0\n",
            "je suis a l'iteration  0\n",
            "je suis a l'iteration  0\n",
            "je suis a l'iteration  0\n",
            "je suis a l'iteration  0\n",
            "je suis a l'iteration  0\n",
            "je suis a l'iteration  0\n",
            "je suis a l'iteration  0\n",
            "je suis a l'iteration  0\n",
            "je suis a l'iteration  0\n",
            "je suis a l'iteration  0\n",
            "je suis a l'iteration  0\n",
            "je suis a l'iteration  0\n",
            "je suis a l'iteration  0\n",
            "je suis a l'iteration  0\n",
            "je suis a l'iteration  0\n",
            "je suis a l'iteration  0\n",
            "je suis a l'iteration  0\n",
            "je suis a l'iteration  0\n",
            "je suis a l'iteration  0\n",
            "je suis a l'iteration  0\n",
            "je suis a l'iteration  0\n",
            "je suis a l'iteration  0\n",
            "je suis a l'iteration  0\n",
            "je suis a l'iteration  0\n",
            "je suis a l'iteration  0\n",
            "je suis a l'iteration  0\n",
            "je suis a l'iteration  0\n",
            "je suis a l'iteration  0\n",
            "je suis a l'iteration  0\n",
            "je suis a l'iteration  0\n",
            "je suis a l'iteration  0\n",
            "je suis a l'iteration  0\n",
            "je suis a l'iteration  0\n",
            "je suis a l'iteration  0\n",
            "je suis a l'iteration  0\n",
            "je suis a l'iteration  0\n",
            "je suis a l'iteration  0\n",
            "je suis a l'iteration  0\n",
            "je suis a l'iteration  0\n",
            "je suis a l'iteration  0\n",
            "je suis a l'iteration  0\n",
            "je suis a l'iteration  0\n",
            "je suis a l'iteration  0\n",
            "je suis a l'iteration  0\n",
            "je suis a l'iteration  0\n",
            "je suis a l'iteration  0\n",
            "je suis a l'iteration  0\n",
            "je suis a l'iteration  0\n",
            "je suis a l'iteration  0\n",
            "je suis a l'iteration  0\n",
            "je suis a l'iteration  0\n",
            "je suis a l'iteration  0\n",
            "je suis a l'iteration  0\n",
            "je suis a l'iteration  0\n",
            "je suis a l'iteration  0\n",
            "je suis a l'iteration  0\n",
            "je suis a l'iteration  0\n",
            "je suis a l'iteration  0\n",
            "je suis a l'iteration  0\n",
            "je suis a l'iteration  0\n",
            "je suis a l'iteration  0\n",
            "je suis a l'iteration  0\n",
            "je suis a l'iteration  0\n",
            "je suis a l'iteration  0\n",
            "je suis a l'iteration  0\n",
            "je suis a l'iteration  0\n",
            "je suis a l'iteration  0\n",
            "je suis a l'iteration  0\n",
            "je suis a l'iteration  0\n",
            "je suis a l'iteration  0\n",
            "je suis a l'iteration  0\n",
            "je suis a l'iteration  0\n",
            "je suis a l'iteration  0\n",
            "je suis a l'iteration  0\n",
            "je suis a l'iteration  0\n",
            "je suis a l'iteration  0\n",
            "je suis a l'iteration  0\n",
            "je suis a l'iteration  0\n",
            "je suis a l'iteration  0\n",
            "je suis a l'iteration  0\n",
            "je suis a l'iteration  0\n",
            "je suis a l'iteration  0\n",
            "je suis a l'iteration  0\n",
            "je suis a l'iteration  0\n",
            "je suis a l'iteration  0\n",
            "je suis a l'iteration  0\n",
            "je suis a l'iteration  0\n",
            "je suis a l'iteration  0\n",
            "je suis a l'iteration  0\n",
            "je suis a l'iteration  0\n",
            "je suis a l'iteration  0\n",
            "je suis a l'iteration  0\n",
            "je suis a l'iteration  0\n",
            "je suis a l'iteration  0\n",
            "je suis a l'iteration  0\n",
            "je suis a l'iteration  0\n",
            "je suis a l'iteration  0\n",
            "je suis a l'iteration  0\n",
            "je suis a l'iteration  0\n",
            "je suis a l'iteration  0\n",
            "je suis a l'iteration  0\n",
            "je suis a l'iteration  0\n",
            "je suis a l'iteration  0\n",
            "je suis a l'iteration  0\n",
            "je suis a l'iteration  0\n",
            "je suis a l'iteration  0\n",
            "je suis a l'iteration  0\n",
            "je suis a l'iteration  0\n",
            "je suis a l'iteration  0\n",
            "je suis a l'iteration  0\n",
            "je suis a l'iteration  0\n",
            "je suis a l'iteration  0\n",
            "je suis a l'iteration  0\n",
            "je suis a l'iteration  0\n",
            "je suis a l'iteration  0\n",
            "je suis a l'iteration  0\n",
            "je suis a l'iteration  0\n",
            "je suis a l'iteration  0\n",
            "je suis a l'iteration  0\n",
            "je suis a l'iteration  0\n",
            "je suis a l'iteration  0\n",
            "je suis a l'iteration  0\n",
            "je suis a l'iteration  0\n",
            "je suis a l'iteration  0\n",
            "je suis a l'iteration  0\n",
            "je suis a l'iteration  0\n",
            "je suis a l'iteration  0\n",
            "je suis a l'iteration  0\n",
            "je suis a l'iteration  0\n",
            "je suis a l'iteration  0\n",
            "je suis a l'iteration  0\n",
            "je suis a l'iteration  0\n",
            "je suis a l'iteration  0\n",
            "je suis a l'iteration  0\n",
            "je suis a l'iteration  0\n",
            "je suis a l'iteration  0\n",
            "je suis a l'iteration  0\n",
            "je suis a l'iteration  0\n",
            "je suis a l'iteration  0\n",
            "je suis a l'iteration  0\n",
            "je suis a l'iteration  0\n",
            "je suis a l'iteration  0\n",
            "je suis a l'iteration  0\n",
            "je suis a l'iteration  0\n",
            "je suis a l'iteration  0\n",
            "je suis a l'iteration  0\n",
            "je suis a l'iteration  0\n",
            "je suis a l'iteration  0\n",
            "je suis a l'iteration  0\n",
            "je suis a l'iteration  0\n",
            "je suis a l'iteration  0\n",
            "je suis a l'iteration  0\n",
            "je suis a l'iteration  0\n",
            "je suis a l'iteration  0\n",
            "je suis a l'iteration  0\n",
            "je suis a l'iteration  0\n",
            "je suis a l'iteration  0\n",
            "je suis a l'iteration  0\n",
            "je suis a l'iteration  0\n",
            "je suis a l'iteration  0\n",
            "je suis a l'iteration  0\n",
            "je suis a l'iteration  0\n",
            "je suis a l'iteration  0\n",
            "je suis a l'iteration  0\n",
            "je suis a l'iteration  0\n",
            "je suis a l'iteration  0\n",
            "je suis a l'iteration  0\n",
            "je suis a l'iteration  0\n",
            "je suis a l'iteration  0\n",
            "je suis a l'iteration  0\n",
            "je suis a l'iteration  0\n",
            "je suis a l'iteration  0\n",
            "je suis a l'iteration  0\n",
            "je suis a l'iteration  0\n",
            "je suis a l'iteration  0\n",
            "je suis a l'iteration  0\n",
            "je suis a l'iteration  0\n",
            "je suis a l'iteration  0\n",
            "je suis a l'iteration  0\n",
            "je suis a l'iteration  0\n",
            "je suis a l'iteration  0\n",
            "je suis a l'iteration  0\n",
            "je suis a l'iteration  0\n",
            "je suis a l'iteration  0\n",
            "je suis a l'iteration  0\n",
            "je suis a l'iteration  0\n",
            "je suis a l'iteration  0\n",
            "je suis a l'iteration  0\n",
            "je suis a l'iteration  0\n",
            "je suis a l'iteration  0\n",
            "je suis a l'iteration  0\n",
            "je suis a l'iteration  0\n",
            "je suis a l'iteration  0\n",
            "je suis a l'iteration  0\n",
            "je suis a l'iteration  0\n",
            "je suis a l'iteration  0\n",
            "je suis a l'iteration  0\n",
            "je suis a l'iteration  0\n",
            "je suis a l'iteration  0\n",
            "je suis a l'iteration  0\n",
            "je suis a l'iteration  0\n",
            "je suis a l'iteration  0\n",
            "je suis a l'iteration  0\n",
            "je suis a l'iteration  0\n",
            "je suis a l'iteration  0\n",
            "je suis a l'iteration  0\n",
            "je suis a l'iteration  0\n",
            "je suis a l'iteration  0\n",
            "je suis a l'iteration  0\n",
            "je suis a l'iteration  0\n",
            "je suis a l'iteration  0\n",
            "je suis a l'iteration  0\n",
            "je suis a l'iteration  0\n",
            "je suis a l'iteration  0\n",
            "je suis a l'iteration  0\n",
            "je suis a l'iteration  0\n",
            "je suis a l'iteration  0\n",
            "je suis a l'iteration  0\n",
            "je suis a l'iteration  0\n",
            "je suis a l'iteration  0\n",
            "je suis a l'iteration  0\n",
            "je suis a l'iteration  0\n",
            "je suis a l'iteration  0\n",
            "je suis a l'iteration  0\n",
            "je suis a l'iteration  0\n",
            "je suis a l'iteration  0\n",
            "je suis a l'iteration  0\n",
            "je suis a l'iteration  0\n",
            "je suis a l'iteration  0\n",
            "je suis a l'iteration  0\n",
            "je suis a l'iteration  0\n",
            "je suis a l'iteration  0\n",
            "je suis a l'iteration  0\n",
            "je suis a l'iteration  0\n",
            "je suis a l'iteration  0\n",
            "je suis a l'iteration  0\n",
            "je suis a l'iteration  0\n",
            "je suis a l'iteration  0\n",
            "je suis a l'iteration  0\n",
            "je suis a l'iteration  0\n",
            "je suis a l'iteration  0\n",
            "je suis a l'iteration  0\n",
            "je suis a l'iteration  0\n",
            "je suis a l'iteration  0\n",
            "je suis a l'iteration  0\n",
            "je suis a l'iteration  0\n",
            "je suis a l'iteration  0\n",
            "je suis a l'iteration  0\n",
            "je suis a l'iteration  0\n",
            "je suis a l'iteration  0\n",
            "je suis a l'iteration  0\n",
            "je suis a l'iteration  0\n",
            "je suis a l'iteration  0\n",
            "je suis a l'iteration  0\n",
            "je suis a l'iteration  0\n",
            "je suis a l'iteration  0\n",
            "je suis a l'iteration  0\n",
            "je suis a l'iteration  0\n",
            "je suis a l'iteration  0\n",
            "je suis a l'iteration  0\n",
            "je suis a l'iteration  0\n",
            "je suis a l'iteration  0\n",
            "je suis a l'iteration  0\n",
            "je suis a l'iteration  0\n",
            "je suis a l'iteration  0\n",
            "je suis a l'iteration  0\n",
            "je suis a l'iteration  0\n",
            "je suis a l'iteration  0\n",
            "je suis a l'iteration  0\n",
            "je suis a l'iteration  0\n",
            "je suis a l'iteration  0\n",
            "je suis a l'iteration  0\n",
            "je suis a l'iteration  0\n",
            "je suis a l'iteration  0\n",
            "je suis a l'iteration  0\n",
            "je suis a l'iteration  0\n",
            "je suis a l'iteration  0\n",
            "je suis a l'iteration  0\n",
            "je suis a l'iteration  0\n",
            "je suis a l'iteration  0\n",
            "je suis a l'iteration  0\n",
            "je suis a l'iteration  0\n",
            "je suis a l'iteration  0\n",
            "je suis a l'iteration  0\n",
            "je suis a l'iteration  0\n",
            "je suis a l'iteration  0\n",
            "je suis a l'iteration  0\n",
            "je suis a l'iteration  0\n",
            "je suis a l'iteration  0\n",
            "je suis a l'iteration  0\n",
            "je suis a l'iteration  0\n",
            "je suis a l'iteration  0\n",
            "je suis a l'iteration  0\n",
            "je suis a l'iteration  0\n",
            "je suis a l'iteration  0\n",
            "je suis a l'iteration  0\n",
            "je suis a l'iteration  0\n",
            "je suis a l'iteration  0\n",
            "je suis a l'iteration  0\n",
            "je suis a l'iteration  0\n",
            "je suis a l'iteration  0\n",
            "je suis a l'iteration  0\n",
            "je suis a l'iteration  0\n",
            "je suis a l'iteration  0\n",
            "je suis a l'iteration  0\n",
            "je suis a l'iteration  0\n",
            "je suis a l'iteration  0\n",
            "je suis a l'iteration  0\n",
            "je suis a l'iteration  0\n",
            "je suis a l'iteration  0\n",
            "je suis a l'iteration  0\n",
            "je suis a l'iteration  0\n",
            "je suis a l'iteration  0\n",
            "je suis a l'iteration  0\n",
            "je suis a l'iteration  0\n",
            "je suis a l'iteration  0\n",
            "je suis a l'iteration  0\n",
            "je suis a l'iteration  0\n",
            "je suis a l'iteration  0\n",
            "je suis a l'iteration  0\n",
            "je suis a l'iteration  0\n",
            "je suis a l'iteration  0\n",
            "je suis a l'iteration  0\n",
            "je suis a l'iteration  0\n",
            "je suis a l'iteration  0\n",
            "je suis a l'iteration  0\n",
            "je suis a l'iteration  0\n",
            "je suis a l'iteration  0\n",
            "je suis a l'iteration  0\n",
            "je suis a l'iteration  0\n",
            "je suis a l'iteration  0\n",
            "je suis a l'iteration  0\n",
            "je suis a l'iteration  0\n",
            "je suis a l'iteration  0\n",
            "je suis a l'iteration  0\n",
            "je suis a l'iteration  0\n",
            "je suis a l'iteration  0\n",
            "je suis a l'iteration  0\n",
            "je suis a l'iteration  0\n",
            "je suis a l'iteration  0\n",
            "je suis a l'iteration  0\n",
            "je suis a l'iteration  0\n",
            "je suis a l'iteration  0\n",
            "je suis a l'iteration  0\n",
            "je suis a l'iteration  0\n",
            "je suis a l'iteration  0\n",
            "je suis a l'iteration  0\n",
            "je suis a l'iteration  0\n",
            "je suis a l'iteration  0\n",
            "je suis a l'iteration  0\n",
            "je suis a l'iteration  0\n",
            "je suis a l'iteration  0\n",
            "je suis a l'iteration  0\n",
            "je suis a l'iteration  0\n",
            "je suis a l'iteration  0\n",
            "je suis a l'iteration  0\n",
            "je suis a l'iteration  0\n",
            "je suis a l'iteration  0\n",
            "je suis a l'iteration  0\n",
            "je suis a l'iteration  0\n",
            "je suis a l'iteration  0\n",
            "je suis a l'iteration  0\n",
            "je suis a l'iteration  0\n",
            "je suis a l'iteration  0\n",
            "je suis a l'iteration  0\n",
            "je suis a l'iteration  0\n",
            "je suis a l'iteration  0\n",
            "je suis a l'iteration  0\n",
            "je suis a l'iteration  0\n",
            "je suis a l'iteration  0\n",
            "je suis a l'iteration  0\n",
            "je suis a l'iteration  0\n",
            "je suis a l'iteration  0\n",
            "je suis a l'iteration  0\n",
            "je suis a l'iteration  0\n",
            "je suis a l'iteration  0\n",
            "je suis a l'iteration  0\n",
            "je suis a l'iteration  0\n",
            "je suis a l'iteration  0\n",
            "je suis a l'iteration  0\n",
            "je suis a l'iteration  0\n",
            "je suis a l'iteration  0\n",
            "je suis a l'iteration  0\n",
            "je suis a l'iteration  0\n",
            "je suis a l'iteration  0\n",
            "je suis a l'iteration  0\n",
            "je suis a l'iteration  0\n",
            "je suis a l'iteration  0\n",
            "je suis a l'iteration  0\n",
            "je suis a l'iteration  0\n",
            "je suis a l'iteration  0\n",
            "je suis a l'iteration  0\n",
            "je suis a l'iteration  0\n",
            "je suis a l'iteration  0\n",
            "je suis a l'iteration  0\n",
            "je suis a l'iteration  0\n",
            "je suis a l'iteration  0\n",
            "je suis a l'iteration  0\n",
            "je suis a l'iteration  0\n",
            "je suis a l'iteration  0\n",
            "je suis a l'iteration  0\n",
            "je suis a l'iteration  0\n",
            "je suis a l'iteration  0\n",
            "je suis a l'iteration  0\n",
            "je suis a l'iteration  0\n",
            "je suis a l'iteration  0\n",
            "je suis a l'iteration  0\n",
            "je suis a l'iteration  0\n",
            "je suis a l'iteration  0\n",
            "je suis a l'iteration  0\n",
            "je suis a l'iteration  0\n",
            "je suis a l'iteration  0\n",
            "je suis a l'iteration  0\n",
            "je suis a l'iteration  0\n",
            "je suis a l'iteration  0\n",
            "je suis a l'iteration  0\n",
            "je suis a l'iteration  0\n",
            "je suis a l'iteration  0\n",
            "je suis a l'iteration  0\n",
            "je suis a l'iteration  0\n",
            "je suis a l'iteration  0\n",
            "je suis a l'iteration  0\n",
            "je suis a l'iteration  0\n",
            "je suis a l'iteration  0\n",
            "je suis a l'iteration  0\n",
            "je suis a l'iteration  0\n",
            "je suis a l'iteration  0\n",
            "je suis a l'iteration  0\n",
            "je suis a l'iteration  0\n",
            "je suis a l'iteration  0\n",
            "je suis a l'iteration  0\n",
            "je suis a l'iteration  0\n",
            "je suis a l'iteration  0\n",
            "je suis a l'iteration  0\n",
            "je suis a l'iteration  0\n",
            "je suis a l'iteration  0\n",
            "je suis a l'iteration  0\n",
            "je suis a l'iteration  0\n",
            "je suis a l'iteration  0\n",
            "je suis a l'iteration  0\n",
            "je suis a l'iteration  0\n",
            "je suis a l'iteration  0\n",
            "je suis a l'iteration  0\n",
            "je suis a l'iteration  0\n",
            "je suis a l'iteration  0\n",
            "je suis a l'iteration  0\n",
            "je suis a l'iteration  0\n",
            "je suis a l'iteration  0\n",
            "je suis a l'iteration  0\n",
            "je suis a l'iteration  0\n",
            "je suis a l'iteration  0\n",
            "je suis a l'iteration  0\n",
            "je suis a l'iteration  0\n",
            "je suis a l'iteration  0\n",
            "je suis a l'iteration  0\n",
            "je suis a l'iteration  0\n",
            "je suis a l'iteration  0\n",
            "je suis a l'iteration  0\n",
            "je suis a l'iteration  0\n",
            "je suis a l'iteration  0\n",
            "je suis a l'iteration  0\n",
            "je suis a l'iteration  0\n",
            "je suis a l'iteration  0\n",
            "je suis a l'iteration  0\n",
            "je suis a l'iteration  0\n",
            "je suis a l'iteration  0\n",
            "je suis a l'iteration  0\n",
            "je suis a l'iteration  0\n",
            "je suis a l'iteration  0\n",
            "je suis a l'iteration  0\n",
            "je suis a l'iteration  0\n",
            "je suis a l'iteration  0\n",
            "je suis a l'iteration  0\n",
            "je suis a l'iteration  0\n",
            "je suis a l'iteration  0\n",
            "je suis a l'iteration  0\n",
            "je suis a l'iteration  0\n",
            "je suis a l'iteration  0\n",
            "je suis a l'iteration  0\n",
            "je suis a l'iteration  0\n",
            "je suis a l'iteration  0\n",
            "je suis a l'iteration  0\n",
            "je suis a l'iteration  0\n",
            "je suis a l'iteration  0\n",
            "je suis a l'iteration  0\n",
            "je suis a l'iteration  0\n",
            "je suis a l'iteration  0\n",
            "je suis a l'iteration  0\n",
            "je suis a l'iteration  0\n",
            "je suis a l'iteration  0\n",
            "je suis a l'iteration  0\n",
            "je suis a l'iteration  0\n",
            "je suis a l'iteration  0\n",
            "je suis a l'iteration  0\n",
            "je suis a l'iteration  0\n",
            "je suis a l'iteration  0\n",
            "je suis a l'iteration  0\n",
            "je suis a l'iteration  0\n",
            "je suis a l'iteration  0\n",
            "je suis a l'iteration  0\n",
            "je suis a l'iteration  0\n",
            "je suis a l'iteration  0\n",
            "je suis a l'iteration  0\n",
            "je suis a l'iteration  0\n",
            "je suis a l'iteration  0\n",
            "je suis a l'iteration  0\n",
            "je suis a l'iteration  0\n",
            "je suis a l'iteration  0\n",
            "je suis a l'iteration  0\n",
            "je suis a l'iteration  0\n",
            "je suis a l'iteration  0\n",
            "je suis a l'iteration  0\n",
            "je suis a l'iteration  0\n",
            "je suis a l'iteration  0\n",
            "je suis a l'iteration  0\n",
            "je suis a l'iteration  0\n",
            "je suis a l'iteration  0\n",
            "je suis a l'iteration  0\n",
            "je suis a l'iteration  0\n",
            "je suis a l'iteration  0\n",
            "je suis a l'iteration  0\n",
            "je suis a l'iteration  0\n",
            "je suis a l'iteration  0\n",
            "je suis a l'iteration  0\n",
            "je suis a l'iteration  0\n",
            "je suis a l'iteration  0\n",
            "je suis a l'iteration  0\n",
            "je suis a l'iteration  0\n",
            "je suis a l'iteration  0\n",
            "je suis a l'iteration  0\n",
            "je suis a l'iteration  0\n",
            "je suis a l'iteration  0\n",
            "je suis a l'iteration  0\n",
            "je suis a l'iteration  0\n",
            "je suis a l'iteration  0\n",
            "je suis a l'iteration  0\n",
            "je suis a l'iteration  0\n",
            "je suis a l'iteration  0\n",
            "je suis a l'iteration  0\n",
            "je suis a l'iteration  0\n",
            "je suis a l'iteration  0\n",
            "je suis a l'iteration  0\n",
            "je suis a l'iteration  0\n",
            "je suis a l'iteration  0\n",
            "je suis a l'iteration  0\n",
            "je suis a l'iteration  0\n",
            "je suis a l'iteration  0\n",
            "je suis a l'iteration  0\n",
            "je suis a l'iteration  0\n",
            "je suis a l'iteration  0\n",
            "je suis a l'iteration  0\n",
            "je suis a l'iteration  0\n",
            "je suis a l'iteration  0\n",
            "je suis a l'iteration  0\n",
            "je suis a l'iteration  0\n",
            "je suis a l'iteration  0\n",
            "je suis a l'iteration  0\n",
            "je suis a l'iteration  0\n",
            "je suis a l'iteration  0\n",
            "je suis a l'iteration  0\n",
            "je suis a l'iteration  0\n",
            "je suis a l'iteration  0\n",
            "je suis a l'iteration  0\n",
            "je suis a l'iteration  0\n",
            "je suis a l'iteration  0\n",
            "je suis a l'iteration  0\n",
            "je suis a l'iteration  0\n",
            "je suis a l'iteration  0\n",
            "je suis a l'iteration  0\n",
            "je suis a l'iteration  0\n",
            "je suis a l'iteration  0\n",
            "je suis a l'iteration  0\n",
            "je suis a l'iteration  0\n",
            "je suis a l'iteration  0\n",
            "je suis a l'iteration  0\n",
            "je suis a l'iteration  0\n",
            "je suis a l'iteration  0\n",
            "je suis a l'iteration  0\n",
            "je suis a l'iteration  0\n",
            "je suis a l'iteration  0\n",
            "je suis a l'iteration  0\n",
            "je suis a l'iteration  0\n",
            "je suis a l'iteration  0\n",
            "je suis a l'iteration  0\n",
            "je suis a l'iteration  0\n",
            "je suis a l'iteration  0\n",
            "je suis a l'iteration  0\n",
            "je suis a l'iteration  0\n",
            "je suis a l'iteration  0\n",
            "je suis a l'iteration  0\n",
            "je suis a l'iteration  0\n",
            "je suis a l'iteration  0\n",
            "je suis a l'iteration  0\n",
            "je suis a l'iteration  0\n",
            "je suis a l'iteration  0\n",
            "je suis a l'iteration  0\n",
            "je suis a l'iteration  0\n",
            "je suis a l'iteration  0\n",
            "je suis a l'iteration  0\n",
            "je suis a l'iteration  0\n",
            "je suis a l'iteration  0\n",
            "je suis a l'iteration  0\n",
            "je suis a l'iteration  0\n",
            "je suis a l'iteration  0\n",
            "je suis a l'iteration  0\n",
            "je suis a l'iteration  0\n",
            "je suis a l'iteration  0\n",
            "je suis a l'iteration  0\n",
            "je suis a l'iteration  0\n",
            "je suis a l'iteration  0\n",
            "je suis a l'iteration  0\n",
            "je suis a l'iteration  0\n",
            "je suis a l'iteration  0\n",
            "je suis a l'iteration  0\n",
            "je suis a l'iteration  0\n",
            "je suis a l'iteration  0\n",
            "je suis a l'iteration  0\n",
            "je suis a l'iteration  0\n",
            "je suis a l'iteration  0\n",
            "je suis a l'iteration  0\n",
            "je suis a l'iteration  0\n",
            "je suis a l'iteration  0\n",
            "je suis a l'iteration  0\n",
            "je suis a l'iteration  0\n",
            "je suis a l'iteration  0\n",
            "je suis a l'iteration  0\n",
            "je suis a l'iteration  0\n",
            "je suis a l'iteration  0\n",
            "je suis a l'iteration  0\n",
            "je suis a l'iteration  0\n",
            "je suis a l'iteration  0\n",
            "je suis a l'iteration  0\n",
            "je suis a l'iteration  0\n",
            "je suis a l'iteration  0\n",
            "je suis a l'iteration  0\n",
            "je suis a l'iteration  0\n",
            "je suis a l'iteration  0\n",
            "je suis a l'iteration  0\n",
            "je suis a l'iteration  0\n",
            "je suis a l'iteration  0\n",
            "je suis a l'iteration  0\n",
            "je suis a l'iteration  0\n",
            "je suis a l'iteration  0\n",
            "je suis a l'iteration  0\n",
            "je suis a l'iteration  0\n",
            "je suis a l'iteration  0\n",
            "je suis a l'iteration  0\n",
            "je suis a l'iteration  0\n",
            "je suis a l'iteration  0\n",
            "je suis a l'iteration  0\n",
            "je suis a l'iteration  0\n",
            "je suis a l'iteration  0\n",
            "je suis a l'iteration  0\n",
            "je suis a l'iteration  0\n",
            "je suis a l'iteration  0\n",
            "je suis a l'iteration  0\n",
            "je suis a l'iteration  0\n",
            "je suis a l'iteration  0\n",
            "je suis a l'iteration  0\n",
            "je suis a l'iteration  0\n",
            "je suis a l'iteration  0\n",
            "je suis a l'iteration  0\n",
            "je suis a l'iteration  0\n",
            "je suis a l'iteration  0\n",
            "je suis a l'iteration  0\n",
            "je suis a l'iteration  0\n",
            "je suis a l'iteration  0\n",
            "je suis a l'iteration  0\n",
            "je suis a l'iteration  0\n",
            "je suis a l'iteration  0\n",
            "je suis a l'iteration  0\n",
            "je suis a l'iteration  0\n",
            "je suis a l'iteration  0\n",
            "je suis a l'iteration  0\n",
            "je suis a l'iteration  0\n",
            "je suis a l'iteration  0\n",
            "je suis a l'iteration  0\n",
            "je suis a l'iteration  0\n",
            "je suis a l'iteration  0\n",
            "je suis a l'iteration  0\n",
            "je suis a l'iteration  0\n",
            "je suis a l'iteration  0\n",
            "je suis a l'iteration  0\n",
            "je suis a l'iteration  0\n",
            "je suis a l'iteration  0\n",
            "je suis a l'iteration  0\n",
            "je suis a l'iteration  0\n",
            "je suis a l'iteration  0\n",
            "je suis a l'iteration  0\n",
            "je suis a l'iteration  0\n",
            "je suis a l'iteration  0\n",
            "je suis a l'iteration  0\n",
            "je suis a l'iteration  0\n",
            "je suis a l'iteration  0\n",
            "je suis a l'iteration  0\n",
            "je suis a l'iteration  0\n",
            "je suis a l'iteration  0\n",
            "je suis a l'iteration  0\n",
            "je suis a l'iteration  0\n",
            "je suis a l'iteration  0\n",
            "je suis a l'iteration  0\n",
            "je suis a l'iteration  0\n",
            "je suis a l'iteration  0\n",
            "je suis a l'iteration  0\n",
            "je suis a l'iteration  0\n",
            "je suis a l'iteration  0\n",
            "je suis a l'iteration  0\n",
            "je suis a l'iteration  0\n",
            "je suis a l'iteration  0\n",
            "je suis a l'iteration  0\n",
            "je suis a l'iteration  0\n",
            "je suis a l'iteration  0\n",
            "je suis a l'iteration  0\n",
            "je suis a l'iteration  0\n",
            "je suis a l'iteration  0\n",
            "je suis a l'iteration  0\n",
            "je suis a l'iteration  0\n",
            "je suis a l'iteration  0\n",
            "je suis a l'iteration  0\n",
            "je suis a l'iteration  0\n",
            "je suis a l'iteration  0\n",
            "je suis a l'iteration  0\n",
            "je suis a l'iteration  0\n",
            "je suis a l'iteration  0\n",
            "je suis a l'iteration  0\n",
            "je suis a l'iteration  0\n",
            "je suis a l'iteration  0\n",
            "je suis a l'iteration  0\n",
            "je suis a l'iteration  0\n",
            "je suis a l'iteration  0\n",
            "je suis a l'iteration  0\n",
            "je suis a l'iteration  0\n",
            "je suis a l'iteration  0\n",
            "je suis a l'iteration  0\n",
            "je suis a l'iteration  0\n",
            "je suis a l'iteration  0\n",
            "je suis a l'iteration  0\n",
            "je suis a l'iteration  0\n",
            "je suis a l'iteration  0\n",
            "je suis a l'iteration  0\n",
            "je suis a l'iteration  0\n",
            "je suis a l'iteration  0\n",
            "je suis a l'iteration  0\n",
            "je suis a l'iteration  0\n",
            "je suis a l'iteration  0\n",
            "je suis a l'iteration  0\n",
            "je suis a l'iteration  0\n",
            "je suis a l'iteration  0\n",
            "je suis a l'iteration  0\n",
            "je suis a l'iteration  0\n",
            "je suis a l'iteration  0\n",
            "je suis a l'iteration  0\n",
            "je suis a l'iteration  0\n",
            "je suis a l'iteration  0\n",
            "je suis a l'iteration  0\n",
            "je suis a l'iteration  0\n",
            "je suis a l'iteration  0\n",
            "je suis a l'iteration  0\n",
            "je suis a l'iteration  0\n",
            "je suis a l'iteration  0\n",
            "je suis a l'iteration  0\n",
            "je suis a l'iteration  0\n",
            "je suis a l'iteration  0\n",
            "je suis a l'iteration  0\n",
            "je suis a l'iteration  0\n",
            "je suis a l'iteration  0\n",
            "je suis a l'iteration  0\n",
            "je suis a l'iteration  0\n",
            "je suis a l'iteration  0\n",
            "je suis a l'iteration  0\n",
            "je suis a l'iteration  0\n",
            "je suis a l'iteration  0\n",
            "je suis a l'iteration  0\n",
            "je suis a l'iteration  0\n",
            "je suis a l'iteration  0\n",
            "je suis a l'iteration  0\n",
            "je suis a l'iteration  0\n",
            "je suis a l'iteration  0\n",
            "je suis a l'iteration  0\n",
            "je suis a l'iteration  0\n",
            "je suis a l'iteration  0\n",
            "je suis a l'iteration  0\n",
            "je suis a l'iteration  0\n",
            "je suis a l'iteration  0\n",
            "je suis a l'iteration  0\n",
            "je suis a l'iteration  0\n",
            "je suis a l'iteration  0\n",
            "je suis a l'iteration  0\n",
            "je suis a l'iteration  0\n",
            "je suis a l'iteration  0\n",
            "je suis a l'iteration  0\n",
            "je suis a l'iteration  0\n",
            "je suis a l'iteration  0\n",
            "je suis a l'iteration  0\n",
            "je suis a l'iteration  0\n",
            "je suis a l'iteration  0\n",
            "je suis a l'iteration  0\n",
            "je suis a l'iteration  0\n",
            "je suis a l'iteration  0\n",
            "je suis a l'iteration  0\n",
            "je suis a l'iteration  0\n",
            "je suis a l'iteration  0\n",
            "je suis a l'iteration  0\n",
            "je suis a l'iteration  0\n",
            "je suis a l'iteration  0\n",
            "je suis a l'iteration  0\n",
            "je suis a l'iteration  0\n",
            "je suis a l'iteration  0\n",
            "je suis a l'iteration  0\n",
            "je suis a l'iteration  0\n",
            "je suis a l'iteration  0\n",
            "je suis a l'iteration  0\n",
            "je suis a l'iteration  0\n",
            "je suis a l'iteration  0\n",
            "je suis a l'iteration  0\n",
            "je suis a l'iteration  0\n",
            "je suis a l'iteration  0\n",
            "je suis a l'iteration  0\n",
            "je suis a l'iteration  0\n",
            "je suis a l'iteration  0\n",
            "je suis a l'iteration  0\n",
            "je suis a l'iteration  0\n",
            "je suis a l'iteration  0\n",
            "je suis a l'iteration  0\n",
            "je suis a l'iteration  0\n",
            "je suis a l'iteration  0\n",
            "je suis a l'iteration  0\n",
            "je suis a l'iteration  0\n",
            "je suis a l'iteration  0\n",
            "je suis a l'iteration  0\n",
            "je suis a l'iteration  0\n",
            "je suis a l'iteration  0\n",
            "je suis a l'iteration  0\n",
            "je suis a l'iteration  0\n",
            "je suis a l'iteration  0\n",
            "je suis a l'iteration  0\n",
            "je suis a l'iteration  0\n",
            "je suis a l'iteration  0\n",
            "je suis a l'iteration  0\n",
            "je suis a l'iteration  0\n",
            "je suis a l'iteration  0\n",
            "je suis a l'iteration  0\n",
            "je suis a l'iteration  0\n",
            "je suis a l'iteration  0\n",
            "je suis a l'iteration  0\n",
            "je suis a l'iteration  0\n",
            "je suis a l'iteration  0\n",
            "je suis a l'iteration  0\n",
            "je suis a l'iteration  0\n",
            "je suis a l'iteration  0\n",
            "je suis a l'iteration  0\n",
            "je suis a l'iteration  0\n",
            "je suis a l'iteration  0\n",
            "je suis a l'iteration  0\n",
            "je suis a l'iteration  0\n",
            "je suis a l'iteration  0\n",
            "je suis a l'iteration  0\n",
            "je suis a l'iteration  0\n",
            "je suis a l'iteration  0\n",
            "je suis a l'iteration  0\n",
            "je suis a l'iteration  0\n",
            "je suis a l'iteration  0\n",
            "je suis a l'iteration  0\n",
            "je suis a l'iteration  0\n",
            "je suis a l'iteration  0\n",
            "je suis a l'iteration  0\n",
            "je suis a l'iteration  0\n",
            "je suis a l'iteration  0\n",
            "je suis a l'iteration  0\n",
            "je suis a l'iteration  0\n",
            "je suis a l'iteration  0\n",
            "je suis a l'iteration  0\n",
            "je suis a l'iteration  0\n",
            "je suis a l'iteration  0\n",
            "je suis a l'iteration  0\n",
            "je suis a l'iteration  0\n",
            "je suis a l'iteration  0\n",
            "je suis a l'iteration  0\n",
            "je suis a l'iteration  0\n",
            "je suis a l'iteration  0\n",
            "je suis a l'iteration  0\n",
            "je suis a l'iteration  0\n",
            "je suis a l'iteration  0\n",
            "je suis a l'iteration  0\n",
            "je suis a l'iteration  0\n",
            "je suis a l'iteration  0\n",
            "je suis a l'iteration  0\n",
            "je suis a l'iteration  0\n",
            "je suis a l'iteration  0\n",
            "je suis a l'iteration  0\n",
            "je suis a l'iteration  0\n",
            "je suis a l'iteration  0\n",
            "je suis a l'iteration  0\n",
            "je suis a l'iteration  0\n",
            "je suis a l'iteration  0\n",
            "je suis a l'iteration  0\n",
            "je suis a l'iteration  0\n",
            "je suis a l'iteration  0\n",
            "je suis a l'iteration  0\n",
            "je suis a l'iteration  0\n",
            "je suis a l'iteration  0\n",
            "je suis a l'iteration  0\n",
            "je suis a l'iteration  0\n",
            "je suis a l'iteration  0\n",
            "je suis a l'iteration  0\n",
            "je suis a l'iteration  0\n",
            "je suis a l'iteration  0\n",
            "je suis a l'iteration  0\n",
            "je suis a l'iteration  0\n",
            "je suis a l'iteration  0\n",
            "je suis a l'iteration  0\n",
            "je suis a l'iteration  0\n",
            "je suis a l'iteration  0\n",
            "je suis a l'iteration  0\n",
            "je suis a l'iteration  0\n",
            "je suis a l'iteration  0\n",
            "je suis a l'iteration  0\n",
            "je suis a l'iteration  0\n",
            "je suis a l'iteration  0\n",
            "je suis a l'iteration  0\n",
            "je suis a l'iteration  0\n",
            "je suis a l'iteration  0\n",
            "je suis a l'iteration  0\n",
            "je suis a l'iteration  0\n",
            "je suis a l'iteration  0\n",
            "je suis a l'iteration  0\n",
            "je suis a l'iteration  0\n",
            "je suis a l'iteration  0\n",
            "je suis a l'iteration  0\n",
            "je suis a l'iteration  0\n",
            "je suis a l'iteration  0\n",
            "je suis a l'iteration  0\n",
            "je suis a l'iteration  0\n",
            "je suis a l'iteration  0\n",
            "je suis a l'iteration  0\n",
            "je suis a l'iteration  0\n",
            "je suis a l'iteration  0\n",
            "je suis a l'iteration  0\n",
            "je suis a l'iteration  0\n",
            "je suis a l'iteration  0\n",
            "je suis a l'iteration  0\n",
            "je suis a l'iteration  0\n",
            "je suis a l'iteration  0\n",
            "je suis a l'iteration  0\n",
            "je suis a l'iteration  0\n",
            "je suis a l'iteration  0\n",
            "je suis a l'iteration  0\n",
            "je suis a l'iteration  0\n",
            "je suis a l'iteration  0\n",
            "je suis a l'iteration  0\n",
            "je suis a l'iteration  0\n",
            "je suis a l'iteration  0\n",
            "je suis a l'iteration  0\n",
            "je suis a l'iteration  0\n",
            "je suis a l'iteration  0\n",
            "je suis a l'iteration  0\n",
            "je suis a l'iteration  0\n",
            "je suis a l'iteration  0\n",
            "je suis a l'iteration  0\n",
            "je suis a l'iteration  0\n",
            "je suis a l'iteration  0\n",
            "je suis a l'iteration  0\n",
            "je suis a l'iteration  0\n",
            "je suis a l'iteration  0\n",
            "je suis a l'iteration  0\n",
            "je suis a l'iteration  0\n",
            "je suis a l'iteration  0\n",
            "je suis a l'iteration  0\n",
            "je suis a l'iteration  0\n",
            "je suis a l'iteration  0\n",
            "je suis a l'iteration  0\n",
            "je suis a l'iteration  0\n",
            "je suis a l'iteration  0\n",
            "je suis a l'iteration  0\n",
            "je suis a l'iteration  0\n",
            "je suis a l'iteration  0\n",
            "je suis a l'iteration  0\n",
            "je suis a l'iteration  0\n",
            "je suis a l'iteration  0\n",
            "je suis a l'iteration  0\n",
            "je suis a l'iteration  0\n",
            "je suis a l'iteration  0\n",
            "je suis a l'iteration  0\n",
            "je suis a l'iteration  0\n",
            "je suis a l'iteration  0\n",
            "je suis a l'iteration  0\n",
            "je suis a l'iteration  0\n",
            "je suis a l'iteration  0\n",
            "je suis a l'iteration  0\n",
            "je suis a l'iteration  0\n",
            "je suis a l'iteration  0\n",
            "je suis a l'iteration  0\n",
            "je suis a l'iteration  0\n",
            "je suis a l'iteration  0\n",
            "je suis a l'iteration  0\n",
            "je suis a l'iteration  0\n",
            "je suis a l'iteration  0\n",
            "je suis a l'iteration  0\n",
            "je suis a l'iteration  0\n",
            "je suis a l'iteration  0\n",
            "je suis a l'iteration  0\n",
            "je suis a l'iteration  0\n",
            "je suis a l'iteration  0\n",
            "je suis a l'iteration  0\n",
            "je suis a l'iteration  0\n",
            "je suis a l'iteration  0\n",
            "je suis a l'iteration  0\n",
            "je suis a l'iteration  0\n",
            "je suis a l'iteration  0\n",
            "je suis a l'iteration  0\n",
            "je suis a l'iteration  0\n",
            "je suis a l'iteration  0\n",
            "je suis a l'iteration  0\n",
            "je suis a l'iteration  0\n",
            "je suis a l'iteration  0\n",
            "je suis a l'iteration  0\n",
            "je suis a l'iteration  0\n",
            "je suis a l'iteration  0\n",
            "je suis a l'iteration  0\n",
            "je suis a l'iteration  0\n",
            "je suis a l'iteration  0\n",
            "je suis a l'iteration  0\n",
            "je suis a l'iteration  0\n",
            "je suis a l'iteration  0\n",
            "je suis a l'iteration  0\n",
            "je suis a l'iteration  0\n",
            "je suis a l'iteration  0\n",
            "je suis a l'iteration  0\n",
            "je suis a l'iteration  0\n",
            "je suis a l'iteration  0\n",
            "je suis a l'iteration  0\n",
            "je suis a l'iteration  0\n",
            "je suis a l'iteration  0\n",
            "je suis a l'iteration  0\n",
            "je suis a l'iteration  0\n",
            "je suis a l'iteration  0\n",
            "je suis a l'iteration  0\n",
            "je suis a l'iteration  0\n",
            "je suis a l'iteration  0\n",
            "je suis a l'iteration  0\n",
            "je suis a l'iteration  0\n",
            "je suis a l'iteration  0\n",
            "je suis a l'iteration  0\n",
            "je suis a l'iteration  0\n",
            "je suis a l'iteration  0\n",
            "je suis a l'iteration  0\n",
            "je suis a l'iteration  0\n",
            "je suis a l'iteration  0\n",
            "je suis a l'iteration  0\n",
            "je suis a l'iteration  0\n",
            "je suis a l'iteration  0\n",
            "je suis a l'iteration  0\n",
            "je suis a l'iteration  0\n",
            "je suis a l'iteration  0\n",
            "je suis a l'iteration  0\n",
            "je suis a l'iteration  0\n",
            "je suis a l'iteration  0\n",
            "je suis a l'iteration  0\n",
            "je suis a l'iteration  0\n",
            "je suis a l'iteration  0\n",
            "je suis a l'iteration  0\n",
            "je suis a l'iteration  0\n",
            "je suis a l'iteration  0\n",
            "je suis a l'iteration  0\n",
            "je suis a l'iteration  0\n",
            "je suis a l'iteration  0\n",
            "je suis a l'iteration  0\n",
            "je suis a l'iteration  0\n",
            "je suis a l'iteration  0\n",
            "je suis a l'iteration  0\n",
            "je suis a l'iteration  0\n",
            "je suis a l'iteration  0\n",
            "je suis a l'iteration  0\n",
            "je suis a l'iteration  0\n",
            "je suis a l'iteration  0\n",
            "je suis a l'iteration  0\n",
            "je suis a l'iteration  0\n",
            "je suis a l'iteration  0\n",
            "je suis a l'iteration  0\n",
            "je suis a l'iteration  0\n",
            "je suis a l'iteration  0\n",
            "je suis a l'iteration  0\n",
            "je suis a l'iteration  0\n",
            "je suis a l'iteration  0\n",
            "je suis a l'iteration  0\n",
            "je suis a l'iteration  0\n",
            "je suis a l'iteration  0\n",
            "je suis a l'iteration  0\n",
            "je suis a l'iteration  0\n",
            "je suis a l'iteration  0\n",
            "je suis a l'iteration  0\n",
            "je suis a l'iteration  0\n",
            "je suis a l'iteration  0\n",
            "je suis a l'iteration  0\n",
            "je suis a l'iteration  0\n",
            "je suis a l'iteration  0\n",
            "je suis a l'iteration  0\n",
            "je suis a l'iteration  0\n",
            "je suis a l'iteration  0\n",
            "je suis a l'iteration  0\n",
            "je suis a l'iteration  0\n",
            "je suis a l'iteration  0\n",
            "je suis a l'iteration  0\n",
            "je suis a l'iteration  0\n",
            "je suis a l'iteration  0\n",
            "je suis a l'iteration  0\n",
            "je suis a l'iteration  0\n",
            "je suis a l'iteration  0\n",
            "je suis a l'iteration  0\n",
            "je suis a l'iteration  0\n",
            "je suis a l'iteration  0\n",
            "je suis a l'iteration  0\n",
            "je suis a l'iteration  0\n",
            "je suis a l'iteration  0\n",
            "je suis a l'iteration  0\n",
            "je suis a l'iteration  0\n",
            "je suis a l'iteration  0\n",
            "je suis a l'iteration  0\n",
            "je suis a l'iteration  0\n",
            "je suis a l'iteration  0\n",
            "je suis a l'iteration  0\n",
            "je suis a l'iteration  0\n",
            "je suis a l'iteration  0\n",
            "je suis a l'iteration  0\n",
            "je suis a l'iteration  0\n",
            "je suis a l'iteration  0\n",
            "je suis a l'iteration  0\n",
            "je suis a l'iteration  0\n",
            "je suis a l'iteration  0\n",
            "je suis a l'iteration  0\n",
            "je suis a l'iteration  0\n",
            "je suis a l'iteration  0\n",
            "je suis a l'iteration  0\n",
            "je suis a l'iteration  0\n",
            "je suis a l'iteration  0\n",
            "je suis a l'iteration  0\n",
            "je suis a l'iteration  0\n",
            "je suis a l'iteration  0\n",
            "je suis a l'iteration  0\n",
            "je suis a l'iteration  0\n",
            "je suis a l'iteration  0\n",
            "je suis a l'iteration  0\n",
            "je suis a l'iteration  0\n",
            "je suis a l'iteration  0\n",
            "je suis a l'iteration  0\n",
            "je suis a l'iteration  0\n",
            "je suis a l'iteration  0\n",
            "je suis a l'iteration  0\n",
            "je suis a l'iteration  0\n",
            "je suis a l'iteration  0\n",
            "je suis a l'iteration  0\n",
            "je suis a l'iteration  0\n",
            "je suis a l'iteration  0\n",
            "je suis a l'iteration  0\n",
            "je suis a l'iteration  0\n",
            "je suis a l'iteration  0\n",
            "je suis a l'iteration  0\n",
            "je suis a l'iteration  0\n",
            "je suis a l'iteration  0\n",
            "je suis a l'iteration  0\n",
            "je suis a l'iteration  0\n",
            "je suis a l'iteration  0\n",
            "je suis a l'iteration  0\n",
            "je suis a l'iteration  0\n",
            "je suis a l'iteration  0\n",
            "je suis a l'iteration  0\n",
            "je suis a l'iteration  0\n",
            "je suis a l'iteration  0\n",
            "je suis a l'iteration  0\n",
            "je suis a l'iteration  0\n",
            "je suis a l'iteration  0\n",
            "je suis a l'iteration  0\n",
            "je suis a l'iteration  0\n",
            "je suis a l'iteration  0\n",
            "je suis a l'iteration  0\n",
            "je suis a l'iteration  0\n",
            "je suis a l'iteration  0\n",
            "je suis a l'iteration  0\n",
            "je suis a l'iteration  0\n",
            "je suis a l'iteration  0\n",
            "je suis a l'iteration  0\n",
            "je suis a l'iteration  0\n",
            "je suis a l'iteration  0\n",
            "je suis a l'iteration  0\n",
            "je suis a l'iteration  0\n",
            "je suis a l'iteration  0\n",
            "je suis a l'iteration  0\n",
            "je suis a l'iteration  0\n",
            "je suis a l'iteration  0\n",
            "je suis a l'iteration  0\n",
            "je suis a l'iteration  0\n",
            "je suis a l'iteration  0\n",
            "je suis a l'iteration  0\n",
            "je suis a l'iteration  0\n",
            "je suis a l'iteration  0\n",
            "je suis a l'iteration  0\n",
            "je suis a l'iteration  0\n",
            "je suis a l'iteration  0\n",
            "je suis a l'iteration  0\n",
            "je suis a l'iteration  0\n",
            "je suis a l'iteration  0\n",
            "je suis a l'iteration  0\n",
            "je suis a l'iteration  0\n",
            "je suis a l'iteration  0\n",
            "je suis a l'iteration  0\n",
            "je suis a l'iteration  0\n",
            "je suis a l'iteration  0\n",
            "je suis a l'iteration  0\n",
            "je suis a l'iteration  0\n",
            "je suis a l'iteration  0\n",
            "je suis a l'iteration  0\n",
            "je suis a l'iteration  0\n",
            "je suis a l'iteration  0\n",
            "je suis a l'iteration  0\n",
            "je suis a l'iteration  0\n",
            "je suis a l'iteration  0\n",
            "je suis a l'iteration  0\n",
            "je suis a l'iteration  0\n",
            "je suis a l'iteration  0\n",
            "je suis a l'iteration  0\n",
            "je suis a l'iteration  0\n",
            "je suis a l'iteration  0\n",
            "je suis a l'iteration  0\n",
            "je suis a l'iteration  0\n",
            "je suis a l'iteration  0\n",
            "je suis a l'iteration  0\n",
            "je suis a l'iteration  0\n",
            "je suis a l'iteration  0\n",
            "je suis a l'iteration  0\n",
            "je suis a l'iteration  0\n",
            "je suis a l'iteration  0\n",
            "je suis a l'iteration  0\n",
            "je suis a l'iteration  0\n",
            "je suis a l'iteration  0\n",
            "je suis a l'iteration  0\n",
            "je suis a l'iteration  0\n",
            "je suis a l'iteration  0\n",
            "je suis a l'iteration  0\n",
            "je suis a l'iteration  0\n",
            "je suis a l'iteration  0\n",
            "je suis a l'iteration  0\n",
            "je suis a l'iteration  0\n",
            "je suis a l'iteration  0\n",
            "je suis a l'iteration  0\n",
            "je suis a l'iteration  0\n",
            "je suis a l'iteration  0\n",
            "je suis a l'iteration  0\n",
            "je suis a l'iteration  0\n",
            "je suis a l'iteration  0\n",
            "je suis a l'iteration  0\n",
            "je suis a l'iteration  0\n",
            "je suis a l'iteration  0\n",
            "je suis a l'iteration  0\n",
            "je suis a l'iteration  0\n",
            "je suis a l'iteration  0\n",
            "je suis a l'iteration  0\n",
            "je suis a l'iteration  0\n",
            "je suis a l'iteration  0\n",
            "je suis a l'iteration  0\n",
            "je suis a l'iteration  0\n",
            "je suis a l'iteration  0\n",
            "je suis a l'iteration  0\n",
            "je suis a l'iteration  0\n",
            "je suis a l'iteration  0\n",
            "je suis a l'iteration  0\n",
            "je suis a l'iteration  0\n",
            "je suis a l'iteration  0\n",
            "je suis a l'iteration  0\n",
            "je suis a l'iteration  0\n",
            "je suis a l'iteration  0\n",
            "je suis a l'iteration  0\n",
            "je suis a l'iteration  0\n",
            "je suis a l'iteration  0\n",
            "je suis a l'iteration  0\n",
            "je suis a l'iteration  0\n",
            "je suis a l'iteration  0\n",
            "je suis a l'iteration  0\n",
            "je suis a l'iteration  0\n",
            "je suis a l'iteration  0\n",
            "je suis a l'iteration  0\n",
            "je suis a l'iteration  0\n",
            "je suis a l'iteration  0\n",
            "je suis a l'iteration  0\n",
            "je suis a l'iteration  0\n",
            "je suis a l'iteration  0\n",
            "je suis a l'iteration  0\n",
            "je suis a l'iteration  0\n",
            "je suis a l'iteration  0\n",
            "je suis a l'iteration  0\n",
            "je suis a l'iteration  0\n",
            "je suis a l'iteration  0\n",
            "je suis a l'iteration  0\n",
            "je suis a l'iteration  0\n",
            "je suis a l'iteration  0\n",
            "je suis a l'iteration  0\n",
            "je suis a l'iteration  0\n",
            "je suis a l'iteration  0\n",
            "je suis a l'iteration  0\n",
            "je suis a l'iteration  0\n",
            "je suis a l'iteration  0\n",
            "je suis a l'iteration  0\n",
            "je suis a l'iteration  0\n",
            "je suis a l'iteration  0\n",
            "je suis a l'iteration  0\n",
            "je suis a l'iteration  0\n",
            "je suis a l'iteration  0\n",
            "je suis a l'iteration  0\n",
            "je suis a l'iteration  0\n",
            "je suis a l'iteration  0\n",
            "je suis a l'iteration  0\n",
            "je suis a l'iteration  0\n",
            "je suis a l'iteration  0\n",
            "je suis a l'iteration  0\n",
            "je suis a l'iteration  0\n",
            "je suis a l'iteration  0\n",
            "je suis a l'iteration  0\n",
            "je suis a l'iteration  0\n",
            "je suis a l'iteration  0\n",
            "je suis a l'iteration  0\n",
            "je suis a l'iteration  0\n",
            "je suis a l'iteration  0\n",
            "je suis a l'iteration  0\n",
            "je suis a l'iteration  0\n",
            "je suis a l'iteration  0\n",
            "je suis a l'iteration  0\n",
            "je suis a l'iteration  0\n",
            "je suis a l'iteration  0\n",
            "je suis a l'iteration  0\n",
            "je suis a l'iteration  0\n",
            "je suis a l'iteration  0\n",
            "je suis a l'iteration  0\n",
            "je suis a l'iteration  0\n",
            "je suis a l'iteration  0\n",
            "je suis a l'iteration  0\n",
            "je suis a l'iteration  0\n",
            "je suis a l'iteration  0\n",
            "je suis a l'iteration  0\n",
            "je suis a l'iteration  0\n",
            "je suis a l'iteration  0\n",
            "je suis a l'iteration  0\n",
            "je suis a l'iteration  0\n",
            "je suis a l'iteration  0\n",
            "je suis a l'iteration  0\n",
            "je suis a l'iteration  0\n",
            "je suis a l'iteration  0\n",
            "je suis a l'iteration  0\n",
            "je suis a l'iteration  0\n",
            "je suis a l'iteration  0\n",
            "je suis a l'iteration  0\n",
            "je suis a l'iteration  0\n",
            "je suis a l'iteration  0\n",
            "je suis a l'iteration  0\n",
            "je suis a l'iteration  0\n",
            "je suis a l'iteration  0\n",
            "je suis a l'iteration  0\n",
            "je suis a l'iteration  0\n",
            "je suis a l'iteration  0\n",
            "je suis a l'iteration  0\n",
            "je suis a l'iteration  0\n",
            "je suis a l'iteration  0\n",
            "je suis a l'iteration  0\n",
            "je suis a l'iteration  0\n",
            "je suis a l'iteration  0\n",
            "je suis a l'iteration  0\n",
            "je suis a l'iteration  0\n",
            "je suis a l'iteration  0\n",
            "je suis a l'iteration  0\n",
            "je suis a l'iteration  0\n",
            "je suis a l'iteration  0\n",
            "je suis a l'iteration  0\n",
            "je suis a l'iteration  0\n",
            "je suis a l'iteration  0\n",
            "je suis a l'iteration  0\n",
            "je suis a l'iteration  0\n",
            "je suis a l'iteration  0\n",
            "je suis a l'iteration  0\n",
            "je suis a l'iteration  0\n",
            "je suis a l'iteration  0\n",
            "je suis a l'iteration  0\n",
            "je suis a l'iteration  0\n",
            "je suis a l'iteration  0\n",
            "je suis a l'iteration  0\n",
            "je suis a l'iteration  0\n",
            "je suis a l'iteration  0\n",
            "je suis a l'iteration  0\n",
            "je suis a l'iteration  0\n",
            "je suis a l'iteration  0\n",
            "je suis a l'iteration  0\n",
            "je suis a l'iteration  0\n",
            "je suis a l'iteration  0\n",
            "je suis a l'iteration  0\n",
            "je suis a l'iteration  0\n",
            "je suis a l'iteration  0\n",
            "je suis a l'iteration  0\n",
            "je suis a l'iteration  0\n",
            "je suis a l'iteration  0\n",
            "je suis a l'iteration  0\n",
            "je suis a l'iteration  0\n",
            "je suis a l'iteration  0\n",
            "je suis a l'iteration  0\n",
            "je suis a l'iteration  0\n",
            "je suis a l'iteration  0\n",
            "je suis a l'iteration  0\n",
            "je suis a l'iteration  0\n",
            "je suis a l'iteration  0\n",
            "je suis a l'iteration  0\n",
            "je suis a l'iteration  0\n",
            "je suis a l'iteration  0\n",
            "je suis a l'iteration  0\n",
            "je suis a l'iteration  0\n",
            "je suis a l'iteration  0\n",
            "je suis a l'iteration  0\n",
            "je suis a l'iteration  0\n",
            "je suis a l'iteration  0\n",
            "je suis a l'iteration  0\n",
            "je suis a l'iteration  0\n",
            "je suis a l'iteration  0\n",
            "je suis a l'iteration  0\n",
            "je suis a l'iteration  0\n",
            "je suis a l'iteration  0\n",
            "je suis a l'iteration  0\n",
            "je suis a l'iteration  0\n",
            "je suis a l'iteration  0\n",
            "je suis a l'iteration  0\n",
            "je suis a l'iteration  0\n",
            "je suis a l'iteration  0\n",
            "je suis a l'iteration  0\n",
            "je suis a l'iteration  0\n",
            "je suis a l'iteration  0\n",
            "je suis a l'iteration  0\n",
            "je suis a l'iteration  0\n",
            "je suis a l'iteration  0\n",
            "je suis a l'iteration  0\n",
            "je suis a l'iteration  0\n",
            "je suis a l'iteration  0\n",
            "je suis a l'iteration  0\n",
            "je suis a l'iteration  0\n",
            "je suis a l'iteration  0\n",
            "je suis a l'iteration  0\n",
            "je suis a l'iteration  0\n",
            "je suis a l'iteration  0\n",
            "je suis a l'iteration  0\n",
            "je suis a l'iteration  0\n",
            "je suis a l'iteration  0\n",
            "je suis a l'iteration  0\n",
            "je suis a l'iteration  0\n",
            "je suis a l'iteration  0\n",
            "je suis a l'iteration  0\n",
            "je suis a l'iteration  0\n",
            "je suis a l'iteration  0\n",
            "je suis a l'iteration  0\n",
            "je suis a l'iteration  0\n",
            "je suis a l'iteration  0\n",
            "je suis a l'iteration  0\n",
            "je suis a l'iteration  0\n",
            "je suis a l'iteration  0\n",
            "je suis a l'iteration  0\n",
            "je suis a l'iteration  0\n",
            "je suis a l'iteration  0\n",
            "je suis a l'iteration  0\n",
            "je suis a l'iteration  0\n",
            "je suis a l'iteration  0\n",
            "je suis a l'iteration  0\n",
            "je suis a l'iteration  0\n",
            "je suis a l'iteration  0\n",
            "je suis a l'iteration  0\n",
            "je suis a l'iteration  0\n",
            "je suis a l'iteration  0\n",
            "je suis a l'iteration  0\n",
            "je suis a l'iteration  0\n",
            "je suis a l'iteration  0\n",
            "je suis a l'iteration  0\n",
            "je suis a l'iteration  0\n",
            "je suis a l'iteration  0\n",
            "je suis a l'iteration  0\n",
            "je suis a l'iteration  0\n",
            "je suis a l'iteration  0\n",
            "je suis a l'iteration  0\n",
            "je suis a l'iteration  0\n",
            "je suis a l'iteration  0\n",
            "je suis a l'iteration  0\n",
            "je suis a l'iteration  0\n",
            "je suis a l'iteration  0\n",
            "je suis a l'iteration  0\n",
            "je suis a l'iteration  0\n",
            "je suis a l'iteration  0\n",
            "je suis a l'iteration  0\n",
            "je suis a l'iteration  0\n",
            "je suis a l'iteration  0\n",
            "je suis a l'iteration  0\n",
            "je suis a l'iteration  0\n",
            "je suis a l'iteration  0\n",
            "je suis a l'iteration  0\n",
            "je suis a l'iteration  0\n",
            "je suis a l'iteration  0\n",
            "je suis a l'iteration  0\n",
            "je suis a l'iteration  0\n",
            "je suis a l'iteration  0\n",
            "je suis a l'iteration  0\n",
            "je suis a l'iteration  0\n",
            "je suis a l'iteration  0\n",
            "je suis a l'iteration  0\n",
            "je suis a l'iteration  0\n",
            "je suis a l'iteration  0\n",
            "je suis a l'iteration  0\n",
            "je suis a l'iteration  0\n",
            "je suis a l'iteration  0\n",
            "je suis a l'iteration  0\n",
            "je suis a l'iteration  0\n",
            "je suis a l'iteration  0\n",
            "je suis a l'iteration  0\n",
            "je suis a l'iteration  0\n",
            "je suis a l'iteration  0\n",
            "je suis a l'iteration  0\n",
            "je suis a l'iteration  0\n",
            "je suis a l'iteration  0\n",
            "je suis a l'iteration  0\n",
            "je suis a l'iteration  0\n",
            "je suis a l'iteration  0\n",
            "je suis a l'iteration  0\n",
            "je suis a l'iteration  0\n",
            "je suis a l'iteration  0\n",
            "je suis a l'iteration  0\n",
            "je suis a l'iteration  0\n",
            "je suis a l'iteration  0\n",
            "je suis a l'iteration  0\n",
            "je suis a l'iteration  0\n",
            "je suis a l'iteration  0\n",
            "je suis a l'iteration  0\n",
            "je suis a l'iteration  0\n",
            "je suis a l'iteration  0\n",
            "je suis a l'iteration  0\n",
            "je suis a l'iteration  0\n",
            "je suis a l'iteration  0\n",
            "je suis a l'iteration  0\n",
            "je suis a l'iteration  0\n",
            "je suis a l'iteration  0\n",
            "je suis a l'iteration  0\n",
            "je suis a l'iteration  0\n",
            "je suis a l'iteration  0\n",
            "je suis a l'iteration  0\n",
            "je suis a l'iteration  0\n",
            "je suis a l'iteration  0\n",
            "je suis a l'iteration  0\n",
            "je suis a l'iteration  0\n",
            "je suis a l'iteration  0\n",
            "je suis a l'iteration  0\n",
            "je suis a l'iteration  0\n",
            "je suis a l'iteration  0\n",
            "je suis a l'iteration  0\n",
            "je suis a l'iteration  0\n",
            "je suis a l'iteration  0\n",
            "je suis a l'iteration  0\n",
            "je suis a l'iteration  0\n",
            "je suis a l'iteration  0\n",
            "je suis a l'iteration  0\n",
            "je suis a l'iteration  0\n",
            "je suis a l'iteration  0\n",
            "je suis a l'iteration  0\n",
            "je suis a l'iteration  0\n",
            "je suis a l'iteration  0\n",
            "je suis a l'iteration  0\n",
            "je suis a l'iteration  0\n",
            "je suis a l'iteration  0\n",
            "je suis a l'iteration  0\n",
            "je suis a l'iteration  0\n",
            "je suis a l'iteration  0\n",
            "je suis a l'iteration  0\n",
            "je suis a l'iteration  0\n",
            "je suis a l'iteration  0\n",
            "je suis a l'iteration  0\n",
            "je suis a l'iteration  0\n",
            "je suis a l'iteration  0\n",
            "je suis a l'iteration  0\n",
            "je suis a l'iteration  0\n",
            "je suis a l'iteration  0\n",
            "je suis a l'iteration  0\n",
            "je suis a l'iteration  0\n",
            "je suis a l'iteration  0\n",
            "je suis a l'iteration  0\n",
            "je suis a l'iteration  0\n",
            "je suis a l'iteration  0\n",
            "je suis a l'iteration  0\n",
            "je suis a l'iteration  0\n",
            "je suis a l'iteration  0\n",
            "je suis a l'iteration  0\n",
            "je suis a l'iteration  0\n",
            "je suis a l'iteration  0\n",
            "je suis a l'iteration  0\n",
            "je suis a l'iteration  0\n",
            "je suis a l'iteration  0\n",
            "je suis a l'iteration  0\n",
            "je suis a l'iteration  0\n",
            "je suis a l'iteration  0\n",
            "je suis a l'iteration  0\n",
            "je suis a l'iteration  0\n",
            "je suis a l'iteration  0\n",
            "je suis a l'iteration  0\n",
            "je suis a l'iteration  0\n",
            "je suis a l'iteration  0\n",
            "je suis a l'iteration  0\n",
            "je suis a l'iteration  0\n",
            "je suis a l'iteration  0\n",
            "je suis a l'iteration  0\n",
            "je suis a l'iteration  0\n",
            "je suis a l'iteration  0\n",
            "je suis a l'iteration  0\n",
            "je suis a l'iteration  0\n",
            "je suis a l'iteration  0\n",
            "je suis a l'iteration  0\n",
            "je suis a l'iteration  0\n",
            "je suis a l'iteration  0\n",
            "je suis a l'iteration  0\n",
            "je suis a l'iteration  0\n",
            "je suis a l'iteration  0\n",
            "je suis a l'iteration  0\n",
            "je suis a l'iteration  0\n",
            "je suis a l'iteration  0\n",
            "je suis a l'iteration  0\n",
            "je suis a l'iteration  0\n",
            "je suis a l'iteration  0\n",
            "je suis a l'iteration  0\n",
            "je suis a l'iteration  0\n",
            "je suis a l'iteration  0\n",
            "je suis a l'iteration  0\n",
            "je suis a l'iteration  0\n",
            "je suis a l'iteration  0\n",
            "je suis a l'iteration  0\n",
            "je suis a l'iteration  0\n",
            "je suis a l'iteration  0\n",
            "je suis a l'iteration  0\n",
            "je suis a l'iteration  0\n",
            "je suis a l'iteration  0\n",
            "je suis a l'iteration  0\n",
            "je suis a l'iteration  0\n",
            "je suis a l'iteration  0\n",
            "je suis a l'iteration  0\n",
            "je suis a l'iteration  0\n",
            "je suis a l'iteration  0\n",
            "je suis a l'iteration  0\n",
            "je suis a l'iteration  0\n",
            "je suis a l'iteration  0\n",
            "je suis a l'iteration  0\n",
            "je suis a l'iteration  0\n",
            "je suis a l'iteration  0\n",
            "je suis a l'iteration  0\n",
            "je suis a l'iteration  0\n",
            "je suis a l'iteration  0\n",
            "je suis a l'iteration  0\n",
            "je suis a l'iteration  0\n",
            "je suis a l'iteration  0\n",
            "je suis a l'iteration  0\n",
            "je suis a l'iteration  0\n",
            "je suis a l'iteration  0\n",
            "je suis a l'iteration  0\n",
            "je suis a l'iteration  0\n",
            "je suis a l'iteration  0\n",
            "je suis a l'iteration  0\n",
            "je suis a l'iteration  0\n",
            "je suis a l'iteration  0\n",
            "je suis a l'iteration  0\n",
            "je suis a l'iteration  0\n",
            "je suis a l'iteration  0\n",
            "je suis a l'iteration  0\n",
            "je suis a l'iteration  0\n",
            "je suis a l'iteration  0\n",
            "je suis a l'iteration  0\n",
            "je suis a l'iteration  0\n",
            "je suis a l'iteration  0\n",
            "je suis a l'iteration  0\n",
            "je suis a l'iteration  0\n",
            "je suis a l'iteration  0\n",
            "je suis a l'iteration  0\n",
            "je suis a l'iteration  0\n",
            "je suis a l'iteration  0\n",
            "je suis a l'iteration  0\n",
            "je suis a l'iteration  0\n",
            "je suis a l'iteration  0\n",
            "je suis a l'iteration  0\n",
            "je suis a l'iteration  0\n",
            "je suis a l'iteration  0\n",
            "je suis a l'iteration  0\n",
            "je suis a l'iteration  0\n",
            "je suis a l'iteration  0\n",
            "je suis a l'iteration  0\n",
            "je suis a l'iteration  0\n",
            "je suis a l'iteration  0\n",
            "je suis a l'iteration  0\n",
            "je suis a l'iteration  0\n",
            "je suis a l'iteration  0\n",
            "je suis a l'iteration  0\n",
            "je suis a l'iteration  0\n",
            "je suis a l'iteration  0\n",
            "je suis a l'iteration  0\n",
            "je suis a l'iteration  0\n",
            "je suis a l'iteration  0\n",
            "je suis a l'iteration  0\n",
            "je suis a l'iteration  0\n",
            "je suis a l'iteration  0\n",
            "je suis a l'iteration  0\n",
            "je suis a l'iteration  0\n",
            "je suis a l'iteration  0\n",
            "je suis a l'iteration  0\n",
            "je suis a l'iteration  0\n",
            "je suis a l'iteration  0\n",
            "je suis a l'iteration  0\n",
            "je suis a l'iteration  0\n",
            "je suis a l'iteration  0\n",
            "je suis a l'iteration  0\n",
            "je suis a l'iteration  0\n",
            "je suis a l'iteration  0\n",
            "je suis a l'iteration  0\n",
            "je suis a l'iteration  0\n",
            "je suis a l'iteration  0\n",
            "je suis a l'iteration  0\n",
            "je suis a l'iteration  0\n",
            "je suis a l'iteration  0\n",
            "je suis a l'iteration  0\n",
            "je suis a l'iteration  0\n",
            "je suis a l'iteration  0\n",
            "je suis a l'iteration  0\n",
            "je suis a l'iteration  0\n",
            "je suis a l'iteration  0\n",
            "je suis a l'iteration  0\n",
            "je suis a l'iteration  0\n",
            "je suis a l'iteration  0\n",
            "je suis a l'iteration  0\n",
            "je suis a l'iteration  0\n",
            "je suis a l'iteration  0\n",
            "je suis a l'iteration  0\n",
            "je suis a l'iteration  0\n",
            "je suis a l'iteration  0\n",
            "je suis a l'iteration  0\n",
            "je suis a l'iteration  0\n",
            "je suis a l'iteration  0\n",
            "je suis a l'iteration  0\n",
            "je suis a l'iteration  0\n",
            "je suis a l'iteration  0\n",
            "je suis a l'iteration  0\n",
            "je suis a l'iteration  0\n",
            "je suis a l'iteration  0\n",
            "je suis a l'iteration  0\n",
            "je suis a l'iteration  0\n",
            "je suis a l'iteration  0\n",
            "je suis a l'iteration  0\n",
            "je suis a l'iteration  0\n",
            "je suis a l'iteration  0\n",
            "je suis a l'iteration  0\n",
            "je suis a l'iteration  0\n",
            "je suis a l'iteration  0\n",
            "je suis a l'iteration  0\n",
            "je suis a l'iteration  0\n",
            "je suis a l'iteration  0\n",
            "je suis a l'iteration  0\n",
            "je suis a l'iteration  0\n",
            "je suis a l'iteration  0\n",
            "je suis a l'iteration  0\n",
            "je suis a l'iteration  0\n",
            "je suis a l'iteration  0\n",
            "je suis a l'iteration  0\n",
            "je suis a l'iteration  0\n",
            "je suis a l'iteration  0\n",
            "je suis a l'iteration  0\n",
            "je suis a l'iteration  0\n",
            "je suis a l'iteration  0\n",
            "je suis a l'iteration  0\n",
            "je suis a l'iteration  0\n",
            "je suis a l'iteration  0\n",
            "je suis a l'iteration  0\n",
            "je suis a l'iteration  0\n",
            "je suis a l'iteration  0\n",
            "je suis a l'iteration  0\n",
            "je suis a l'iteration  0\n",
            "je suis a l'iteration  0\n",
            "je suis a l'iteration  0\n",
            "je suis a l'iteration  0\n",
            "je suis a l'iteration  0\n",
            "je suis a l'iteration  0\n",
            "je suis a l'iteration  0\n",
            "je suis a l'iteration  0\n",
            "je suis a l'iteration  0\n",
            "je suis a l'iteration  0\n",
            "je suis a l'iteration  0\n",
            "je suis a l'iteration  0\n",
            "je suis a l'iteration  0\n",
            "je suis a l'iteration  0\n",
            "je suis a l'iteration  0\n",
            "je suis a l'iteration  0\n",
            "je suis a l'iteration  0\n",
            "je suis a l'iteration  0\n",
            "je suis a l'iteration  0\n",
            "je suis a l'iteration  0\n",
            "je suis a l'iteration  0\n",
            "je suis a l'iteration  0\n",
            "je suis a l'iteration  0\n",
            "je suis a l'iteration  0\n",
            "je suis a l'iteration  0\n",
            "je suis a l'iteration  0\n",
            "je suis a l'iteration  0\n",
            "je suis a l'iteration  0\n",
            "je suis a l'iteration  0\n",
            "je suis a l'iteration  0\n",
            "je suis a l'iteration  0\n",
            "je suis a l'iteration  0\n",
            "je suis a l'iteration  0\n",
            "je suis a l'iteration  0\n",
            "je suis a l'iteration  0\n",
            "je suis a l'iteration  0\n",
            "je suis a l'iteration  0\n",
            "je suis a l'iteration  0\n",
            "je suis a l'iteration  0\n",
            "je suis a l'iteration  0\n",
            "je suis a l'iteration  0\n",
            "je suis a l'iteration  0\n",
            "je suis a l'iteration  0\n",
            "je suis a l'iteration  0\n",
            "je suis a l'iteration  0\n",
            "je suis a l'iteration  0\n",
            "je suis a l'iteration  0\n",
            "je suis a l'iteration  0\n",
            "je suis a l'iteration  0\n",
            "je suis a l'iteration  0\n",
            "je suis a l'iteration  0\n",
            "je suis a l'iteration  0\n",
            "je suis a l'iteration  0\n",
            "je suis a l'iteration  0\n",
            "je suis a l'iteration  0\n",
            "je suis a l'iteration  0\n",
            "je suis a l'iteration  0\n",
            "je suis a l'iteration  0\n",
            "je suis a l'iteration  0\n",
            "je suis a l'iteration  0\n",
            "je suis a l'iteration  0\n",
            "je suis a l'iteration  0\n",
            "je suis a l'iteration  0\n",
            "je suis a l'iteration  0\n",
            "je suis a l'iteration  0\n",
            "je suis a l'iteration  0\n",
            "je suis a l'iteration  0\n",
            "je suis a l'iteration  0\n",
            "je suis a l'iteration  0\n",
            "je suis a l'iteration  0\n",
            "je suis a l'iteration  0\n",
            "je suis a l'iteration  0\n",
            "je suis a l'iteration  0\n",
            "je suis a l'iteration  0\n",
            "je suis a l'iteration  0\n",
            "je suis a l'iteration  0\n",
            "je suis a l'iteration  0\n",
            "je suis a l'iteration  0\n",
            "je suis a l'iteration  0\n",
            "je suis a l'iteration  0\n",
            "je suis a l'iteration  0\n",
            "je suis a l'iteration  0\n",
            "je suis a l'iteration  0\n",
            "je suis a l'iteration  0\n",
            "je suis a l'iteration  0\n",
            "je suis a l'iteration  0\n",
            "je suis a l'iteration  0\n",
            "je suis a l'iteration  0\n",
            "je suis a l'iteration  0\n",
            "je suis a l'iteration  0\n",
            "je suis a l'iteration  0\n",
            "je suis a l'iteration  0\n",
            "je suis a l'iteration  0\n",
            "je suis a l'iteration  0\n",
            "je suis a l'iteration  0\n",
            "je suis a l'iteration  0\n",
            "je suis a l'iteration  0\n",
            "je suis a l'iteration  0\n",
            "je suis a l'iteration  0\n",
            "je suis a l'iteration  0\n",
            "je suis a l'iteration  0\n",
            "je suis a l'iteration  0\n",
            "je suis a l'iteration  0\n",
            "je suis a l'iteration  0\n",
            "je suis a l'iteration  0\n",
            "je suis a l'iteration  0\n",
            "je suis a l'iteration  0\n",
            "je suis a l'iteration  0\n",
            "je suis a l'iteration  0\n",
            "je suis a l'iteration  0\n",
            "je suis a l'iteration  0\n",
            "je suis a l'iteration  0\n",
            "je suis a l'iteration  0\n",
            "je suis a l'iteration  0\n",
            "je suis a l'iteration  0\n",
            "je suis a l'iteration  0\n",
            "je suis a l'iteration  0\n",
            "je suis a l'iteration  0\n",
            "je suis a l'iteration  0\n",
            "je suis a l'iteration  0\n",
            "je suis a l'iteration  0\n",
            "je suis a l'iteration  0\n",
            "je suis a l'iteration  0\n",
            "je suis a l'iteration  0\n",
            "je suis a l'iteration  0\n",
            "je suis a l'iteration  0\n",
            "je suis a l'iteration  0\n",
            "je suis a l'iteration  0\n",
            "je suis a l'iteration  0\n",
            "je suis a l'iteration  0\n",
            "je suis a l'iteration  0\n",
            "je suis a l'iteration  0\n",
            "je suis a l'iteration  0\n",
            "je suis a l'iteration  0\n",
            "je suis a l'iteration  0\n",
            "je suis a l'iteration  0\n",
            "je suis a l'iteration  0\n",
            "je suis a l'iteration  0\n",
            "je suis a l'iteration  0\n",
            "je suis a l'iteration  0\n",
            "je suis a l'iteration  0\n",
            "je suis a l'iteration  0\n",
            "je suis a l'iteration  0\n",
            "je suis a l'iteration  0\n",
            "je suis a l'iteration  0\n",
            "je suis a l'iteration  0\n",
            "je suis a l'iteration  0\n",
            "je suis a l'iteration  0\n",
            "je suis a l'iteration  0\n",
            "je suis a l'iteration  0\n",
            "je suis a l'iteration  0\n",
            "je suis a l'iteration  0\n",
            "je suis a l'iteration  0\n",
            "je suis a l'iteration  0\n",
            "je suis a l'iteration  0\n",
            "je suis a l'iteration  0\n",
            "je suis a l'iteration  0\n",
            "je suis a l'iteration  0\n",
            "je suis a l'iteration  0\n",
            "je suis a l'iteration  0\n",
            "je suis a l'iteration  0\n",
            "je suis a l'iteration  0\n",
            "je suis a l'iteration  0\n",
            "je suis a l'iteration  0\n",
            "je suis a l'iteration  0\n",
            "je suis a l'iteration  0\n",
            "je suis a l'iteration  0\n",
            "je suis a l'iteration  0\n",
            "je suis a l'iteration  0\n",
            "je suis a l'iteration  0\n",
            "je suis a l'iteration  0\n",
            "je suis a l'iteration  0\n",
            "je suis a l'iteration  0\n",
            "je suis a l'iteration  0\n",
            "je suis a l'iteration  0\n",
            "je suis a l'iteration  0\n",
            "je suis a l'iteration  0\n",
            "je suis a l'iteration  0\n",
            "je suis a l'iteration  0\n",
            "je suis a l'iteration  0\n",
            "je suis a l'iteration  0\n",
            "je suis a l'iteration  0\n",
            "je suis a l'iteration  0\n",
            "je suis a l'iteration  0\n",
            "je suis a l'iteration  0\n",
            "je suis a l'iteration  0\n",
            "je suis a l'iteration  0\n",
            "je suis a l'iteration  0\n",
            "je suis a l'iteration  0\n",
            "je suis a l'iteration  0\n",
            "je suis a l'iteration  0\n",
            "je suis a l'iteration  0\n",
            "je suis a l'iteration  0\n",
            "je suis a l'iteration  0\n",
            "je suis a l'iteration  0\n",
            "je suis a l'iteration  0\n",
            "je suis a l'iteration  0\n",
            "je suis a l'iteration  0\n",
            "je suis a l'iteration  0\n",
            "je suis a l'iteration  0\n",
            "je suis a l'iteration  0\n",
            "je suis a l'iteration  0\n",
            "je suis a l'iteration  0\n",
            "je suis a l'iteration  0\n",
            "je suis a l'iteration  0\n",
            "je suis a l'iteration  0\n",
            "je suis a l'iteration  0\n",
            "je suis a l'iteration  0\n",
            "je suis a l'iteration  0\n",
            "je suis a l'iteration  0\n",
            "je suis a l'iteration  0\n",
            "je suis a l'iteration  0\n",
            "je suis a l'iteration  0\n",
            "je suis a l'iteration  0\n",
            "je suis a l'iteration  0\n",
            "je suis a l'iteration  0\n",
            "je suis a l'iteration  0\n",
            "je suis a l'iteration  0\n",
            "je suis a l'iteration  0\n",
            "je suis a l'iteration  0\n",
            "je suis a l'iteration  0\n",
            "je suis a l'iteration  0\n",
            "je suis a l'iteration  0\n",
            "je suis a l'iteration  0\n",
            "je suis a l'iteration  0\n",
            "je suis a l'iteration  0\n",
            "je suis a l'iteration  0\n",
            "je suis a l'iteration  0\n",
            "je suis a l'iteration  0\n",
            "je suis a l'iteration  0\n",
            "je suis a l'iteration  0\n",
            "je suis a l'iteration  0\n",
            "je suis a l'iteration  0\n",
            "je suis a l'iteration  0\n",
            "je suis a l'iteration  0\n",
            "je suis a l'iteration  0\n",
            "je suis a l'iteration  0\n",
            "je suis a l'iteration  0\n",
            "je suis a l'iteration  0\n",
            "je suis a l'iteration  0\n",
            "je suis a l'iteration  0\n",
            "je suis a l'iteration  0\n",
            "je suis a l'iteration  0\n",
            "je suis a l'iteration  0\n",
            "je suis a l'iteration  0\n",
            "je suis a l'iteration  0\n",
            "je suis a l'iteration  0\n",
            "je suis a l'iteration  0\n",
            "je suis a l'iteration  0\n",
            "je suis a l'iteration  0\n",
            "je suis a l'iteration  0\n",
            "je suis a l'iteration  0\n",
            "je suis a l'iteration  0\n",
            "je suis a l'iteration  0\n",
            "je suis a l'iteration  0\n",
            "je suis a l'iteration  0\n",
            "je suis a l'iteration  0\n",
            "je suis a l'iteration  0\n",
            "je suis a l'iteration  0\n",
            "je suis a l'iteration  0\n",
            "je suis a l'iteration  0\n",
            "je suis a l'iteration  0\n",
            "je suis a l'iteration  0\n",
            "je suis a l'iteration  0\n",
            "je suis a l'iteration  0\n",
            "je suis a l'iteration  0\n",
            "je suis a l'iteration  0\n",
            "je suis a l'iteration  0\n",
            "je suis a l'iteration  0\n",
            "je suis a l'iteration  0\n",
            "je suis a l'iteration  0\n",
            "je suis a l'iteration  0\n",
            "je suis a l'iteration  0\n",
            "je suis a l'iteration  0\n",
            "je suis a l'iteration  0\n",
            "je suis a l'iteration  0\n",
            "je suis a l'iteration  0\n",
            "je suis a l'iteration  0\n",
            "je suis a l'iteration  0\n",
            "je suis a l'iteration  0\n",
            "je suis a l'iteration  0\n",
            "je suis a l'iteration  0\n",
            "je suis a l'iteration  0\n",
            "je suis a l'iteration  0\n",
            "je suis a l'iteration  0\n",
            "je suis a l'iteration  0\n",
            "je suis a l'iteration  0\n",
            "je suis a l'iteration  0\n",
            "je suis a l'iteration  0\n",
            "je suis a l'iteration  0\n",
            "je suis a l'iteration  0\n",
            "je suis a l'iteration  0\n",
            "je suis a l'iteration  0\n",
            "je suis a l'iteration  0\n",
            "je suis a l'iteration  0\n",
            "je suis a l'iteration  0\n",
            "je suis a l'iteration  0\n",
            "je suis a l'iteration  0\n",
            "je suis a l'iteration  0\n",
            "je suis a l'iteration  0\n",
            "je suis a l'iteration  0\n",
            "je suis a l'iteration  0\n",
            "je suis a l'iteration  0\n",
            "je suis a l'iteration  0\n",
            "je suis a l'iteration  0\n",
            "je suis a l'iteration  0\n",
            "je suis a l'iteration  0\n",
            "je suis a l'iteration  0\n",
            "je suis a l'iteration  0\n",
            "je suis a l'iteration  0\n",
            "je suis a l'iteration  0\n",
            "je suis a l'iteration  0\n",
            "je suis a l'iteration  0\n",
            "je suis a l'iteration  0\n",
            "je suis a l'iteration  0\n",
            "je suis a l'iteration  0\n",
            "je suis a l'iteration  0\n",
            "je suis a l'iteration  0\n",
            "je suis a l'iteration  0\n",
            "je suis a l'iteration  0\n",
            "je suis a l'iteration  0\n",
            "je suis a l'iteration  0\n",
            "je suis a l'iteration  0\n",
            "je suis a l'iteration  0\n",
            "je suis a l'iteration  0\n",
            "je suis a l'iteration  0\n",
            "je suis a l'iteration  0\n",
            "je suis a l'iteration  0\n",
            "je suis a l'iteration  0\n",
            "je suis a l'iteration  0\n",
            "je suis a l'iteration  0\n",
            "je suis a l'iteration  0\n",
            "je suis a l'iteration  0\n",
            "je suis a l'iteration  0\n",
            "je suis a l'iteration  0\n",
            "je suis a l'iteration  0\n",
            "je suis a l'iteration  0\n",
            "je suis a l'iteration  0\n",
            "je suis a l'iteration  0\n",
            "je suis a l'iteration  0\n",
            "je suis a l'iteration  0\n",
            "je suis a l'iteration  0\n",
            "je suis a l'iteration  0\n",
            "je suis a l'iteration  0\n",
            "je suis a l'iteration  0\n",
            "je suis a l'iteration  0\n",
            "je suis a l'iteration  0\n",
            "je suis a l'iteration  0\n",
            "je suis a l'iteration  0\n",
            "je suis a l'iteration  0\n",
            "je suis a l'iteration  0\n",
            "je suis a l'iteration  0\n",
            "je suis a l'iteration  0\n",
            "je suis a l'iteration  0\n",
            "je suis a l'iteration  0\n",
            "je suis a l'iteration  0\n",
            "je suis a l'iteration  0\n",
            "je suis a l'iteration  0\n",
            "je suis a l'iteration  0\n",
            "je suis a l'iteration  0\n",
            "je suis a l'iteration  0\n",
            "je suis a l'iteration  0\n",
            "je suis a l'iteration  0\n",
            "je suis a l'iteration  0\n",
            "je suis a l'iteration  0\n",
            "je suis a l'iteration  0\n",
            "je suis a l'iteration  0\n",
            "je suis a l'iteration  0\n",
            "je suis a l'iteration  0\n",
            "je suis a l'iteration  0\n",
            "je suis a l'iteration  0\n",
            "je suis a l'iteration  0\n",
            "je suis a l'iteration  0\n",
            "je suis a l'iteration  0\n",
            "je suis a l'iteration  0\n",
            "je suis a l'iteration  0\n",
            "je suis a l'iteration  0\n",
            "je suis a l'iteration  0\n",
            "je suis a l'iteration  0\n",
            "je suis a l'iteration  0\n",
            "je suis a l'iteration  0\n",
            "je suis a l'iteration  0\n",
            "je suis a l'iteration  0\n",
            "je suis a l'iteration  0\n",
            "je suis a l'iteration  0\n",
            "je suis a l'iteration  0\n",
            "je suis a l'iteration  0\n",
            "je suis a l'iteration  0\n",
            "je suis a l'iteration  0\n",
            "je suis a l'iteration  0\n",
            "je suis a l'iteration  0\n",
            "je suis a l'iteration  0\n",
            "je suis a l'iteration  0\n",
            "je suis a l'iteration  0\n",
            "je suis a l'iteration  0\n",
            "je suis a l'iteration  0\n",
            "je suis a l'iteration  0\n",
            "je suis a l'iteration  0\n",
            "je suis a l'iteration  0\n",
            "je suis a l'iteration  0\n",
            "je suis a l'iteration  0\n",
            "je suis a l'iteration  0\n",
            "je suis a l'iteration  0\n",
            "je suis a l'iteration  0\n",
            "je suis a l'iteration  0\n",
            "je suis a l'iteration  0\n",
            "je suis a l'iteration  0\n",
            "je suis a l'iteration  0\n",
            "je suis a l'iteration  0\n",
            "je suis a l'iteration  0\n",
            "je suis a l'iteration  0\n",
            "je suis a l'iteration  0\n",
            "je suis a l'iteration  0\n",
            "je suis a l'iteration  0\n",
            "je suis a l'iteration  0\n",
            "je suis a l'iteration  0\n",
            "je suis a l'iteration  0\n",
            "je suis a l'iteration  0\n",
            "je suis a l'iteration  0\n",
            "je suis a l'iteration  0\n",
            "je suis a l'iteration  0\n",
            "je suis a l'iteration  0\n",
            "je suis a l'iteration  0\n",
            "je suis a l'iteration  0\n",
            "je suis a l'iteration  0\n",
            "je suis a l'iteration  0\n",
            "je suis a l'iteration  0\n",
            "je suis a l'iteration  0\n",
            "je suis a l'iteration  0\n",
            "je suis a l'iteration  0\n",
            "je suis a l'iteration  0\n",
            "je suis a l'iteration  0\n",
            "je suis a l'iteration  0\n",
            "je suis a l'iteration  0\n",
            "je suis a l'iteration  0\n",
            "je suis a l'iteration  0\n",
            "je suis a l'iteration  0\n",
            "je suis a l'iteration  0\n",
            "je suis a l'iteration  0\n",
            "je suis a l'iteration  0\n",
            "je suis a l'iteration  0\n",
            "je suis a l'iteration  0\n",
            "je suis a l'iteration  0\n",
            "je suis a l'iteration  0\n",
            "je suis a l'iteration  0\n",
            "je suis a l'iteration  0\n",
            "je suis a l'iteration  0\n",
            "je suis a l'iteration  0\n",
            "je suis a l'iteration  0\n",
            "je suis a l'iteration  0\n",
            "je suis a l'iteration  0\n",
            "je suis a l'iteration  0\n",
            "je suis a l'iteration  0\n",
            "je suis a l'iteration  0\n",
            "je suis a l'iteration  0\n",
            "je suis a l'iteration  0\n",
            "je suis a l'iteration  0\n",
            "je suis a l'iteration  0\n",
            "je suis a l'iteration  0\n",
            "je suis a l'iteration  0\n",
            "je suis a l'iteration  0\n",
            "je suis a l'iteration  0\n",
            "je suis a l'iteration  0\n",
            "je suis a l'iteration  0\n",
            "je suis a l'iteration  0\n",
            "je suis a l'iteration  0\n",
            "je suis a l'iteration  0\n",
            "je suis a l'iteration  0\n",
            "je suis a l'iteration  0\n",
            "je suis a l'iteration  0\n",
            "je suis a l'iteration  0\n",
            "je suis a l'iteration  0\n",
            "je suis a l'iteration  0\n",
            "je suis a l'iteration  0\n",
            "je suis a l'iteration  0\n",
            "je suis a l'iteration  0\n",
            "je suis a l'iteration  0\n",
            "je suis a l'iteration  0\n",
            "je suis a l'iteration  0\n",
            "je suis a l'iteration  0\n",
            "je suis a l'iteration  0\n",
            "je suis a l'iteration  0\n",
            "je suis a l'iteration  0\n",
            "je suis a l'iteration  0\n",
            "je suis a l'iteration  0\n",
            "je suis a l'iteration  0\n",
            "je suis a l'iteration  0\n",
            "je suis a l'iteration  0\n",
            "je suis a l'iteration  0\n",
            "je suis a l'iteration  0\n",
            "je suis a l'iteration  0\n",
            "je suis a l'iteration  0\n",
            "je suis a l'iteration  0\n",
            "je suis a l'iteration  0\n",
            "je suis a l'iteration  0\n",
            "je suis a l'iteration  0\n",
            "je suis a l'iteration  0\n",
            "je suis a l'iteration  0\n",
            "je suis a l'iteration  0\n",
            "je suis a l'iteration  0\n",
            "je suis a l'iteration  0\n",
            "je suis a l'iteration  0\n",
            "je suis a l'iteration  0\n",
            "je suis a l'iteration  0\n",
            "je suis a l'iteration  0\n",
            "je suis a l'iteration  0\n",
            "je suis a l'iteration  0\n",
            "je suis a l'iteration  0\n",
            "je suis a l'iteration  0\n",
            "je suis a l'iteration  0\n",
            "je suis a l'iteration  0\n",
            "je suis a l'iteration  0\n",
            "je suis a l'iteration  0\n",
            "je suis a l'iteration  0\n",
            "je suis a l'iteration  0\n",
            "je suis a l'iteration  0\n",
            "je suis a l'iteration  0\n",
            "je suis a l'iteration  0\n",
            "je suis a l'iteration  0\n",
            "je suis a l'iteration  0\n",
            "je suis a l'iteration  0\n",
            "je suis a l'iteration  0\n",
            "je suis a l'iteration  0\n",
            "je suis a l'iteration  0\n",
            "je suis a l'iteration  0\n",
            "je suis a l'iteration  0\n",
            "je suis a l'iteration  0\n",
            "je suis a l'iteration  0\n",
            "je suis a l'iteration  0\n",
            "je suis a l'iteration  0\n",
            "je suis a l'iteration  0\n",
            "je suis a l'iteration  0\n",
            "je suis a l'iteration  0\n",
            "je suis a l'iteration  0\n",
            "je suis a l'iteration  0\n",
            "je suis a l'iteration  0\n",
            "je suis a l'iteration  0\n",
            "je suis a l'iteration  0\n",
            "je suis a l'iteration  0\n",
            "je suis a l'iteration  0\n",
            "je suis a l'iteration  0\n",
            "je suis a l'iteration  0\n",
            "je suis a l'iteration  0\n",
            "je suis a l'iteration  0\n",
            "je suis a l'iteration  0\n",
            "je suis a l'iteration  0\n",
            "je suis a l'iteration  0\n",
            "je suis a l'iteration  0\n",
            "je suis a l'iteration  0\n",
            "je suis a l'iteration  0\n",
            "je suis a l'iteration  0\n",
            "je suis a l'iteration  0\n",
            "je suis a l'iteration  0\n",
            "je suis a l'iteration  0\n",
            "je suis a l'iteration  0\n",
            "je suis a l'iteration  0\n",
            "je suis a l'iteration  0\n",
            "je suis a l'iteration  0\n",
            "je suis a l'iteration  0\n",
            "je suis a l'iteration  0\n",
            "je suis a l'iteration  0\n",
            "je suis a l'iteration  0\n",
            "je suis a l'iteration  0\n",
            "je suis a l'iteration  0\n",
            "je suis a l'iteration  0\n",
            "je suis a l'iteration  0\n",
            "je suis a l'iteration  0\n",
            "je suis a l'iteration  0\n",
            "je suis a l'iteration  0\n",
            "je suis a l'iteration  0\n",
            "je suis a l'iteration  0\n",
            "je suis a l'iteration  0\n",
            "je suis a l'iteration  0\n",
            "je suis a l'iteration  0\n",
            "je suis a l'iteration  0\n",
            "je suis a l'iteration  0\n",
            "je suis a l'iteration  0\n",
            "je suis a l'iteration  0\n",
            "je suis a l'iteration  0\n",
            "je suis a l'iteration  0\n",
            "je suis a l'iteration  0\n",
            "je suis a l'iteration  0\n",
            "je suis a l'iteration  0\n",
            "je suis a l'iteration  0\n",
            "je suis a l'iteration  0\n",
            "je suis a l'iteration  0\n",
            "je suis a l'iteration  0\n",
            "je suis a l'iteration  0\n",
            "je suis a l'iteration  0\n",
            "je suis a l'iteration  0\n",
            "je suis a l'iteration  0\n",
            "je suis a l'iteration  0\n",
            "je suis a l'iteration  0\n",
            "je suis a l'iteration  0\n",
            "je suis a l'iteration  0\n",
            "je suis a l'iteration  0\n",
            "je suis a l'iteration  0\n",
            "je suis a l'iteration  0\n",
            "je suis a l'iteration  0\n",
            "je suis a l'iteration  0\n",
            "je suis a l'iteration  0\n",
            "je suis a l'iteration  0\n",
            "je suis a l'iteration  0\n",
            "je suis a l'iteration  0\n",
            "je suis a l'iteration  0\n",
            "je suis a l'iteration  0\n",
            "je suis a l'iteration  0\n",
            "je suis a l'iteration  0\n",
            "je suis a l'iteration  0\n",
            "je suis a l'iteration  0\n",
            "je suis a l'iteration  0\n",
            "je suis a l'iteration  0\n",
            "je suis a l'iteration  0\n",
            "je suis a l'iteration  0\n",
            "je suis a l'iteration  0\n",
            "je suis a l'iteration  0\n",
            "je suis a l'iteration  0\n",
            "je suis a l'iteration  0\n",
            "je suis a l'iteration  0\n",
            "je suis a l'iteration  0\n",
            "je suis a l'iteration  0\n",
            "je suis a l'iteration  0\n",
            "je suis a l'iteration  0\n",
            "je suis a l'iteration  0\n",
            "je suis a l'iteration  0\n",
            "je suis a l'iteration  0\n",
            "je suis a l'iteration  0\n",
            "je suis a l'iteration  0\n",
            "je suis a l'iteration  0\n",
            "je suis a l'iteration  0\n",
            "je suis a l'iteration  0\n",
            "je suis a l'iteration  0\n",
            "je suis a l'iteration  0\n",
            "je suis a l'iteration  0\n",
            "je suis a l'iteration  0\n",
            "je suis a l'iteration  0\n",
            "je suis a l'iteration  0\n",
            "je suis a l'iteration  0\n",
            "je suis a l'iteration  0\n",
            "je suis a l'iteration  0\n",
            "je suis a l'iteration  0\n",
            "je suis a l'iteration  0\n",
            "je suis a l'iteration  0\n",
            "je suis a l'iteration  0\n",
            "je suis a l'iteration  0\n",
            "je suis a l'iteration  0\n",
            "je suis a l'iteration  0\n",
            "je suis a l'iteration  0\n",
            "je suis a l'iteration  0\n",
            "je suis a l'iteration  0\n",
            "je suis a l'iteration  0\n",
            "je suis a l'iteration  0\n",
            "je suis a l'iteration  0\n",
            "je suis a l'iteration  0\n",
            "je suis a l'iteration  0\n",
            "je suis a l'iteration  0\n",
            "je suis a l'iteration  0\n",
            "je suis a l'iteration  0\n",
            "je suis a l'iteration  0\n",
            "je suis a l'iteration  0\n",
            "je suis a l'iteration  0\n",
            "je suis a l'iteration  0\n",
            "je suis a l'iteration  0\n",
            "je suis a l'iteration  0\n",
            "je suis a l'iteration  0\n",
            "je suis a l'iteration  0\n",
            "je suis a l'iteration  0\n",
            "je suis a l'iteration  0\n",
            "je suis a l'iteration  0\n",
            "je suis a l'iteration  0\n",
            "je suis a l'iteration  0\n",
            "je suis a l'iteration  0\n",
            "je suis a l'iteration  0\n",
            "je suis a l'iteration  0\n",
            "je suis a l'iteration  0\n",
            "je suis a l'iteration  0\n",
            "je suis a l'iteration  0\n",
            "je suis a l'iteration  0\n",
            "je suis a l'iteration  0\n",
            "je suis a l'iteration  0\n",
            "je suis a l'iteration  0\n",
            "je suis a l'iteration  0\n",
            "je suis a l'iteration  0\n",
            "je suis a l'iteration  0\n",
            "je suis a l'iteration  0\n",
            "je suis a l'iteration  0\n",
            "je suis a l'iteration  0\n",
            "je suis a l'iteration  0\n",
            "je suis a l'iteration  0\n",
            "je suis a l'iteration  0\n",
            "je suis a l'iteration  0\n",
            "je suis a l'iteration  0\n",
            "je suis a l'iteration  0\n",
            "je suis a l'iteration  0\n",
            "je suis a l'iteration  0\n",
            "je suis a l'iteration  0\n",
            "je suis a l'iteration  0\n",
            "je suis a l'iteration  0\n",
            "je suis a l'iteration  0\n",
            "je suis a l'iteration  0\n",
            "je suis a l'iteration  0\n",
            "je suis a l'iteration  0\n",
            "je suis a l'iteration  0\n",
            "je suis a l'iteration  0\n",
            "je suis a l'iteration  0\n",
            "je suis a l'iteration  0\n",
            "je suis a l'iteration  0\n",
            "je suis a l'iteration  0\n",
            "je suis a l'iteration  0\n",
            "je suis a l'iteration  0\n",
            "je suis a l'iteration  0\n",
            "je suis a l'iteration  0\n",
            "je suis a l'iteration  0\n",
            "je suis a l'iteration  0\n",
            "je suis a l'iteration  0\n",
            "je suis a l'iteration  0\n",
            "je suis a l'iteration  0\n",
            "je suis a l'iteration  0\n",
            "je suis a l'iteration  0\n",
            "je suis a l'iteration  0\n",
            "je suis a l'iteration  0\n",
            "je suis a l'iteration  0\n",
            "je suis a l'iteration  0\n",
            "je suis a l'iteration  0\n",
            "je suis a l'iteration  0\n",
            "je suis a l'iteration  0\n",
            "je suis a l'iteration  0\n",
            "je suis a l'iteration  0\n",
            "je suis a l'iteration  0\n",
            "je suis a l'iteration  0\n",
            "je suis a l'iteration  0\n",
            "je suis a l'iteration  0\n",
            "je suis a l'iteration  0\n",
            "je suis a l'iteration  0\n",
            "je suis a l'iteration  0\n",
            "je suis a l'iteration  0\n",
            "je suis a l'iteration  0\n",
            "je suis a l'iteration  0\n",
            "je suis a l'iteration  0\n",
            "je suis a l'iteration  0\n",
            "je suis a l'iteration  0\n",
            "je suis a l'iteration  0\n",
            "je suis a l'iteration  0\n",
            "je suis a l'iteration  0\n",
            "je suis a l'iteration  0\n",
            "je suis a l'iteration  0\n",
            "je suis a l'iteration  0\n",
            "je suis a l'iteration  0\n",
            "je suis a l'iteration  0\n",
            "je suis a l'iteration  0\n",
            "je suis a l'iteration  0\n",
            "je suis a l'iteration  0\n",
            "je suis a l'iteration  0\n",
            "je suis a l'iteration  0\n",
            "je suis a l'iteration  0\n",
            "je suis a l'iteration  0\n",
            "je suis a l'iteration  0\n",
            "je suis a l'iteration  0\n",
            "je suis a l'iteration  0\n",
            "je suis a l'iteration  0\n",
            "je suis a l'iteration  0\n",
            "je suis a l'iteration  0\n",
            "je suis a l'iteration  0\n",
            "je suis a l'iteration  0\n",
            "je suis a l'iteration  0\n",
            "je suis a l'iteration  0\n",
            "je suis a l'iteration  0\n",
            "je suis a l'iteration  0\n",
            "je suis a l'iteration  0\n",
            "je suis a l'iteration  0\n",
            "je suis a l'iteration  0\n",
            "je suis a l'iteration  0\n",
            "je suis a l'iteration  0\n",
            "je suis a l'iteration  0\n",
            "je suis a l'iteration  0\n",
            "je suis a l'iteration  0\n",
            "je suis a l'iteration  0\n",
            "je suis a l'iteration  0\n",
            "je suis a l'iteration  0\n",
            "je suis a l'iteration  0\n",
            "je suis a l'iteration  0\n",
            "je suis a l'iteration  0\n",
            "je suis a l'iteration  0\n",
            "je suis a l'iteration  0\n",
            "je suis a l'iteration  0\n",
            "je suis a l'iteration  0\n",
            "je suis a l'iteration  0\n",
            "je suis a l'iteration  0\n",
            "je suis a l'iteration  0\n",
            "je suis a l'iteration  0\n",
            "je suis a l'iteration  0\n",
            "je suis a l'iteration  0\n",
            "je suis a l'iteration  0\n",
            "je suis a l'iteration  0\n",
            "je suis a l'iteration  0\n",
            "je suis a l'iteration  0\n",
            "je suis a l'iteration  0\n",
            "je suis a l'iteration  0\n",
            "je suis a l'iteration  0\n",
            "je suis a l'iteration  0\n",
            "je suis a l'iteration  0\n",
            "je suis a l'iteration  0\n",
            "je suis a l'iteration  0\n",
            "je suis a l'iteration  0\n",
            "je suis a l'iteration  0\n",
            "je suis a l'iteration  0\n",
            "je suis a l'iteration  0\n",
            "je suis a l'iteration  0\n",
            "je suis a l'iteration  0\n",
            "je suis a l'iteration  0\n",
            "je suis a l'iteration  0\n",
            "je suis a l'iteration  0\n",
            "je suis a l'iteration  0\n",
            "je suis a l'iteration  0\n",
            "je suis a l'iteration  0\n",
            "je suis a l'iteration  0\n",
            "je suis a l'iteration  0\n",
            "je suis a l'iteration  0\n",
            "je suis a l'iteration  0\n",
            "je suis a l'iteration  0\n",
            "je suis a l'iteration  0\n",
            "je suis a l'iteration  0\n",
            "je suis a l'iteration  0\n",
            "je suis a l'iteration  0\n",
            "je suis a l'iteration  0\n",
            "je suis a l'iteration  0\n",
            "je suis a l'iteration  0\n",
            "je suis a l'iteration  0\n",
            "je suis a l'iteration  0\n",
            "je suis a l'iteration  0\n",
            "je suis a l'iteration  0\n",
            "je suis a l'iteration  0\n",
            "je suis a l'iteration  0\n",
            "je suis a l'iteration  0\n",
            "je suis a l'iteration  0\n",
            "je suis a l'iteration  0\n",
            "je suis a l'iteration  0\n",
            "je suis a l'iteration  0\n",
            "je suis a l'iteration  0\n",
            "je suis a l'iteration  0\n",
            "je suis a l'iteration  0\n",
            "je suis a l'iteration  0\n",
            "je suis a l'iteration  0\n",
            "je suis a l'iteration  0\n",
            "je suis a l'iteration  0\n",
            "je suis a l'iteration  0\n",
            "je suis a l'iteration  0\n",
            "je suis a l'iteration  0\n",
            "je suis a l'iteration  0\n",
            "je suis a l'iteration  0\n",
            "je suis a l'iteration  0\n",
            "je suis a l'iteration  0\n",
            "je suis a l'iteration  0\n",
            "je suis a l'iteration  0\n",
            "je suis a l'iteration  0\n",
            "je suis a l'iteration  0\n",
            "je suis a l'iteration  0\n",
            "je suis a l'iteration  0\n",
            "je suis a l'iteration  0\n",
            "je suis a l'iteration  0\n",
            "je suis a l'iteration  0\n",
            "je suis a l'iteration  0\n",
            "je suis a l'iteration  0\n",
            "je suis a l'iteration  0\n",
            "je suis a l'iteration  0\n",
            "je suis a l'iteration  0\n",
            "je suis a l'iteration  0\n",
            "je suis a l'iteration  0\n",
            "je suis a l'iteration  0\n",
            "je suis a l'iteration  0\n",
            "je suis a l'iteration  0\n",
            "je suis a l'iteration  0\n",
            "je suis a l'iteration  0\n",
            "je suis a l'iteration  0\n",
            "je suis a l'iteration  0\n",
            "je suis a l'iteration  0\n",
            "je suis a l'iteration  0\n",
            "je suis a l'iteration  0\n",
            "je suis a l'iteration  0\n",
            "je suis a l'iteration  0\n",
            "je suis a l'iteration  0\n",
            "je suis a l'iteration  0\n",
            "je suis a l'iteration  0\n",
            "je suis a l'iteration  0\n",
            "je suis a l'iteration  0\n",
            "je suis a l'iteration  0\n",
            "je suis a l'iteration  0\n",
            "je suis a l'iteration  0\n",
            "je suis a l'iteration  0\n",
            "je suis a l'iteration  0\n",
            "je suis a l'iteration  0\n",
            "je suis a l'iteration  0\n",
            "je suis a l'iteration  0\n",
            "je suis a l'iteration  0\n",
            "je suis a l'iteration  0\n",
            "je suis a l'iteration  0\n",
            "je suis a l'iteration  0\n",
            "je suis a l'iteration  0\n",
            "je suis a l'iteration  0\n",
            "je suis a l'iteration  0\n",
            "je suis a l'iteration  0\n",
            "je suis a l'iteration  0\n",
            "je suis a l'iteration  0\n",
            "je suis a l'iteration  0\n",
            "je suis a l'iteration  0\n",
            "je suis a l'iteration  0\n",
            "je suis a l'iteration  0\n",
            "je suis a l'iteration  0\n",
            "je suis a l'iteration  0\n",
            "je suis a l'iteration  0\n",
            "je suis a l'iteration  0\n",
            "je suis a l'iteration  0\n",
            "je suis a l'iteration  0\n",
            "je suis a l'iteration  0\n",
            "je suis a l'iteration  0\n",
            "je suis a l'iteration  0\n",
            "je suis a l'iteration  0\n",
            "je suis a l'iteration  0\n",
            "je suis a l'iteration  0\n",
            "je suis a l'iteration  0\n",
            "je suis a l'iteration  0\n",
            "je suis a l'iteration  0\n",
            "je suis a l'iteration  0\n",
            "je suis a l'iteration  0\n",
            "je suis a l'iteration  0\n",
            "je suis a l'iteration  0\n",
            "je suis a l'iteration  0\n",
            "je suis a l'iteration  0\n",
            "je suis a l'iteration  0\n",
            "je suis a l'iteration  0\n",
            "je suis a l'iteration  0\n",
            "je suis a l'iteration  0\n",
            "je suis a l'iteration  0\n",
            "je suis a l'iteration  0\n",
            "je suis a l'iteration  0\n",
            "je suis a l'iteration  0\n",
            "je suis a l'iteration  0\n",
            "je suis a l'iteration  0\n",
            "je suis a l'iteration  0\n",
            "je suis a l'iteration  0\n",
            "je suis a l'iteration  0\n",
            "je suis a l'iteration  0\n",
            "je suis a l'iteration  0\n",
            "je suis a l'iteration  0\n",
            "je suis a l'iteration  0\n",
            "je suis a l'iteration  0\n",
            "je suis a l'iteration  0\n",
            "je suis a l'iteration  0\n",
            "je suis a l'iteration  0\n",
            "je suis a l'iteration  0\n",
            "je suis a l'iteration  0\n",
            "je suis a l'iteration  0\n",
            "je suis a l'iteration  0\n",
            "je suis a l'iteration  0\n",
            "je suis a l'iteration  0\n",
            "je suis a l'iteration  0\n",
            "je suis a l'iteration  0\n",
            "je suis a l'iteration  0\n",
            "je suis a l'iteration  0\n",
            "je suis a l'iteration  0\n",
            "je suis a l'iteration  0\n",
            "je suis a l'iteration  0\n",
            "je suis a l'iteration  0\n",
            "je suis a l'iteration  0\n",
            "je suis a l'iteration  0\n",
            "je suis a l'iteration  0\n",
            "je suis a l'iteration  0\n",
            "je suis a l'iteration  0\n",
            "je suis a l'iteration  0\n",
            "je suis a l'iteration  0\n",
            "je suis a l'iteration  0\n",
            "je suis a l'iteration  0\n",
            "je suis a l'iteration  0\n",
            "je suis a l'iteration  0\n",
            "je suis a l'iteration  0\n",
            "je suis a l'iteration  0\n",
            "je suis a l'iteration  0\n",
            "je suis a l'iteration  0\n",
            "je suis a l'iteration  0\n",
            "je suis a l'iteration  0\n",
            "je suis a l'iteration  0\n",
            "je suis a l'iteration  0\n",
            "je suis a l'iteration  0\n",
            "je suis a l'iteration  0\n",
            "je suis a l'iteration  0\n",
            "je suis a l'iteration  0\n",
            "je suis a l'iteration  0\n",
            "je suis a l'iteration  0\n",
            "je suis a l'iteration  0\n",
            "je suis a l'iteration  0\n",
            "je suis a l'iteration  0\n",
            "je suis a l'iteration  0\n",
            "je suis a l'iteration  0\n",
            "je suis a l'iteration  0\n",
            "je suis a l'iteration  0\n",
            "je suis a l'iteration  0\n",
            "je suis a l'iteration  0\n",
            "je suis a l'iteration  0\n",
            "je suis a l'iteration  0\n",
            "je suis a l'iteration  0\n",
            "je suis a l'iteration  0\n",
            "je suis a l'iteration  0\n",
            "je suis a l'iteration  0\n",
            "je suis a l'iteration  0\n",
            "je suis a l'iteration  0\n",
            "je suis a l'iteration  0\n",
            "je suis a l'iteration  0\n",
            "je suis a l'iteration  0\n",
            "je suis a l'iteration  0\n",
            "je suis a l'iteration  0\n",
            "je suis a l'iteration  0\n",
            "je suis a l'iteration  0\n",
            "je suis a l'iteration  0\n",
            "je suis a l'iteration  0\n",
            "je suis a l'iteration  0\n",
            "je suis a l'iteration  0\n",
            "je suis a l'iteration  0\n",
            "je suis a l'iteration  0\n",
            "je suis a l'iteration  0\n",
            "je suis a l'iteration  0\n",
            "je suis a l'iteration  0\n",
            "je suis a l'iteration  0\n",
            "je suis a l'iteration  0\n",
            "je suis a l'iteration  0\n",
            "je suis a l'iteration  0\n",
            "je suis a l'iteration  0\n",
            "je suis a l'iteration  0\n",
            "je suis a l'iteration  0\n",
            "je suis a l'iteration  0\n",
            "je suis a l'iteration  0\n",
            "je suis a l'iteration  0\n",
            "je suis a l'iteration  0\n",
            "je suis a l'iteration  0\n",
            "je suis a l'iteration  0\n",
            "je suis a l'iteration  0\n",
            "je suis a l'iteration  0\n",
            "je suis a l'iteration  0\n",
            "je suis a l'iteration  0\n",
            "je suis a l'iteration  0\n",
            "je suis a l'iteration  0\n",
            "je suis a l'iteration  0\n",
            "je suis a l'iteration  0\n",
            "je suis a l'iteration  0\n",
            "je suis a l'iteration  0\n",
            "je suis a l'iteration  0\n",
            "je suis a l'iteration  0\n",
            "je suis a l'iteration  0\n",
            "je suis a l'iteration  0\n",
            "je suis a l'iteration  0\n",
            "je suis a l'iteration  0\n",
            "je suis a l'iteration  0\n",
            "je suis a l'iteration  0\n",
            "je suis a l'iteration  0\n",
            "je suis a l'iteration  0\n",
            "je suis a l'iteration  0\n",
            "je suis a l'iteration  0\n",
            "je suis a l'iteration  0\n",
            "je suis a l'iteration  0\n",
            "je suis a l'iteration  0\n",
            "je suis a l'iteration  0\n",
            "je suis a l'iteration  0\n",
            "je suis a l'iteration  0\n",
            "je suis a l'iteration  0\n",
            "je suis a l'iteration  0\n",
            "je suis a l'iteration  0\n",
            "je suis a l'iteration  0\n",
            "je suis a l'iteration  0\n",
            "je suis a l'iteration  0\n",
            "je suis a l'iteration  0\n",
            "je suis a l'iteration  0\n",
            "je suis a l'iteration  0\n",
            "je suis a l'iteration  0\n",
            "je suis a l'iteration  0\n",
            "je suis a l'iteration  0\n",
            "je suis a l'iteration  0\n",
            "je suis a l'iteration  0\n",
            "je suis a l'iteration  0\n",
            "je suis a l'iteration  0\n",
            "je suis a l'iteration  0\n",
            "je suis a l'iteration  0\n",
            "je suis a l'iteration  0\n",
            "je suis a l'iteration  0\n",
            "je suis a l'iteration  0\n",
            "je suis a l'iteration  0\n",
            "je suis a l'iteration  0\n",
            "je suis a l'iteration  0\n",
            "je suis a l'iteration  0\n",
            "je suis a l'iteration  0\n",
            "je suis a l'iteration  0\n",
            "je suis a l'iteration  0\n",
            "je suis a l'iteration  0\n",
            "je suis a l'iteration  0\n",
            "je suis a l'iteration  0\n",
            "je suis a l'iteration  0\n",
            "je suis a l'iteration  0\n",
            "je suis a l'iteration  0\n",
            "je suis a l'iteration  0\n",
            "je suis a l'iteration  0\n",
            "je suis a l'iteration  0\n",
            "je suis a l'iteration  0\n",
            "je suis a l'iteration  0\n",
            "je suis a l'iteration  0\n",
            "je suis a l'iteration  0\n",
            "je suis a l'iteration  0\n",
            "je suis a l'iteration  0\n",
            "je suis a l'iteration  0\n",
            "je suis a l'iteration  0\n",
            "je suis a l'iteration  0\n",
            "je suis a l'iteration  0\n",
            "je suis a l'iteration  0\n",
            "je suis a l'iteration  0\n",
            "je suis a l'iteration  0\n",
            "je suis a l'iteration  0\n",
            "je suis a l'iteration  0\n",
            "je suis a l'iteration  0\n",
            "je suis a l'iteration  0\n",
            "je suis a l'iteration  0\n",
            "je suis a l'iteration  0\n",
            "je suis a l'iteration  0\n",
            "je suis a l'iteration  0\n",
            "je suis a l'iteration  0\n",
            "je suis a l'iteration  0\n",
            "je suis a l'iteration  0\n",
            "je suis a l'iteration  0\n",
            "je suis a l'iteration  0\n",
            "je suis a l'iteration  0\n",
            "je suis a l'iteration  0\n",
            "je suis a l'iteration  0\n",
            "je suis a l'iteration  0\n",
            "je suis a l'iteration  0\n",
            "je suis a l'iteration  0\n",
            "je suis a l'iteration  0\n",
            "je suis a l'iteration  0\n",
            "je suis a l'iteration  0\n",
            "je suis a l'iteration  0\n",
            "je suis a l'iteration  0\n",
            "je suis a l'iteration  0\n",
            "je suis a l'iteration  0\n",
            "je suis a l'iteration  0\n",
            "je suis a l'iteration  0\n",
            "je suis a l'iteration  0\n",
            "je suis a l'iteration  0\n",
            "je suis a l'iteration  0\n",
            "je suis a l'iteration  0\n",
            "je suis a l'iteration  0\n",
            "je suis a l'iteration  0\n",
            "je suis a l'iteration  0\n",
            "je suis a l'iteration  0\n",
            "je suis a l'iteration  0\n",
            "je suis a l'iteration  0\n",
            "je suis a l'iteration  0\n",
            "je suis a l'iteration  0\n",
            "je suis a l'iteration  0\n",
            "je suis a l'iteration  0\n",
            "je suis a l'iteration  0\n",
            "je suis a l'iteration  0\n",
            "je suis a l'iteration  0\n",
            "je suis a l'iteration  0\n",
            "je suis a l'iteration  0\n",
            "je suis a l'iteration  0\n",
            "je suis a l'iteration  0\n",
            "je suis a l'iteration  0\n",
            "je suis a l'iteration  0\n",
            "je suis a l'iteration  0\n",
            "je suis a l'iteration  0\n",
            "je suis a l'iteration  0\n",
            "je suis a l'iteration  0\n",
            "je suis a l'iteration  0\n",
            "je suis a l'iteration  0\n",
            "je suis a l'iteration  0\n",
            "je suis a l'iteration  0\n",
            "je suis a l'iteration  0\n",
            "je suis a l'iteration  0\n",
            "je suis a l'iteration  0\n",
            "je suis a l'iteration  0\n",
            "je suis a l'iteration  0\n",
            "je suis a l'iteration  0\n",
            "je suis a l'iteration  0\n",
            "je suis a l'iteration  0\n",
            "je suis a l'iteration  0\n",
            "je suis a l'iteration  0\n",
            "je suis a l'iteration  0\n",
            "je suis a l'iteration  0\n",
            "je suis a l'iteration  0\n",
            "je suis a l'iteration  0\n",
            "je suis a l'iteration  0\n",
            "je suis a l'iteration  0\n",
            "je suis a l'iteration  0\n",
            "je suis a l'iteration  0\n",
            "je suis a l'iteration  0\n",
            "je suis a l'iteration  0\n",
            "je suis a l'iteration  0\n",
            "je suis a l'iteration  0\n",
            "je suis a l'iteration  0\n",
            "je suis a l'iteration  0\n",
            "je suis a l'iteration  0\n",
            "je suis a l'iteration  0\n",
            "je suis a l'iteration  0\n",
            "je suis a l'iteration  0\n",
            "je suis a l'iteration  0\n",
            "je suis a l'iteration  0\n",
            "je suis a l'iteration  0\n",
            "je suis a l'iteration  0\n",
            "je suis a l'iteration  0\n",
            "je suis a l'iteration  0\n",
            "je suis a l'iteration  0\n",
            "je suis a l'iteration  0\n",
            "je suis a l'iteration  0\n",
            "je suis a l'iteration  0\n",
            "je suis a l'iteration  0\n",
            "je suis a l'iteration  0\n",
            "je suis a l'iteration  0\n",
            "je suis a l'iteration  0\n",
            "je suis a l'iteration  0\n",
            "je suis a l'iteration  0\n",
            "je suis a l'iteration  0\n",
            "je suis a l'iteration  0\n",
            "je suis a l'iteration  0\n",
            "je suis a l'iteration  0\n",
            "je suis a l'iteration  0\n",
            "je suis a l'iteration  0\n",
            "je suis a l'iteration  0\n",
            "je suis a l'iteration  0\n",
            "je suis a l'iteration  0\n",
            "je suis a l'iteration  0\n",
            "je suis a l'iteration  0\n",
            "je suis a l'iteration  0\n",
            "je suis a l'iteration  0\n",
            "je suis a l'iteration  0\n",
            "je suis a l'iteration  0\n",
            "je suis a l'iteration  0\n",
            "je suis a l'iteration  0\n",
            "je suis a l'iteration  0\n",
            "je suis a l'iteration  0\n",
            "je suis a l'iteration  0\n",
            "je suis a l'iteration  0\n",
            "je suis a l'iteration  0\n",
            "je suis a l'iteration  0\n",
            "je suis a l'iteration  0\n",
            "je suis a l'iteration  0\n",
            "je suis a l'iteration  0\n",
            "je suis a l'iteration  0\n",
            "je suis a l'iteration  0\n",
            "je suis a l'iteration  0\n",
            "je suis a l'iteration  0\n",
            "je suis a l'iteration  0\n",
            "je suis a l'iteration  0\n",
            "je suis a l'iteration  0\n",
            "je suis a l'iteration  0\n",
            "je suis a l'iteration  0\n",
            "je suis a l'iteration  0\n",
            "je suis a l'iteration  0\n",
            "je suis a l'iteration  0\n",
            "je suis a l'iteration  0\n",
            "je suis a l'iteration  0\n",
            "je suis a l'iteration  0\n",
            "je suis a l'iteration  0\n",
            "je suis a l'iteration  0\n",
            "je suis a l'iteration  0\n",
            "je suis a l'iteration  0\n",
            "je suis a l'iteration  0\n",
            "je suis a l'iteration  0\n",
            "je suis a l'iteration  0\n",
            "je suis a l'iteration  0\n",
            "je suis a l'iteration  0\n",
            "je suis a l'iteration  0\n",
            "je suis a l'iteration  0\n",
            "je suis a l'iteration  0\n",
            "je suis a l'iteration  0\n",
            "je suis a l'iteration  0\n",
            "je suis a l'iteration  0\n",
            "je suis a l'iteration  0\n",
            "je suis a l'iteration  0\n",
            "je suis a l'iteration  0\n",
            "je suis a l'iteration  0\n",
            "je suis a l'iteration  0\n",
            "je suis a l'iteration  0\n",
            "je suis a l'iteration  0\n",
            "je suis a l'iteration  0\n",
            "je suis a l'iteration  0\n",
            "je suis a l'iteration  0\n",
            "je suis a l'iteration  0\n",
            "je suis a l'iteration  0\n",
            "je suis a l'iteration  0\n",
            "je suis a l'iteration  0\n",
            "je suis a l'iteration  0\n",
            "je suis a l'iteration  0\n",
            "je suis a l'iteration  0\n",
            "je suis a l'iteration  0\n",
            "je suis a l'iteration  0\n",
            "je suis a l'iteration  0\n",
            "je suis a l'iteration  0\n",
            "je suis a l'iteration  0\n",
            "je suis a l'iteration  0\n",
            "je suis a l'iteration  0\n",
            "je suis a l'iteration  0\n",
            "je suis a l'iteration  0\n",
            "je suis a l'iteration  0\n",
            "je suis a l'iteration  0\n",
            "je suis a l'iteration  0\n",
            "je suis a l'iteration  0\n",
            "je suis a l'iteration  0\n",
            "je suis a l'iteration  0\n",
            "je suis a l'iteration  0\n",
            "je suis a l'iteration  0\n",
            "je suis a l'iteration  0\n",
            "je suis a l'iteration  0\n",
            "je suis a l'iteration  0\n",
            "je suis a l'iteration  0\n",
            "je suis a l'iteration  0\n",
            "je suis a l'iteration  0\n",
            "je suis a l'iteration  0\n",
            "je suis a l'iteration  0\n",
            "je suis a l'iteration  0\n",
            "je suis a l'iteration  0\n",
            "je suis a l'iteration  0\n",
            "je suis a l'iteration  0\n",
            "je suis a l'iteration  0\n",
            "je suis a l'iteration  0\n",
            "je suis a l'iteration  0\n",
            "je suis a l'iteration  0\n",
            "je suis a l'iteration  0\n",
            "je suis a l'iteration  0\n",
            "je suis a l'iteration  0\n",
            "je suis a l'iteration  0\n",
            "je suis a l'iteration  0\n",
            "je suis a l'iteration  0\n",
            "je suis a l'iteration  0\n",
            "je suis a l'iteration  0\n",
            "je suis a l'iteration  0\n",
            "je suis a l'iteration  0\n",
            "je suis a l'iteration  0\n",
            "je suis a l'iteration  0\n",
            "je suis a l'iteration  0\n",
            "je suis a l'iteration  0\n",
            "je suis a l'iteration  0\n",
            "je suis a l'iteration  0\n",
            "je suis a l'iteration  0\n",
            "je suis a l'iteration  0\n",
            "je suis a l'iteration  0\n",
            "je suis a l'iteration  0\n",
            "je suis a l'iteration  0\n",
            "je suis a l'iteration  0\n",
            "je suis a l'iteration  0\n",
            "je suis a l'iteration  0\n",
            "je suis a l'iteration  0\n",
            "je suis a l'iteration  0\n",
            "je suis a l'iteration  0\n",
            "je suis a l'iteration  0\n",
            "je suis a l'iteration  0\n",
            "je suis a l'iteration  0\n",
            "je suis a l'iteration  0\n",
            "je suis a l'iteration  0\n",
            "je suis a l'iteration  0\n",
            "je suis a l'iteration  0\n",
            "je suis a l'iteration  0\n",
            "je suis a l'iteration  0\n",
            "je suis a l'iteration  0\n",
            "je suis a l'iteration  0\n",
            "je suis a l'iteration  0\n",
            "je suis a l'iteration  0\n",
            "je suis a l'iteration  0\n",
            "je suis a l'iteration  0\n",
            "je suis a l'iteration  0\n",
            "je suis a l'iteration  0\n",
            "je suis a l'iteration  0\n",
            "je suis a l'iteration  0\n",
            "je suis a l'iteration  0\n",
            "je suis a l'iteration  0\n",
            "je suis a l'iteration  0\n",
            "je suis a l'iteration  0\n",
            "je suis a l'iteration  0\n",
            "je suis a l'iteration  0\n",
            "je suis a l'iteration  0\n",
            "je suis a l'iteration  0\n",
            "je suis a l'iteration  0\n",
            "je suis a l'iteration  0\n",
            "je suis a l'iteration  0\n",
            "je suis a l'iteration  0\n",
            "je suis a l'iteration  0\n",
            "je suis a l'iteration  0\n",
            "je suis a l'iteration  0\n",
            "je suis a l'iteration  0\n",
            "je suis a l'iteration  0\n",
            "je suis a l'iteration  0\n",
            "je suis a l'iteration  0\n",
            "je suis a l'iteration  0\n",
            "je suis a l'iteration  0\n",
            "je suis a l'iteration  0\n",
            "je suis a l'iteration  0\n",
            "je suis a l'iteration  0\n",
            "je suis a l'iteration  0\n",
            "je suis a l'iteration  0\n",
            "je suis a l'iteration  0\n",
            "je suis a l'iteration  0\n",
            "je suis a l'iteration  0\n",
            "je suis a l'iteration  0\n",
            "je suis a l'iteration  0\n",
            "je suis a l'iteration  0\n",
            "je suis a l'iteration  0\n",
            "je suis a l'iteration  0\n",
            "je suis a l'iteration  0\n",
            "je suis a l'iteration  0\n",
            "je suis a l'iteration  0\n",
            "je suis a l'iteration  0\n",
            "je suis a l'iteration  0\n",
            "je suis a l'iteration  0\n",
            "je suis a l'iteration  0\n",
            "je suis a l'iteration  0\n",
            "je suis a l'iteration  0\n",
            "je suis a l'iteration  0\n",
            "je suis a l'iteration  0\n",
            "je suis a l'iteration  0\n",
            "je suis a l'iteration  0\n",
            "je suis a l'iteration  0\n",
            "je suis a l'iteration  0\n",
            "je suis a l'iteration  0\n",
            "je suis a l'iteration  0\n",
            "je suis a l'iteration  0\n",
            "je suis a l'iteration  0\n",
            "je suis a l'iteration  0\n",
            "je suis a l'iteration  0\n",
            "je suis a l'iteration  0\n",
            "je suis a l'iteration  0\n",
            "je suis a l'iteration  0\n",
            "je suis a l'iteration  0\n",
            "je suis a l'iteration  0\n",
            "je suis a l'iteration  0\n",
            "je suis a l'iteration  0\n",
            "je suis a l'iteration  0\n",
            "je suis a l'iteration  0\n",
            "je suis a l'iteration  0\n",
            "je suis a l'iteration  0\n",
            "je suis a l'iteration  0\n",
            "je suis a l'iteration  0\n",
            "je suis a l'iteration  0\n",
            "je suis a l'iteration  0\n",
            "je suis a l'iteration  0\n",
            "je suis a l'iteration  0\n",
            "je suis a l'iteration  0\n",
            "je suis a l'iteration  0\n",
            "je suis a l'iteration  0\n",
            "je suis a l'iteration  0\n",
            "je suis a l'iteration  0\n",
            "je suis a l'iteration  0\n",
            "je suis a l'iteration  0\n",
            "je suis a l'iteration  0\n",
            "je suis a l'iteration  0\n",
            "je suis a l'iteration  0\n",
            "je suis a l'iteration  0\n",
            "je suis a l'iteration  0\n",
            "je suis a l'iteration  0\n",
            "je suis a l'iteration  0\n",
            "je suis a l'iteration  0\n",
            "je suis a l'iteration  0\n",
            "je suis a l'iteration  0\n",
            "je suis a l'iteration  0\n",
            "je suis a l'iteration  0\n",
            "je suis a l'iteration  0\n",
            "je suis a l'iteration  0\n",
            "je suis a l'iteration  0\n",
            "je suis a l'iteration  0\n",
            "je suis a l'iteration  0\n",
            "je suis a l'iteration  0\n",
            "je suis a l'iteration  0\n",
            "je suis a l'iteration  0\n",
            "je suis a l'iteration  0\n",
            "je suis a l'iteration  0\n",
            "je suis a l'iteration  0\n",
            "je suis a l'iteration  0\n",
            "je suis a l'iteration  0\n",
            "je suis a l'iteration  0\n",
            "je suis a l'iteration  0\n",
            "je suis a l'iteration  0\n",
            "je suis a l'iteration  0\n",
            "je suis a l'iteration  0\n",
            "je suis a l'iteration  0\n",
            "je suis a l'iteration  0\n",
            "je suis a l'iteration  0\n",
            "je suis a l'iteration  0\n",
            "je suis a l'iteration  0\n",
            "je suis a l'iteration  0\n",
            "je suis a l'iteration  0\n",
            "je suis a l'iteration  0\n",
            "je suis a l'iteration  0\n",
            "je suis a l'iteration  0\n",
            "je suis a l'iteration  0\n",
            "je suis a l'iteration  0\n",
            "je suis a l'iteration  0\n",
            "je suis a l'iteration  0\n",
            "je suis a l'iteration  0\n",
            "je suis a l'iteration  0\n",
            "je suis a l'iteration  0\n",
            "je suis a l'iteration  0\n",
            "je suis a l'iteration  0\n",
            "je suis a l'iteration  0\n",
            "je suis a l'iteration  0\n",
            "je suis a l'iteration  0\n",
            "je suis a l'iteration  0\n",
            "je suis a l'iteration  0\n",
            "je suis a l'iteration  0\n",
            "je suis a l'iteration  0\n",
            "je suis a l'iteration  0\n",
            "je suis a l'iteration  0\n",
            "je suis a l'iteration  0\n",
            "je suis a l'iteration  0\n",
            "je suis a l'iteration  0\n",
            "je suis a l'iteration  0\n",
            "je suis a l'iteration  0\n",
            "je suis a l'iteration  0\n",
            "je suis a l'iteration  0\n",
            "je suis a l'iteration  0\n",
            "je suis a l'iteration  0\n",
            "je suis a l'iteration  0\n",
            "je suis a l'iteration  0\n",
            "je suis a l'iteration  0\n",
            "je suis a l'iteration  0\n",
            "je suis a l'iteration  0\n",
            "je suis a l'iteration  0\n",
            "je suis a l'iteration  0\n",
            "je suis a l'iteration  0\n",
            "je suis a l'iteration  0\n",
            "je suis a l'iteration  0\n",
            "je suis a l'iteration  0\n",
            "je suis a l'iteration  0\n",
            "je suis a l'iteration  0\n",
            "je suis a l'iteration  0\n",
            "je suis a l'iteration  0\n",
            "je suis a l'iteration  0\n",
            "je suis a l'iteration  0\n",
            "je suis a l'iteration  0\n",
            "je suis a l'iteration  0\n",
            "je suis a l'iteration  0\n",
            "je suis a l'iteration  0\n",
            "je suis a l'iteration  0\n",
            "je suis a l'iteration  0\n",
            "je suis a l'iteration  0\n",
            "je suis a l'iteration  0\n",
            "je suis a l'iteration  0\n",
            "je suis a l'iteration  0\n",
            "je suis a l'iteration  0\n",
            "je suis a l'iteration  0\n",
            "je suis a l'iteration  0\n",
            "je suis a l'iteration  0\n",
            "je suis a l'iteration  0\n",
            "je suis a l'iteration  0\n",
            "je suis a l'iteration  0\n",
            "je suis a l'iteration  0\n",
            "je suis a l'iteration  0\n",
            "je suis a l'iteration  0\n",
            "je suis a l'iteration  0\n",
            "je suis a l'iteration  0\n",
            "je suis a l'iteration  0\n",
            "je suis a l'iteration  0\n",
            "je suis a l'iteration  0\n",
            "je suis a l'iteration  0\n",
            "je suis a l'iteration  0\n",
            "je suis a l'iteration  0\n",
            "je suis a l'iteration  0\n",
            "je suis a l'iteration  0\n",
            "je suis a l'iteration  0\n",
            "je suis a l'iteration  0\n",
            "je suis a l'iteration  0\n",
            "je suis a l'iteration  0\n",
            "je suis a l'iteration  0\n",
            "je suis a l'iteration  0\n",
            "je suis a l'iteration  0\n",
            "je suis a l'iteration  0\n",
            "je suis a l'iteration  0\n",
            "je suis a l'iteration  0\n",
            "je suis a l'iteration  0\n",
            "je suis a l'iteration  0\n",
            "je suis a l'iteration  0\n",
            "je suis a l'iteration  0\n",
            "je suis a l'iteration  0\n",
            "je suis a l'iteration  0\n",
            "je suis a l'iteration  0\n",
            "je suis a l'iteration  0\n",
            "je suis a l'iteration  0\n",
            "je suis a l'iteration  0\n",
            "je suis a l'iteration  0\n",
            "je suis a l'iteration  0\n",
            "je suis a l'iteration  0\n",
            "je suis a l'iteration  0\n",
            "je suis a l'iteration  0\n",
            "je suis a l'iteration  0\n",
            "je suis a l'iteration  0\n",
            "je suis a l'iteration  0\n",
            "je suis a l'iteration  0\n",
            "je suis a l'iteration  0\n",
            "je suis a l'iteration  0\n",
            "je suis a l'iteration  0\n",
            "je suis a l'iteration  0\n",
            "je suis a l'iteration  0\n",
            "je suis a l'iteration  0\n",
            "je suis a l'iteration  0\n",
            "je suis a l'iteration  0\n",
            "je suis a l'iteration  0\n",
            "je suis a l'iteration  0\n",
            "je suis a l'iteration  0\n",
            "je suis a l'iteration  0\n",
            "je suis a l'iteration  0\n",
            "je suis a l'iteration  0\n",
            "je suis a l'iteration  0\n",
            "je suis a l'iteration  0\n",
            "je suis a l'iteration  0\n",
            "je suis a l'iteration  0\n",
            "je suis a l'iteration  0\n",
            "je suis a l'iteration  0\n",
            "je suis a l'iteration  0\n",
            "je suis a l'iteration  0\n",
            "je suis a l'iteration  0\n",
            "je suis a l'iteration  0\n",
            "je suis a l'iteration  0\n",
            "je suis a l'iteration  0\n",
            "je suis a l'iteration  0\n",
            "je suis a l'iteration  0\n",
            "je suis a l'iteration  0\n",
            "je suis a l'iteration  0\n",
            "je suis a l'iteration  0\n",
            "je suis a l'iteration  0\n",
            "je suis a l'iteration  0\n",
            "je suis a l'iteration  0\n",
            "je suis a l'iteration  0\n",
            "je suis a l'iteration  0\n",
            "je suis a l'iteration  0\n",
            "je suis a l'iteration  0\n",
            "je suis a l'iteration  0\n",
            "je suis a l'iteration  0\n",
            "je suis a l'iteration  0\n",
            "je suis a l'iteration  0\n",
            "je suis a l'iteration  0\n",
            "je suis a l'iteration  0\n",
            "je suis a l'iteration  0\n",
            "je suis a l'iteration  0\n",
            "je suis a l'iteration  0\n",
            "je suis a l'iteration  0\n",
            "je suis a l'iteration  0\n",
            "je suis a l'iteration  0\n",
            "je suis a l'iteration  0\n",
            "je suis a l'iteration  0\n",
            "je suis a l'iteration  0\n",
            "je suis a l'iteration  0\n",
            "je suis a l'iteration  0\n",
            "je suis a l'iteration  0\n",
            "je suis a l'iteration  0\n",
            "je suis a l'iteration  0\n",
            "je suis a l'iteration  0\n",
            "je suis a l'iteration  0\n",
            "je suis a l'iteration  0\n",
            "je suis a l'iteration  0\n",
            "je suis a l'iteration  0\n",
            "je suis a l'iteration  0\n",
            "je suis a l'iteration  0\n",
            "je suis a l'iteration  0\n",
            "je suis a l'iteration  0\n",
            "je suis a l'iteration  0\n",
            "je suis a l'iteration  0\n",
            "je suis a l'iteration  0\n",
            "je suis a l'iteration  0\n",
            "je suis a l'iteration  0\n",
            "je suis a l'iteration  0\n",
            "je suis a l'iteration  0\n",
            "je suis a l'iteration  0\n",
            "je suis a l'iteration  0\n",
            "je suis a l'iteration  0\n",
            "je suis a l'iteration  0\n",
            "je suis a l'iteration  0\n",
            "je suis a l'iteration  0\n",
            "je suis a l'iteration  0\n",
            "je suis a l'iteration  0\n",
            "je suis a l'iteration  0\n",
            "je suis a l'iteration  0\n",
            "je suis a l'iteration  0\n",
            "je suis a l'iteration  0\n",
            "je suis a l'iteration  0\n",
            "je suis a l'iteration  0\n",
            "je suis a l'iteration  0\n",
            "je suis a l'iteration  0\n",
            "je suis a l'iteration  0\n",
            "je suis a l'iteration  0\n",
            "je suis a l'iteration  0\n",
            "je suis a l'iteration  0\n",
            "je suis a l'iteration  0\n",
            "je suis a l'iteration  0\n",
            "je suis a l'iteration  0\n",
            "je suis a l'iteration  0\n",
            "je suis a l'iteration  0\n",
            "je suis a l'iteration  0\n",
            "je suis a l'iteration  0\n",
            "je suis a l'iteration  0\n",
            "je suis a l'iteration  0\n",
            "je suis a l'iteration  0\n",
            "je suis a l'iteration  0\n",
            "je suis a l'iteration  0\n",
            "je suis a l'iteration  0\n",
            "je suis a l'iteration  0\n",
            "je suis a l'iteration  0\n",
            "je suis a l'iteration  0\n",
            "je suis a l'iteration  0\n",
            "je suis a l'iteration  0\n",
            "je suis a l'iteration  0\n",
            "je suis a l'iteration  0\n",
            "je suis a l'iteration  0\n",
            "je suis a l'iteration  0\n",
            "je suis a l'iteration  0\n",
            "je suis a l'iteration  0\n",
            "je suis a l'iteration  0\n",
            "je suis a l'iteration  0\n",
            "je suis a l'iteration  0\n",
            "je suis a l'iteration  0\n",
            "je suis a l'iteration  0\n",
            "je suis a l'iteration  0\n",
            "je suis a l'iteration  0\n",
            "je suis a l'iteration  0\n",
            "je suis a l'iteration  0\n",
            "je suis a l'iteration  0\n",
            "je suis a l'iteration  0\n",
            "je suis a l'iteration  0\n",
            "je suis a l'iteration  0\n",
            "je suis a l'iteration  0\n",
            "je suis a l'iteration  0\n",
            "je suis a l'iteration  0\n",
            "je suis a l'iteration  0\n",
            "je suis a l'iteration  0\n",
            "je suis a l'iteration  0\n",
            "je suis a l'iteration  0\n",
            "je suis a l'iteration  0\n",
            "je suis a l'iteration  0\n",
            "je suis a l'iteration  0\n",
            "je suis a l'iteration  0\n",
            "je suis a l'iteration  0\n",
            "je suis a l'iteration  0\n",
            "je suis a l'iteration  0\n",
            "je suis a l'iteration  0\n",
            "je suis a l'iteration  0\n",
            "je suis a l'iteration  0\n",
            "je suis a l'iteration  0\n",
            "je suis a l'iteration  0\n",
            "je suis a l'iteration  0\n",
            "je suis a l'iteration  0\n",
            "je suis a l'iteration  0\n",
            "je suis a l'iteration  0\n",
            "je suis a l'iteration  0\n",
            "je suis a l'iteration  0\n",
            "je suis a l'iteration  0\n",
            "je suis a l'iteration  0\n",
            "je suis a l'iteration  0\n",
            "je suis a l'iteration  0\n",
            "je suis a l'iteration  0\n",
            "je suis a l'iteration  0\n",
            "je suis a l'iteration  0\n",
            "je suis a l'iteration  0\n",
            "je suis a l'iteration  0\n",
            "je suis a l'iteration  0\n",
            "je suis a l'iteration  0\n",
            "je suis a l'iteration  0\n",
            "je suis a l'iteration  0\n",
            "je suis a l'iteration  0\n",
            "je suis a l'iteration  0\n",
            "je suis a l'iteration  0\n",
            "je suis a l'iteration  0\n",
            "je suis a l'iteration  0\n",
            "je suis a l'iteration  0\n",
            "je suis a l'iteration  0\n",
            "je suis a l'iteration  0\n",
            "je suis a l'iteration  0\n",
            "je suis a l'iteration  0\n",
            "je suis a l'iteration  0\n",
            "je suis a l'iteration  0\n",
            "je suis a l'iteration  0\n",
            "je suis a l'iteration  0\n",
            "je suis a l'iteration  0\n",
            "je suis a l'iteration  0\n",
            "je suis a l'iteration  0\n",
            "je suis a l'iteration  0\n",
            "je suis a l'iteration  0\n",
            "je suis a l'iteration  0\n",
            "je suis a l'iteration  0\n",
            "je suis a l'iteration  0\n",
            "je suis a l'iteration  0\n",
            "je suis a l'iteration  0\n",
            "je suis a l'iteration  0\n",
            "je suis a l'iteration  0\n",
            "je suis a l'iteration  0\n",
            "je suis a l'iteration  0\n",
            "je suis a l'iteration  0\n",
            "je suis a l'iteration  0\n",
            "je suis a l'iteration  0\n",
            "je suis a l'iteration  0\n",
            "je suis a l'iteration  0\n",
            "je suis a l'iteration  0\n",
            "je suis a l'iteration  0\n",
            "je suis a l'iteration  0\n",
            "je suis a l'iteration  0\n",
            "je suis a l'iteration  0\n",
            "je suis a l'iteration  0\n",
            "je suis a l'iteration  0\n",
            "je suis a l'iteration  0\n",
            "je suis a l'iteration  0\n",
            "je suis a l'iteration  0\n",
            "je suis a l'iteration  0\n",
            "je suis a l'iteration  0\n",
            "je suis a l'iteration  0\n",
            "je suis a l'iteration  0\n",
            "je suis a l'iteration  0\n",
            "je suis a l'iteration  0\n",
            "je suis a l'iteration  0\n",
            "je suis a l'iteration  0\n",
            "je suis a l'iteration  0\n",
            "je suis a l'iteration  0\n",
            "je suis a l'iteration  0\n",
            "je suis a l'iteration  0\n",
            "je suis a l'iteration  0\n",
            "je suis a l'iteration  0\n",
            "je suis a l'iteration  0\n",
            "je suis a l'iteration  0\n",
            "je suis a l'iteration  0\n",
            "je suis a l'iteration  0\n",
            "je suis a l'iteration  0\n",
            "je suis a l'iteration  0\n",
            "je suis a l'iteration  0\n",
            "je suis a l'iteration  0\n",
            "je suis a l'iteration  0\n",
            "je suis a l'iteration  0\n",
            "je suis a l'iteration  0\n",
            "je suis a l'iteration  0\n",
            "je suis a l'iteration  0\n",
            "je suis a l'iteration  0\n",
            "je suis a l'iteration  0\n",
            "je suis a l'iteration  0\n",
            "je suis a l'iteration  0\n",
            "je suis a l'iteration  0\n",
            "je suis a l'iteration  0\n",
            "je suis a l'iteration  0\n",
            "je suis a l'iteration  0\n",
            "je suis a l'iteration  0\n",
            "je suis a l'iteration  0\n",
            "je suis a l'iteration  0\n",
            "je suis a l'iteration  0\n",
            "je suis a l'iteration  0\n",
            "je suis a l'iteration  0\n",
            "je suis a l'iteration  0\n",
            "je suis a l'iteration  0\n",
            "je suis a l'iteration  0\n",
            "je suis a l'iteration  0\n",
            "je suis a l'iteration  "
          ]
        },
        {
          "output_type": "stream",
          "name": "stderr",
          "text": [
            "ERROR:root:Internal Python error in the inspect module.\n",
            "Below is the traceback from this internal error.\n",
            "\n"
          ]
        },
        {
          "output_type": "stream",
          "name": "stdout",
          "text": [
            "Traceback (most recent call last):\n",
            "  File \"/usr/local/lib/python3.7/dist-packages/IPython/core/interactiveshell.py\", line 2882, in run_code\n",
            "    exec(code_obj, self.user_global_ns, self.user_ns)\n",
            "  File \"<ipython-input-3-79165b5dbc3d>\", line 3, in <module>\n",
            "    print(\"je suis a l'iteration \",nombre_affichage)\n",
            "  File \"/usr/local/lib/python3.7/dist-packages/ipykernel/iostream.py\", line 400, in write\n",
            "    self.pub_thread.schedule(lambda : self._buffer.write(string))\n",
            "  File \"/usr/local/lib/python3.7/dist-packages/ipykernel/iostream.py\", line 203, in schedule\n",
            "    self._event_pipe.send(b'')\n",
            "  File \"/usr/local/lib/python3.7/dist-packages/zmq/sugar/socket.py\", line 547, in send\n",
            "    return super(Socket, self).send(data, flags=flags, copy=copy, track=track)\n",
            "  File \"zmq/backend/cython/socket.pyx\", line 718, in zmq.backend.cython.socket.Socket.send\n",
            "  File \"zmq/backend/cython/socket.pyx\", line 765, in zmq.backend.cython.socket.Socket.send\n",
            "  File \"zmq/backend/cython/socket.pyx\", line 242, in zmq.backend.cython.socket._send_copy\n",
            "  File \"zmq/backend/cython/checkrc.pxd\", line 13, in zmq.backend.cython.checkrc._check_rc\n",
            "KeyboardInterrupt\n",
            "\n",
            "During handling of the above exception, another exception occurred:\n",
            "\n",
            "Traceback (most recent call last):\n",
            "  File \"/usr/local/lib/python3.7/dist-packages/IPython/core/interactiveshell.py\", line 1823, in showtraceback\n",
            "    stb = value._render_traceback_()\n",
            "AttributeError: 'KeyboardInterrupt' object has no attribute '_render_traceback_'\n",
            "\n",
            "During handling of the above exception, another exception occurred:\n",
            "\n",
            "Traceback (most recent call last):\n",
            "  File \"/usr/local/lib/python3.7/dist-packages/IPython/core/ultratb.py\", line 1132, in get_records\n",
            "    return _fixed_getinnerframes(etb, number_of_lines_of_context, tb_offset)\n",
            "  File \"/usr/local/lib/python3.7/dist-packages/IPython/core/ultratb.py\", line 313, in wrapped\n",
            "    return f(*args, **kwargs)\n",
            "  File \"/usr/local/lib/python3.7/dist-packages/IPython/core/ultratb.py\", line 358, in _fixed_getinnerframes\n",
            "    records = fix_frame_records_filenames(inspect.getinnerframes(etb, context))\n",
            "  File \"/usr/lib/python3.7/inspect.py\", line 1502, in getinnerframes\n",
            "    frameinfo = (tb.tb_frame,) + getframeinfo(tb, context)\n",
            "  File \"/usr/lib/python3.7/inspect.py\", line 1460, in getframeinfo\n",
            "    filename = getsourcefile(frame) or getfile(frame)\n",
            "  File \"/usr/lib/python3.7/inspect.py\", line 696, in getsourcefile\n",
            "    if getattr(getmodule(object, filename), '__loader__', None) is not None:\n",
            "  File \"/usr/lib/python3.7/inspect.py\", line 742, in getmodule\n",
            "    os.path.realpath(f)] = module.__name__\n",
            "  File \"/usr/lib/python3.7/posixpath.py\", line 395, in realpath\n",
            "    path, ok = _joinrealpath(filename[:0], filename, {})\n",
            "  File \"/usr/lib/python3.7/posixpath.py\", line 429, in _joinrealpath\n",
            "    if not islink(newpath):\n",
            "  File \"/usr/lib/python3.7/posixpath.py\", line 171, in islink\n",
            "    st = os.lstat(path)\n",
            "KeyboardInterrupt\n"
          ]
        },
        {
          "output_type": "error",
          "ename": "KeyboardInterrupt",
          "evalue": "ignored",
          "traceback": [
            "\u001b[0;31m---------------------------------------------------------------------------\u001b[0m"
          ]
        }
      ]
    },
    {
      "cell_type": "code",
      "source": [
        "nombre_affichage=0\n",
        "while True:\n",
        "    print(\"je suis a l'iteration \",nombre_affichage)\n",
        "    if nombre_affichage == 10:\n",
        "       break\n",
        "    else:\n",
        "       nombre_affichage += 1"
      ],
      "metadata": {
        "colab": {
          "base_uri": "https://localhost:8080/"
        },
        "id": "Au3u2p1x56Ma",
        "outputId": "b955c43b-138e-4f97-fe31-60a88285f2e6"
      },
      "execution_count": null,
      "outputs": [
        {
          "output_type": "stream",
          "name": "stdout",
          "text": [
            "je suis a l'iteration  0\n",
            "je suis a l'iteration  1\n",
            "je suis a l'iteration  2\n",
            "je suis a l'iteration  3\n",
            "je suis a l'iteration  4\n",
            "je suis a l'iteration  5\n",
            "je suis a l'iteration  6\n",
            "je suis a l'iteration  7\n",
            "je suis a l'iteration  8\n",
            "je suis a l'iteration  9\n",
            "je suis a l'iteration  10\n"
          ]
        }
      ]
    },
    {
      "cell_type": "markdown",
      "source": [
        "### La boucle Python for"
      ],
      "metadata": {
        "id": "gfiauAW-6ZLk"
      }
    },
    {
      "cell_type": "markdown",
      "source": [
        "Une boucle for exécute un code d’une manière répétitive sur une séquence, un certain nombre de fois. Contrairement à la boucle while, aucune condition n’est spécifiée.\n",
        "\n",
        "\n",
        "![image.png](data:image/png;base64,iVBORw0KGgoAAAANSUhEUgAAAuEAAAA+CAYAAACFt8VBAAAAAXNSR0IArs4c6QAAAARnQU1BAACxjwv8YQUAAAAJcEhZcwAADsMAAA7DAcdvqGQAAAobSURBVHhe7d0/bBRnGsfxZ9fedQy2lsUE7EgQGeSCFTRWTjISFWlyR0FxnWmvQTpXcJ1Ld0DlSG6S4grcpXCRQEMqS1jKiQbk6GQZ64IEiw9jrwzxmbVn7n1n3vnr3fWuvXmx4fuRRtl539mZ2XcofvP6mUlG8j2uAAAAALAma/4LAAAAwBJCOAAAAGAZIRwAAACwjBAOAAAAWEYIBwAAACxrcwgvysPTfxf3vFlOnjPtH4OCdKxckq5n/ZIxLc3R37sg2RtmtYbsnNqv3rdacjNdprW9bh677l2T+SOmAQAAAB9MW0P4zWN/kSsyJ7d+/VYyelleND1oxBl5JJt9j6S6YBoAAADwUWtrCD+fL8ra+qLcNesfl4psq6C8ebYsh/HF6nfX7nk3RqXfTQMAAAA+mDaG8KIMNqikCMohgiVRFnHkz+Ke/kpudn4lq8E2TZey+GUiHZNm1ZNu65Lss6jkI11SostBdBlIZuZCuE18f/H2rrmCaY0zpSqNtin1Sy7ob7WkZXIw2vcupS07nZP5cNyvy8NO02zo67J6rCjfnQy2ab1kJTE+aklei9TY7xibVL9aopIcv2/HtUjsIzn2yXIe3Teoxqvx2Dc8/ybG3v9+q9cFAAB8ytoQwoOQd12u9IgcGwjCdizwqZB9Z+CNfB+UqfxnUc5/mQqEPSNyZ+hz+UH3L8zJWt/IjsBYW0XcBZHOP8WC2Y1u9cPK4o75q5mZL0Ru+yUfm32PpSqD0pmqvc5eHpb8qefeNu9n16XzahTW3GtPw/ZasnPHxfX2rZd52RoqpYJor+RGu/2Z9DrHr0sHyNGjUh03+59+J7kJFSxN9+4WpeSN+3351bSk6Wv21/f+TPmtl6tyvk/dEJm+Xanz67z8Tqrh738k22bctezcsOSW502f+u0nS4mgnOxvtSRHh/SSZGcfm+/Pi6OuY3Ls1fhNBGOvrk1BjV0q1Ofrnf++xx4AAKC2NuSJIOTdk5/fiqy99MOcXv96S/cX5WHfOdU+J3/ztld+vy/frxRluKdoGrRV+Xnhvr/N1qI8fluUgbzXsSvnn0viDB0Pf0zmmxMisy/EMevuNdU/ZVZkU9wn65I99ZlZNypL8n6k4n10H7wWp9Dd9Gy1M6L2bz4HNwXZM/GQva6CXLCNOf7FYlP793/LQnT+Yy+kWlE3CImguU8r96W4tup9vPv237LW87mc99aaVe98CpIZKkvVjKv+7c6P5ei3q5Dbkehv0Y2idMiSbF3bNA0VcfQNVPyGLDH26WtTUDdfvbI1Hb9+kWbH3r9Jexr7NwYAANCYtUm9l+/9kFeXCn8/eaFdW5Wvn7dQvzy1KtthOOqSzEWR7QdBMFPi5QhqyavgleY8WY1qvadUMOyrHcxqSpQsXJLckGmvw/3tnfm0u8ypXm+WPtr/sORqVLt8MHqspsvSOWrOL17u4f1FIjn2XaP9prMNSmr/hUHJx/Zf69rW5Z3furjzZj3lwI89AAA4tKyF8IF8fNa7cf146/zZZW8G1JsdfS1uOCtZkI6JQZGwZKF+WcmeeCUL/bI1HZUz7FZSkTlzVGR5o+kHPJ3YuQdLvOTjgxtbCs+ruqxCcaLuWt/QJM+9rQ+36r9gpPff7Mz61MauN1oHfuwBAMChZCGEr8pP66tybGBEvjMtcmRErvQsyg+mBKIdvBKSk92S/eaEV/KQDnnOb2Zm3KthbmG2tCmx2dTJwV1mwk0JxC/NBUXnl7LafujQPPTnvord4Ji/UORqPsyqeCE4Ku/Q9dm1xi4sH1Fjm5jpHnvj1Xg3XV+/gy5P6ZXcP+I3DZFmx54HMwEAQKsyku9p06Sk/h/1XJfh9XthfXGcfgvHnYFgNlzXfwc144p+O0rff+XW83/t6/WG3ltOdI1xqpTEf/guCG+qf/ao5PRDmGbGVH+v49VjqYa1xXH64b8aZQgL84nvh+GxsuTNBkf702/oKEn8GVM9ax7Npu7s1/QMbHg+utwlUcbRQrmMHtsv02+aicbfuy75ueid7voNNd4DsqY+fxfJsdXS57Zz/Or+NjWmVSklr4X+S0PwMKQe2ycnEteu8fjqvtPijkf12rWudeL6KYnr08TY+2MgUo0dBwAAoJE2hnBg/xrfEAEAAHwcrNWEAwAAAPARwgEAAADLKEcBAAAALGMmHAAAALCMEA4AAABYRggHAAAALCOEAwAAAJYRwgEAAADLCOEAAACAZYRwAAAAwDJCOAAAAGAZIRwAAACwjBAOAAAAWEYIBwAAACwjhAMAAACWEcLb5Ua/5FYuSddcwTR8WrJz6revXJDsDdMAAACAugjhh4EX8Ac/3MWaHJSuZ/2SMasAAADYH0J4u0yVpdr3SDZHKqbh0+KMqN/e91ScKdMAAACAujKS73HNZ+yRLsXIDfmfndnHUr226a94CtKxclzc8Q3pmDCz2ZUleX+2LNHA621K0mnWov5Ue2hdquMm8OpZ8olu2e57I5lg2/j+9Sz21Y3Y8fQ+T6vziQfmOsf39l1rBl7fcCyJoz8mtom1h+r9Nq1Lss/UwN1+LpmJYJv0PvQ2w5ILq3xqHQMAAOBwYSa8DfxZ4EdSXTANOwRBWW83L1sFFVonTZeSnStJVoV3vQ9vCUNqxf/OuA6dZqbdW9IzzrpcRQdr3bdz/435Ibnm8YPZ/emyH57D48dCcLCNd45pOkDH961uUGRQ8om6+V41NsG5q/5Kv3TMdJk+dZc4MyS55Xnz/dSxAQAADilCuBV65joIjxVxVVjPnomCppa9WNxXzfXWdBDMa++/nszMaelUAXsrMXvfJpNfSK5Qlu1w35vi3FbjMHQ88Q8vOvdNcZ+sS/bUZ157KLU9AADAYUe2OQCcETNDrN+uopaOpmexA2Vxx8xHRc/MJ0ti6suc6hVZ3jAz73+Ayv727V57KtUFPdPvj00uNksOAABwWBHCD4RNcc6acovxJcmO7iWI7437at18+oMUupMz/KXulv/RBeU+utTGuTxMEAcAAIceIfygmdrYWfPstfVLZq/BPAzCfo12/EFP98FrcYZKjUP/vDp+4YRkWn0H+Ngb2VLnHdV4q+Nf7Rdn9sUe67r/J+6n+fIZAADwkSGE75t+sNGUSgypAb083GLZRPR9f/EfZNyOlZd4D2hOl6VzNNimhf8pzthSrJxjWDI/zqtgHKMfrDSz7+E5pN8JrrbZmhXJTQTbRG9Mycxc8Nu8N6QExwn69YOl/uy1/71h7yHLZktl/JuG4Jh7+T4AAMDBxCsKAQAAAMuYCQcAAAAsI4QDAAAAlhHCAQAAAMsI4QAAAIBlhHAAAADAMkI4AAAAYBkhHAAAALCMEA4AAABYRggHAAAALCOEAwAAAJYRwgEAAADLCOEAAACAZYRwAAAAwDJCOAAAAGAZIRwAAACwjBAOAAAAWEYIBwAAACwjhAMAAACWEcIBAAAAq0T+D6k0XqsE3jduAAAAAElFTkSuQmCC)"
      ],
      "metadata": {
        "id": "hiOhDfz76qPv"
      }
    },
    {
      "cell_type": "code",
      "source": [
        "for lettre in \"gdsc!!\":\n",
        "  print(lettre)\n",
        "  if lettre=='c':\n",
        "    break"
      ],
      "metadata": {
        "colab": {
          "base_uri": "https://localhost:8080/"
        },
        "id": "TVL3Gjvo6sVU",
        "outputId": "f63f03c9-35dd-4fb5-a39a-bddbaea520c2"
      },
      "execution_count": null,
      "outputs": [
        {
          "output_type": "stream",
          "name": "stdout",
          "text": [
            "g\n",
            "d\n",
            "s\n",
            "c\n"
          ]
        }
      ]
    },
    {
      "cell_type": "markdown",
      "source": [
        "**NB:En outre, il est possible d’utiliser else et break  dans une boucle for**"
      ],
      "metadata": {
        "id": "eWPzN-oB7e1L"
      }
    },
    {
      "cell_type": "markdown",
      "source": [
        "### La fonction range() et les boucles Python"
      ],
      "metadata": {
        "id": "fqcPHJsK7t4I"
      }
    },
    {
      "cell_type": "markdown",
      "source": [
        "Le fonction range() génère une séquence d’entiers en définissant le début et la fin d’un intervalle qui délimite un objet itérable.\n",
        "\n",
        "![image.png](data:image/png;base64,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)"
      ],
      "metadata": {
        "id": "35pVhBsj7xe-"
      }
    },
    {
      "cell_type": "code",
      "source": [
        "for i in range(0, 10):\n",
        "\tprint(i)"
      ],
      "metadata": {
        "colab": {
          "base_uri": "https://localhost:8080/"
        },
        "id": "gkbVF9sI7tTM",
        "outputId": "a44b50b3-8ee1-4e8e-8bfb-5d7983c710e8"
      },
      "execution_count": null,
      "outputs": [
        {
          "output_type": "stream",
          "name": "stdout",
          "text": [
            "0\n",
            "1\n",
            "2\n",
            "3\n",
            "4\n",
            "5\n",
            "6\n",
            "7\n",
            "8\n",
            "9\n"
          ]
        }
      ]
    },
    {
      "cell_type": "markdown",
      "source": [
        "Comme vous pouvez le constater dans l’exemple précédent, le dernier élément n’est pas pris en compte.\n",
        "\n",
        "La fonction range() prend les formes suivantes :"
      ],
      "metadata": {
        "id": "o2WhlbBi8Ooe"
      }
    },
    {
      "cell_type": "code",
      "source": [
        "#         range(stop)\n",
        "for i in range(5):\n",
        "    print(i)"
      ],
      "metadata": {
        "colab": {
          "base_uri": "https://localhost:8080/"
        },
        "id": "SeYah0JI8Mwb",
        "outputId": "0813e0a7-314c-4051-d188-f849274f6484"
      },
      "execution_count": null,
      "outputs": [
        {
          "output_type": "stream",
          "name": "stdout",
          "text": [
            "0\n",
            "1\n",
            "2\n",
            "3\n",
            "4\n"
          ]
        }
      ]
    },
    {
      "cell_type": "code",
      "source": [
        "#         range(start, stop, step)\n",
        "for i in range(1, 10, 2):\n",
        "\tprint(i)"
      ],
      "metadata": {
        "colab": {
          "base_uri": "https://localhost:8080/"
        },
        "id": "32ECTiS88gp-",
        "outputId": "2d680b60-a37f-4e09-8919-0c4c39e57124"
      },
      "execution_count": null,
      "outputs": [
        {
          "output_type": "stream",
          "name": "stdout",
          "text": [
            "1\n",
            "3\n",
            "5\n",
            "7\n",
            "9\n"
          ]
        }
      ]
    },
    {
      "cell_type": "markdown",
      "source": [
        "Toutefois, si step est négatif, range() renvoie une séquence qui décrémente."
      ],
      "metadata": {
        "id": "7mc-uKRc8ubO"
      }
    },
    {
      "cell_type": "code",
      "source": [
        "for i in range(10, 0, -2):\n",
        "\tprint(i)"
      ],
      "metadata": {
        "colab": {
          "base_uri": "https://localhost:8080/"
        },
        "id": "jjYnkloD8vuJ",
        "outputId": "b8a42896-6aa2-4885-b0b4-57e09f269e29"
      },
      "execution_count": null,
      "outputs": [
        {
          "output_type": "stream",
          "name": "stdout",
          "text": [
            "10\n",
            "8\n",
            "6\n",
            "4\n",
            "2\n"
          ]
        }
      ]
    },
    {
      "cell_type": "code",
      "source": [
        "#              range(start, stop)\n",
        "for i in range(0, 10):\n",
        "\tprint(i)"
      ],
      "metadata": {
        "colab": {
          "base_uri": "https://localhost:8080/"
        },
        "id": "kKRbmNRQ9EGH",
        "outputId": "012bee8b-1ace-40f4-c0f4-96ad61d45f5d"
      },
      "execution_count": null,
      "outputs": [
        {
          "output_type": "stream",
          "name": "stdout",
          "text": [
            "0\n",
            "1\n",
            "2\n",
            "3\n",
            "4\n",
            "5\n",
            "6\n",
            "7\n",
            "8\n",
            "9\n"
          ]
        }
      ]
    },
    {
      "cell_type": "markdown",
      "source": [
        "### La fonction enumerate () et les boucles Python"
      ],
      "metadata": {
        "id": "nsQHrNWf9UWe"
      }
    },
    {
      "cell_type": "markdown",
      "source": [
        "La fonction enumerate () est utilisée pour affecter un index à chaque élément de l’objet ou de la séquence itérable. Elle exécute une boucle sur les objets itérables tout en gardant une trace de l’élément actuel et renvoie l’objet sous une forme énumérable."
      ],
      "metadata": {
        "id": "GIxSaMBe9dPU"
      }
    },
    {
      "cell_type": "code",
      "source": [
        "lettres=\"gdsc\"\n",
        "for lettre in enumerate(lettres):\n",
        "\tprint(lettre)"
      ],
      "metadata": {
        "colab": {
          "base_uri": "https://localhost:8080/"
        },
        "id": "v3efTO0w9dBQ",
        "outputId": "a10ecaa5-172e-4cf6-a299-7f51ba51b306"
      },
      "execution_count": null,
      "outputs": [
        {
          "output_type": "stream",
          "name": "stdout",
          "text": [
            "(0, 'g')\n",
            "(1, 'd')\n",
            "(2, 's')\n",
            "(3, 'c')\n"
          ]
        }
      ]
    },
    {
      "cell_type": "markdown",
      "source": [
        "Pour changer l’index du premier élément, nous utiliserons le paramètre start :"
      ],
      "metadata": {
        "id": "-QLifIwC9zM-"
      }
    },
    {
      "cell_type": "code",
      "source": [
        "for lettre in enumerate(lettres, start=5):\n",
        "\tprint(lettre)"
      ],
      "metadata": {
        "id": "78SMqk8y9y15",
        "colab": {
          "base_uri": "https://localhost:8080/"
        },
        "outputId": "ee96c7ed-747b-46b7-fc80-6297b4874abe"
      },
      "execution_count": null,
      "outputs": [
        {
          "output_type": "stream",
          "name": "stdout",
          "text": [
            "(5, 'g')\n",
            "(6, 'd')\n",
            "(7, 's')\n",
            "(8, 'c')\n"
          ]
        }
      ]
    },
    {
      "cell_type": "markdown",
      "source": [
        "## Les Fonctions"
      ],
      "metadata": {
        "id": "k6K2efX_-oFX"
      }
    },
    {
      "cell_type": "markdown",
      "source": [
        "En programmation, les fonctions sont très utiles pour réaliser plusieurs fois la même opération au sein d'un programme. Elles rendent également le code plus lisible et plus clair en le fractionnant en blocs logiques."
      ],
      "metadata": {
        "id": "FkHmzhl-_Cav"
      }
    },
    {
      "cell_type": "markdown",
      "source": [
        "### Définition"
      ],
      "metadata": {
        "id": "PjFobeM8_JDG"
      }
    },
    {
      "cell_type": "markdown",
      "source": [
        "Pour définir une fonction, Python utilise le mot-clé def"
      ],
      "metadata": {
        "id": "jqHifNW7_QfS"
      }
    },
    {
      "cell_type": "code",
      "source": [
        "def hello(msg):\n",
        "     print(\"hello\",msg)"
      ],
      "metadata": {
        "id": "-ivL-I9K_SND"
      },
      "execution_count": null,
      "outputs": []
    },
    {
      "cell_type": "markdown",
      "source": [
        "Notez que la syntaxe de def utilise les deux-points comme les boucles for et while ainsi que les tests if"
      ],
      "metadata": {
        "id": "gsS0XHjp_V1u"
      }
    },
    {
      "cell_type": "code",
      "source": [
        "hello(\"gdsc!\")"
      ],
      "metadata": {
        "colab": {
          "base_uri": "https://localhost:8080/"
        },
        "id": "hqHiSP2d_k9r",
        "outputId": "55c4f86b-cc44-4512-dee4-17ceebf9d606"
      },
      "execution_count": null,
      "outputs": [
        {
          "output_type": "stream",
          "name": "stdout",
          "text": [
            "hello gdsc!\n"
          ]
        }
      ]
    },
    {
      "cell_type": "code",
      "source": [
        "hello('salim')"
      ],
      "metadata": {
        "colab": {
          "base_uri": "https://localhost:8080/"
        },
        "id": "vRVkMFuK_tnu",
        "outputId": "fc3f0d8e-618b-4895-aa38-c00ef52fc2dd"
      },
      "execution_count": null,
      "outputs": [
        {
          "output_type": "stream",
          "name": "stdout",
          "text": [
            "hello salim\n"
          ]
        }
      ]
    },
    {
      "cell_type": "markdown",
      "source": [
        "### Renvoi de résultats"
      ],
      "metadata": {
        "id": "-rM5MRNi_tdJ"
      }
    },
    {
      "cell_type": "markdown",
      "source": [
        "Si on souhaite que la fonction renvoie quelque chose, il faut utiliser le mot-clé return"
      ],
      "metadata": {
        "id": "EN35H4F6AHCt"
      }
    },
    {
      "cell_type": "code",
      "source": [
        "def carre(x):\n",
        "     return x**2"
      ],
      "metadata": {
        "id": "txdhNYzFAL8p"
      },
      "execution_count": null,
      "outputs": []
    },
    {
      "cell_type": "code",
      "source": [
        "print(carre(2))"
      ],
      "metadata": {
        "colab": {
          "base_uri": "https://localhost:8080/"
        },
        "id": "NEdtZ6HRASHB",
        "outputId": "0423564e-0b74-4335-d42a-dd6b0ecba0ff"
      },
      "execution_count": null,
      "outputs": [
        {
          "output_type": "stream",
          "name": "stdout",
          "text": [
            "4\n"
          ]
        }
      ]
    },
    {
      "cell_type": "code",
      "source": [
        "print(carre(5))"
      ],
      "metadata": {
        "colab": {
          "base_uri": "https://localhost:8080/"
        },
        "id": "PPXA3SVYAVoP",
        "outputId": "2eefbfce-b4e9-487e-ff08-7134daff827a"
      },
      "execution_count": null,
      "outputs": [
        {
          "output_type": "stream",
          "name": "stdout",
          "text": [
            "25\n"
          ]
        }
      ]
    },
    {
      "cell_type": "markdown",
      "source": [
        "Un énorme avantage en Python est que les fonctions sont capables de renvoyer plusieurs objets à la fois, comme dans cette fraction de code :"
      ],
      "metadata": {
        "id": "ZG5n5dajAd-w"
      }
    },
    {
      "cell_type": "code",
      "source": [
        "def carre_cube(x):\n",
        "    #return x**2, x**3\n",
        "    return carre(x), x**3"
      ],
      "metadata": {
        "id": "-k2pQIAGAgpZ"
      },
      "execution_count": null,
      "outputs": []
    },
    {
      "cell_type": "code",
      "source": [
        "print(carre_cube(2))"
      ],
      "metadata": {
        "colab": {
          "base_uri": "https://localhost:8080/"
        },
        "id": "3ow5gYRCApJ8",
        "outputId": "ab84633f-8f07-4e12-e106-d875b80088a2"
      },
      "execution_count": null,
      "outputs": [
        {
          "output_type": "stream",
          "name": "stdout",
          "text": [
            "(4, 8)\n"
          ]
        }
      ]
    },
    {
      "cell_type": "code",
      "source": [
        "print(carre_cube(5))"
      ],
      "metadata": {
        "colab": {
          "base_uri": "https://localhost:8080/"
        },
        "id": "Cec5rLUFAt2Q",
        "outputId": "bf020d75-43f1-496b-bd6a-e795dfc3a9e9"
      },
      "execution_count": null,
      "outputs": [
        {
          "output_type": "stream",
          "name": "stdout",
          "text": [
            "(25, 125)\n"
          ]
        }
      ]
    },
    {
      "cell_type": "markdown",
      "source": [
        "### Arguments positionnels et arguments par mot-clé"
      ],
      "metadata": {
        "id": "6P7Sl2HVBGnu"
      }
    },
    {
      "cell_type": "markdown",
      "source": [
        "Jusqu'à maintenant, nous avons systématiquement passé le nombre d'arguments que la fonction attendait. Que se passe-t-il si une fonction attend deux arguments et que nous ne lui en passons qu'un seul ?"
      ],
      "metadata": {
        "id": "hCxSQXB0CmTg"
      }
    },
    {
      "cell_type": "code",
      "source": [
        "def fois(x, y):\n",
        "   return x*y"
      ],
      "metadata": {
        "id": "bptKpYpHBGRq"
      },
      "execution_count": null,
      "outputs": []
    },
    {
      "cell_type": "code",
      "source": [
        "print(fois(2,3))"
      ],
      "metadata": {
        "colab": {
          "base_uri": "https://localhost:8080/"
        },
        "id": "27UsNNssCrcd",
        "outputId": "438d16cd-96a2-4e18-b9e1-69763c9f80a8"
      },
      "execution_count": null,
      "outputs": [
        {
          "output_type": "stream",
          "name": "stdout",
          "text": [
            "6\n"
          ]
        }
      ]
    },
    {
      "cell_type": "code",
      "source": [
        "print(fois(2))"
      ],
      "metadata": {
        "colab": {
          "base_uri": "https://localhost:8080/",
          "height": 165
        },
        "id": "o2S4aLYYC0Dq",
        "outputId": "1ebb1c1c-cf06-4f5b-9d19-a9f7c577b03f"
      },
      "execution_count": null,
      "outputs": [
        {
          "output_type": "error",
          "ename": "TypeError",
          "evalue": "ignored",
          "traceback": [
            "\u001b[0;31m---------------------------------------------------------------------------\u001b[0m",
            "\u001b[0;31mTypeError\u001b[0m                                 Traceback (most recent call last)",
            "\u001b[0;32m<ipython-input-79-86d8024dc794>\u001b[0m in \u001b[0;36m<module>\u001b[0;34m()\u001b[0m\n\u001b[0;32m----> 1\u001b[0;31m \u001b[0mprint\u001b[0m\u001b[0;34m(\u001b[0m\u001b[0mfois\u001b[0m\u001b[0;34m(\u001b[0m\u001b[0;36m2\u001b[0m\u001b[0;34m)\u001b[0m\u001b[0;34m)\u001b[0m\u001b[0;34m\u001b[0m\u001b[0;34m\u001b[0m\u001b[0m\n\u001b[0m",
            "\u001b[0;31mTypeError\u001b[0m: fois() missing 1 required positional argument: 'y'"
          ]
        }
      ]
    },
    {
      "cell_type": "markdown",
      "source": [
        "On constate que passer un seul argument à une fonction qui en attend deux conduit à une erreur."
      ],
      "metadata": {
        "id": "vqNskDI_C4uF"
      }
    },
    {
      "cell_type": "markdown",
      "source": [
        "Mais il est aussi possible de passer un ou plusieurs argument(s) de manière facultative et de leur attribuer une valeur par défaut :"
      ],
      "metadata": {
        "id": "5maozZ_pC88B"
      }
    },
    {
      "cell_type": "code",
      "source": [
        "def fois(x, y=1):\n",
        "   return x*y"
      ],
      "metadata": {
        "id": "RQT1DzfVC_XI"
      },
      "execution_count": null,
      "outputs": []
    },
    {
      "cell_type": "code",
      "source": [
        "print(fois(2,3))"
      ],
      "metadata": {
        "colab": {
          "base_uri": "https://localhost:8080/"
        },
        "id": "ba24AQ8cDRYs",
        "outputId": "80023d54-53c7-473c-8fb2-1aaa8c66d44c"
      },
      "execution_count": null,
      "outputs": [
        {
          "output_type": "stream",
          "name": "stdout",
          "text": [
            "6\n"
          ]
        }
      ]
    },
    {
      "cell_type": "code",
      "source": [
        "print(fois(2))"
      ],
      "metadata": {
        "colab": {
          "base_uri": "https://localhost:8080/"
        },
        "id": "0lHHgdPmDSIA",
        "outputId": "e58c375e-eb38-46c1-e1d8-253993021a47"
      },
      "execution_count": null,
      "outputs": [
        {
          "output_type": "stream",
          "name": "stdout",
          "text": [
            "2\n"
          ]
        }
      ]
    },
    {
      "cell_type": "code",
      "source": [
        "def fois(x=1, y=1):\n",
        "   return x*y"
      ],
      "metadata": {
        "id": "Ew6cgJFhDUOF"
      },
      "execution_count": null,
      "outputs": []
    },
    {
      "cell_type": "code",
      "source": [
        "print(fois(2))"
      ],
      "metadata": {
        "colab": {
          "base_uri": "https://localhost:8080/"
        },
        "id": "2dNkb5XXDV99",
        "outputId": "0bc00af3-5deb-4fec-d159-3e4e68ab698b"
      },
      "execution_count": null,
      "outputs": [
        {
          "output_type": "stream",
          "name": "stdout",
          "text": [
            "2\n"
          ]
        }
      ]
    },
    {
      "cell_type": "code",
      "source": [
        "print(fois())"
      ],
      "metadata": {
        "colab": {
          "base_uri": "https://localhost:8080/"
        },
        "id": "4SvtvW-hDXsJ",
        "outputId": "cbad3f83-153d-41a7-b82c-c9bb107be7ca"
      },
      "execution_count": null,
      "outputs": [
        {
          "output_type": "stream",
          "name": "stdout",
          "text": [
            "1\n"
          ]
        }
      ]
    },
    {
      "cell_type": "markdown",
      "source": [
        "### fonction lambda"
      ],
      "metadata": {
        "id": "VWeqqUoqD_5d"
      }
    },
    {
      "cell_type": "markdown",
      "source": [
        "En Python, une fonction lambda est une fonction d’une seule ligne déclarée sans nom, qui peut avoir un nombre quelconque d’arguments, mais elle ne peut avoir qu’une seule expression\n",
        "\n",
        "![image.png](data:image/png;base64,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)"
      ],
      "metadata": {
        "id": "uvfErt2KD-As"
      }
    },
    {
      "cell_type": "code",
      "source": [
        "def sum_classic( a , b ):\n",
        "  return a + b"
      ],
      "metadata": {
        "id": "OuJ_2ljEEMeF"
      },
      "execution_count": null,
      "outputs": []
    },
    {
      "cell_type": "markdown",
      "source": [
        "Avec les lambda on aura le code suivant"
      ],
      "metadata": {
        "id": "Z1E_wgDREZ-a"
      }
    },
    {
      "cell_type": "code",
      "source": [
        "sum_lambda = lambda a,b : a+b"
      ],
      "metadata": {
        "id": "-EafpkEbEZoa"
      },
      "execution_count": null,
      "outputs": []
    },
    {
      "cell_type": "code",
      "source": [
        "print(sum_lambda(10,5))"
      ],
      "metadata": {
        "colab": {
          "base_uri": "https://localhost:8080/"
        },
        "id": "rDXFFtsSEdYt",
        "outputId": "fcd1aab7-091b-44a8-f253-7ddd0071780a"
      },
      "execution_count": null,
      "outputs": [
        {
          "output_type": "stream",
          "name": "stdout",
          "text": [
            "15\n"
          ]
        }
      ]
    },
    {
      "cell_type": "code",
      "source": [
        "hello =lambda msg:print('hello',msg)\n",
        "hello('gdsc!')"
      ],
      "metadata": {
        "colab": {
          "base_uri": "https://localhost:8080/"
        },
        "id": "4SqMlDPj3cqU",
        "outputId": "3ebc1ae5-ef5c-4312-e471-99dce3a2e070"
      },
      "execution_count": null,
      "outputs": [
        {
          "output_type": "stream",
          "name": "stdout",
          "text": [
            "hello gdsc!\n"
          ]
        }
      ]
    },
    {
      "cell_type": "markdown",
      "source": [
        "**Pourquoi utiliser des fonctions anonymes (lambda) ?**\n",
        "\n",
        "\n",
        "De façon générale les fonctions anonymes sont utilisées lorsqu’il n’est pas nécessaire de nommer une fonction. En effet, il y a aucun intérêt de nommer une fonction qu’on utilisera qu’une fois 🤔. Mieux, on peut dire que l’utilisation de fonctions lambda est une question de style"
      ],
      "metadata": {
        "id": "N6VK_523Euf0"
      }
    },
    {
      "cell_type": "markdown",
      "source": [
        "## les structure de données python"
      ],
      "metadata": {
        "id": "2Pm5NMTLFK1Y"
      }
    },
    {
      "cell_type": "markdown",
      "source": [
        "nous avons vu précédemment les différents types de variables et les informations relatives au type primitif de variable, mais que faire dans le cas où nous voulons stocker plusieurs informations dans une même variable?"
      ],
      "metadata": {
        "id": "uzQ04lVsHqqY"
      }
    },
    {
      "cell_type": "markdown",
      "source": [
        "### les listes"
      ],
      "metadata": {
        "id": "0LvYFMHWH2Bv"
      }
    },
    {
      "cell_type": "markdown",
      "source": [
        "Une liste est une structure de données qui contient une série de valeurs. Python autorise la construction de liste contenant des valeurs de types différents (par exemple entier et chaîne de caractères), ce qui leur confère une grande flexibilité.\n",
        "\n",
        "Une liste est déclarée par une série de valeurs (n'oubliez pas les guillemets, simples ou doubles, s'il s'agit de chaînes de caractères) séparées par des virgules, et le tout encadré par des crochets. "
      ],
      "metadata": {
        "id": "p3TiEqgBHzoT"
      }
    },
    {
      "cell_type": "code",
      "source": [
        "animaux = [\"girafe\", \"tigre\", \"singe\", \"souris\"]\n",
        "print(animaux)"
      ],
      "metadata": {
        "colab": {
          "base_uri": "https://localhost:8080/"
        },
        "id": "j7mo7speIS5T",
        "outputId": "56c4eba9-1ccf-4c7f-f830-cba6767a3982"
      },
      "execution_count": null,
      "outputs": [
        {
          "output_type": "stream",
          "name": "stdout",
          "text": [
            "['girafe', 'tigre', 'singe', 'souris']\n"
          ]
        }
      ]
    },
    {
      "cell_type": "code",
      "source": [
        "print(animaux[0])"
      ],
      "metadata": {
        "colab": {
          "base_uri": "https://localhost:8080/"
        },
        "id": "F23KVvGTIfET",
        "outputId": "d13fc0eb-7b20-4171-8d5d-2d2fc977fe09"
      },
      "execution_count": null,
      "outputs": [
        {
          "output_type": "stream",
          "name": "stdout",
          "text": [
            "girafe\n"
          ]
        }
      ]
    },
    {
      "cell_type": "code",
      "source": [
        "mixte = [\"girafe\", 5, \"souris\", 0.15]\n",
        "print(mixte[3])"
      ],
      "metadata": {
        "colab": {
          "base_uri": "https://localhost:8080/"
        },
        "id": "SL-sqoDPIlbI",
        "outputId": "5ce80855-07e7-44f5-84fe-05ff18a458fc"
      },
      "execution_count": null,
      "outputs": [
        {
          "output_type": "stream",
          "name": "stdout",
          "text": [
            "0.15\n"
          ]
        }
      ]
    },
    {
      "cell_type": "code",
      "source": [
        "print(type(mixte))"
      ],
      "metadata": {
        "colab": {
          "base_uri": "https://localhost:8080/"
        },
        "id": "nML7m-JOJK3j",
        "outputId": "0f0361a3-6eb5-478b-9ba3-f44b76f24b72"
      },
      "execution_count": null,
      "outputs": [
        {
          "output_type": "stream",
          "name": "stdout",
          "text": [
            "<class 'list'>\n"
          ]
        }
      ]
    },
    {
      "cell_type": "markdown",
      "source": [
        "### fonction sur les listes"
      ],
      "metadata": {
        "id": "qOO6l2PBI92B"
      }
    },
    {
      "cell_type": "markdown",
      "source": [
        "Le type liste dispose de fonctions(méthodes)qui permettent certains traitements propres aux listes"
      ],
      "metadata": {
        "id": "6g70XMe_JPpE"
      }
    },
    {
      "cell_type": "markdown",
      "source": [
        "Ajoute un élément à la fin de la liste:**list.append(x)**\n",
        "\n"
      ],
      "metadata": {
        "id": "aytfXq38JkZb"
      }
    },
    {
      "cell_type": "code",
      "source": [
        "mixte.append(3.14)\n",
        "print(mixte)"
      ],
      "metadata": {
        "colab": {
          "base_uri": "https://localhost:8080/"
        },
        "id": "Dk4YYvjSJjy5",
        "outputId": "12212fca-fafd-483d-98b5-7e866048997c"
      },
      "execution_count": null,
      "outputs": [
        {
          "output_type": "stream",
          "name": "stdout",
          "text": [
            "['girafe', 5, 'souris', 0.15, 3.14]\n"
          ]
        }
      ]
    },
    {
      "cell_type": "markdown",
      "source": [
        "fusion de deux liste:**list.extend(iterable)**"
      ],
      "metadata": {
        "id": "9cSlLWOOJ9ii"
      }
    },
    {
      "cell_type": "code",
      "source": [
        "mixte.extend(animaux)\n",
        "print(mixte)"
      ],
      "metadata": {
        "colab": {
          "base_uri": "https://localhost:8080/"
        },
        "id": "F8w3-L7VJOY8",
        "outputId": "fb427ed8-2dbe-41c8-e2e5-4f36fc433770"
      },
      "execution_count": null,
      "outputs": [
        {
          "output_type": "stream",
          "name": "stdout",
          "text": [
            "['girafe', 5, 'souris', 0.15, 3.14, 'girafe', 'tigre', 'singe', 'souris']\n"
          ]
        }
      ]
    },
    {
      "cell_type": "markdown",
      "source": [
        "Insère un élément à la position indiquée:**list.insert(position, x)**"
      ],
      "metadata": {
        "id": "_ump9YUwKPsc"
      }
    },
    {
      "cell_type": "code",
      "source": [
        "mixte.insert(5,'gdsc')"
      ],
      "metadata": {
        "id": "GjtA6qyfKZK8"
      },
      "execution_count": null,
      "outputs": []
    },
    {
      "cell_type": "code",
      "source": [
        "print(mixte)"
      ],
      "metadata": {
        "colab": {
          "base_uri": "https://localhost:8080/"
        },
        "id": "IKgfs1PaKfgp",
        "outputId": "533d52d5-ad9e-4fa6-daae-bafb87ba1b87"
      },
      "execution_count": null,
      "outputs": [
        {
          "output_type": "stream",
          "name": "stdout",
          "text": [
            "['dela3', 'girafe', 5, 'souris', 0.15, 'gdsc', 3.14, 'girafe', 'tigre', 'singe', 'souris']\n"
          ]
        }
      ]
    },
    {
      "cell_type": "markdown",
      "source": [
        "Supprime de la liste le premier élément dont la valeur est égale à x:**list.remove(x)**"
      ],
      "metadata": {
        "id": "D57wYh44KnbH"
      }
    },
    {
      "cell_type": "code",
      "source": [
        "mixte.remove('gdsc')\n",
        "print(mixte)"
      ],
      "metadata": {
        "colab": {
          "base_uri": "https://localhost:8080/"
        },
        "id": "IMs8T3eBKyVZ",
        "outputId": "5d22fa5d-7fb0-44ff-ee31-c12f785eaf88"
      },
      "execution_count": null,
      "outputs": [
        {
          "output_type": "stream",
          "name": "stdout",
          "text": [
            "['girafe', 5, 'souris', 0.15, 3.14, 'girafe', 'tigre', 'singe', 'souris']\n"
          ]
        }
      ]
    },
    {
      "cell_type": "markdown",
      "source": [
        "***pop(i)***:Enlève de la liste l’élément situé à la position indiquée et le renvoie en valeur de retour. Si aucune position n’est spécifiée, a.pop() enlève et renvoie le dernier élément de la liste"
      ],
      "metadata": {
        "id": "noYxr944K99k"
      }
    },
    {
      "cell_type": "code",
      "source": [
        "x=mixte.pop()"
      ],
      "metadata": {
        "id": "qA90dvopLNRW"
      },
      "execution_count": null,
      "outputs": []
    },
    {
      "cell_type": "code",
      "source": [
        "print(x)\n",
        "print(mixte)"
      ],
      "metadata": {
        "colab": {
          "base_uri": "https://localhost:8080/"
        },
        "id": "nrFMsfB8LSNk",
        "outputId": "a5e63d8f-b34c-4e42-86fe-b0f3a576297d"
      },
      "execution_count": null,
      "outputs": [
        {
          "output_type": "stream",
          "name": "stdout",
          "text": [
            "singe\n",
            "['girafe', 5, 'souris', 0.15, 3.14, 'girafe', 'tigre']\n"
          ]
        }
      ]
    },
    {
      "cell_type": "code",
      "source": [
        "print(mixte)"
      ],
      "metadata": {
        "colab": {
          "base_uri": "https://localhost:8080/"
        },
        "id": "mU28GitbLUw_",
        "outputId": "21493ff4-a994-472c-b922-890afbfcb07b"
      },
      "execution_count": null,
      "outputs": [
        {
          "output_type": "stream",
          "name": "stdout",
          "text": [
            "['girafe', 5, 'souris', 0.15, 3.14, 'girafe', 'tigre']\n"
          ]
        }
      ]
    },
    {
      "cell_type": "markdown",
      "source": [
        "Inverse l’ordre des éléments dans la liste:**list.reverse()**"
      ],
      "metadata": {
        "id": "vdPQOEtbLz2x"
      }
    },
    {
      "cell_type": "code",
      "source": [
        "mixte.reverse()\n",
        "print(mixte)"
      ],
      "metadata": {
        "colab": {
          "base_uri": "https://localhost:8080/"
        },
        "id": "8nLqtXPbL7t9",
        "outputId": "df55d23b-2085-4fe2-c5ba-38957e47d5e6"
      },
      "execution_count": null,
      "outputs": [
        {
          "output_type": "stream",
          "name": "stdout",
          "text": [
            "['tigre', 'girafe', 3.14, 0.15, 'souris', 5, 'girafe']\n"
          ]
        }
      ]
    },
    {
      "cell_type": "markdown",
      "source": [
        "Ordonne les éléments dans la liste:**list.sort()**"
      ],
      "metadata": {
        "id": "l8vywu1CML6x"
      }
    },
    {
      "cell_type": "code",
      "source": [
        "liste_entier=[4,10,22,45,0,-8,9]\n",
        "liste_entier.sort()\n",
        "print(liste_entier)"
      ],
      "metadata": {
        "colab": {
          "base_uri": "https://localhost:8080/"
        },
        "id": "oOo4E7UbMLgS",
        "outputId": "73bcf1f2-7db2-4197-fdf2-81d18f07166c"
      },
      "execution_count": null,
      "outputs": [
        {
          "output_type": "stream",
          "name": "stdout",
          "text": [
            "[-8, 0, 4, 9, 10, 22, 45]\n"
          ]
        }
      ]
    },
    {
      "cell_type": "code",
      "source": [
        "mixte.sort()\n",
        "print(mixte)"
      ],
      "metadata": {
        "colab": {
          "base_uri": "https://localhost:8080/",
          "height": 183
        },
        "id": "Rr5xnjOeMiBq",
        "outputId": "cf028be4-d803-49b0-dbeb-2add5fd74fbd"
      },
      "execution_count": null,
      "outputs": [
        {
          "output_type": "error",
          "ename": "TypeError",
          "evalue": "ignored",
          "traceback": [
            "\u001b[0;31m---------------------------------------------------------------------------\u001b[0m",
            "\u001b[0;31mTypeError\u001b[0m                                 Traceback (most recent call last)",
            "\u001b[0;32m<ipython-input-67-5b45f04d3db2>\u001b[0m in \u001b[0;36m<module>\u001b[0;34m()\u001b[0m\n\u001b[0;32m----> 1\u001b[0;31m \u001b[0mmixte\u001b[0m\u001b[0;34m.\u001b[0m\u001b[0msort\u001b[0m\u001b[0;34m(\u001b[0m\u001b[0;34m)\u001b[0m\u001b[0;34m\u001b[0m\u001b[0;34m\u001b[0m\u001b[0m\n\u001b[0m\u001b[1;32m      2\u001b[0m \u001b[0mprint\u001b[0m\u001b[0;34m(\u001b[0m\u001b[0mmixte\u001b[0m\u001b[0;34m)\u001b[0m\u001b[0;34m\u001b[0m\u001b[0;34m\u001b[0m\u001b[0m\n",
            "\u001b[0;31mTypeError\u001b[0m: '<' not supported between instances of 'float' and 'str'"
          ]
        }
      ]
    },
    {
      "cell_type": "markdown",
      "source": [
        "Supprime tous les éléments de la liste:**list.clear()**"
      ],
      "metadata": {
        "id": "yEBvLoEBLp1H"
      }
    },
    {
      "cell_type": "code",
      "source": [
        "mixte.clear()\n",
        "print(mixte)"
      ],
      "metadata": {
        "colab": {
          "base_uri": "https://localhost:8080/"
        },
        "id": "8FyGDZzVMoSm",
        "outputId": "eb601008-1da1-474c-d0d9-8008adf93678"
      },
      "execution_count": null,
      "outputs": [
        {
          "output_type": "stream",
          "name": "stdout",
          "text": [
            "[]\n"
          ]
        }
      ]
    },
    {
      "cell_type": "markdown",
      "source": [
        "convertion en list:**list()**"
      ],
      "metadata": {
        "id": "Nyxge21GngTM"
      }
    },
    {
      "cell_type": "code",
      "source": [
        "chaine='gdsc!'\n",
        "liste_chaine=list(chaine)\n",
        "print(liste_chaine)"
      ],
      "metadata": {
        "id": "gMiowBXTnk3y",
        "colab": {
          "base_uri": "https://localhost:8080/"
        },
        "outputId": "2787d6a2-88aa-4d29-9a11-9536d007c243"
      },
      "execution_count": null,
      "outputs": [
        {
          "output_type": "stream",
          "name": "stdout",
          "text": [
            "['g', 'd', 's', 'c', '!']\n"
          ]
        }
      ]
    },
    {
      "cell_type": "markdown",
      "source": [
        "parcour d'une liste"
      ],
      "metadata": {
        "id": "1JkF609jnoBG"
      }
    },
    {
      "cell_type": "code",
      "source": [
        "mixte=[\"dela3\",1,'chat']\n",
        "for i in range(len(mixte)):\n",
        "    print(mixte[i])"
      ],
      "metadata": {
        "id": "DhRTlf8-nnen",
        "colab": {
          "base_uri": "https://localhost:8080/"
        },
        "outputId": "3fc747c9-8656-4393-ab88-29fe3c895328"
      },
      "execution_count": null,
      "outputs": [
        {
          "output_type": "stream",
          "name": "stdout",
          "text": [
            "dela3\n",
            "1\n",
            "chat\n"
          ]
        }
      ]
    },
    {
      "cell_type": "code",
      "source": [
        "mixte=[\"dela3\",1,'chat']\n",
        "for i in mixte:\n",
        "    print(i)"
      ],
      "metadata": {
        "id": "BAyBm2YtnsDO",
        "colab": {
          "base_uri": "https://localhost:8080/"
        },
        "outputId": "1e8f4d0b-7b59-41ce-ddd5-ac661b8dc192"
      },
      "execution_count": null,
      "outputs": [
        {
          "output_type": "stream",
          "name": "stdout",
          "text": [
            "dela3\n",
            "1\n",
            "chat\n"
          ]
        }
      ]
    },
    {
      "cell_type": "markdown",
      "source": [
        "### les Tuples"
      ],
      "metadata": {
        "id": "7zZmplVsOm0D"
      }
    },
    {
      "cell_type": "markdown",
      "source": [
        "Jusqu'à maintenant nous avons vu et manipulé le type d'objet séquentiel le plus classique : les listes. On se rappelle qu'elles sont modifiables, ordonnées et itérables.\n",
        "\n",
        "Les tuples (« n-uplets » en français) correspondent aux listes à la différence qu'ils sont non modifiables.\n",
        "\n",
        "\n",
        "Pratiquement, ils utilisent les parenthèses au lieu des crochets :"
      ],
      "metadata": {
        "id": "tFj98PmJOsMS"
      }
    },
    {
      "cell_type": "code",
      "source": [
        "x = (1, 2, 3)\n",
        "print(x)"
      ],
      "metadata": {
        "colab": {
          "base_uri": "https://localhost:8080/"
        },
        "id": "DFqiBAlBPEk_",
        "outputId": "a1064757-03ba-4a35-e01a-4ab83ef4992f"
      },
      "execution_count": null,
      "outputs": [
        {
          "output_type": "stream",
          "name": "stdout",
          "text": [
            "(1, 2, 3)\n"
          ]
        }
      ]
    },
    {
      "cell_type": "markdown",
      "source": [
        "l’indiçage fonctionnent comme avec les listes."
      ],
      "metadata": {
        "id": "kY3_L1ZHlUTo"
      }
    },
    {
      "cell_type": "code",
      "source": [
        "print(x[1])"
      ],
      "metadata": {
        "id": "VErRScWalWdW",
        "colab": {
          "base_uri": "https://localhost:8080/"
        },
        "outputId": "c70f1858-2970-4451-b689-1d0c7d66e720"
      },
      "execution_count": null,
      "outputs": [
        {
          "output_type": "stream",
          "name": "stdout",
          "text": [
            "2\n"
          ]
        }
      ]
    },
    {
      "cell_type": "markdown",
      "source": [
        "si on essaie de modifier un des éléments du tuple, Python renvoie un message d’erreur"
      ],
      "metadata": {
        "id": "P92ojQqflZuc"
      }
    },
    {
      "cell_type": "code",
      "source": [
        "x[1]=20"
      ],
      "metadata": {
        "id": "dAUUcw-1lbdL",
        "colab": {
          "base_uri": "https://localhost:8080/",
          "height": 165
        },
        "outputId": "2ff092e7-2900-4b74-c9f6-d80f3ff41ea9"
      },
      "execution_count": null,
      "outputs": [
        {
          "output_type": "error",
          "ename": "TypeError",
          "evalue": "ignored",
          "traceback": [
            "\u001b[0;31m---------------------------------------------------------------------------\u001b[0m",
            "\u001b[0;31mTypeError\u001b[0m                                 Traceback (most recent call last)",
            "\u001b[0;32m<ipython-input-126-89ff58dc2b1d>\u001b[0m in \u001b[0;36m<module>\u001b[0;34m()\u001b[0m\n\u001b[0;32m----> 1\u001b[0;31m \u001b[0mx\u001b[0m\u001b[0;34m[\u001b[0m\u001b[0;36m1\u001b[0m\u001b[0;34m]\u001b[0m\u001b[0;34m=\u001b[0m\u001b[0;36m20\u001b[0m\u001b[0;34m\u001b[0m\u001b[0;34m\u001b[0m\u001b[0m\n\u001b[0m",
            "\u001b[0;31mTypeError\u001b[0m: 'tuple' object does not support item assignment"
          ]
        }
      ]
    },
    {
      "cell_type": "markdown",
      "source": [
        "on peut utiliser la fonction tuple(sequence) qui fonctionne exactement comme la fonction list(), c'est-à-dire qu'elle prend en argument un objet séquentiel et renvoie le tuple correspondant (opération de casting)"
      ],
      "metadata": {
        "id": "fzx4PrzZlesN"
      }
    },
    {
      "cell_type": "code",
      "source": [
        "chaine='gdsc!'\n",
        "tuple_chaine=tuple(chaine)\n",
        "print(tuple_chaine)"
      ],
      "metadata": {
        "id": "b_3zJn2ilgfi",
        "colab": {
          "base_uri": "https://localhost:8080/"
        },
        "outputId": "455c638c-ab02-4d06-ade8-c1eb934ef9ae"
      },
      "execution_count": null,
      "outputs": [
        {
          "output_type": "stream",
          "name": "stdout",
          "text": [
            "('g', 'd', 's', 'c', '!')\n"
          ]
        }
      ]
    },
    {
      "cell_type": "markdown",
      "source": [
        "**utilisation des tuples**:affetation multiple"
      ],
      "metadata": {
        "id": "2VNrgpAxlhmR"
      }
    },
    {
      "cell_type": "code",
      "source": [
        "(a,b)=(5,10)\n",
        "print(a)\n",
        "print(b)"
      ],
      "metadata": {
        "id": "NJzxgYRUllb-",
        "colab": {
          "base_uri": "https://localhost:8080/"
        },
        "outputId": "9602e979-dd3c-4043-8df5-43e60292c6c8"
      },
      "execution_count": null,
      "outputs": [
        {
          "output_type": "stream",
          "name": "stdout",
          "text": [
            "5\n",
            "10\n"
          ]
        }
      ]
    },
    {
      "cell_type": "markdown",
      "source": [
        "### Les dictionnaires"
      ],
      "metadata": {
        "id": "rQKexxsLlmur"
      }
    },
    {
      "cell_type": "markdown",
      "source": [
        "#### Définition"
      ],
      "metadata": {
        "id": "FaWhjyZRltCn"
      }
    },
    {
      "cell_type": "markdown",
      "source": [
        "Les dictionnaires se révèlent très pratiques lorsque vous devez manipuler des structures complexes à décrire et que les listes présentent leurs limites. Les dictionnaires sont des collections non ordonnées d’objets, c’est-à-dire qu’il n’y a pas de notion d’ordre (i.e. pas d’indice). On accède aux valeurs d’un dictionnaire par des clés."
      ],
      "metadata": {
        "id": "pOq3Ycielyzg"
      }
    },
    {
      "cell_type": "markdown",
      "source": [
        "En premier, on définit un dictionnaire vide avec les accolades {} (tout comme on peut le faire pour les listes avec [ ])."
      ],
      "metadata": {
        "id": "Rk9LufAgl0cx"
      }
    },
    {
      "cell_type": "code",
      "source": [
        "ani1 = {}"
      ],
      "metadata": {
        "id": "EKAovGL6ls0h"
      },
      "execution_count": null,
      "outputs": []
    },
    {
      "cell_type": "markdown",
      "source": [
        "Ensuite, on remplit le dictionnaire avec différentes clés (“nom”, “taille”, “poids”) auxquelles on affecte des valeurs (“girafe”, 5.0, 1100). Vous pouvez mettre autant de clés que vous voulez dans un dictionnaire (tout comme vous pouvez ajouter autant d’éléments que vous voulez dans une liste)."
      ],
      "metadata": {
        "id": "fYPliSnHl5qq"
      }
    },
    {
      "cell_type": "code",
      "source": [
        "ani1[\"nom\"] = \"girafe\"\n",
        "ani1[\"taille\"] = 5.0\n",
        "ani1[\"poids\"] = 1100\n",
        "print(ani1)"
      ],
      "metadata": {
        "colab": {
          "base_uri": "https://localhost:8080/"
        },
        "id": "2ydsz-q-l9NQ",
        "outputId": "641796be-453e-439e-f8b3-3fdcdd7f5495"
      },
      "execution_count": null,
      "outputs": [
        {
          "output_type": "stream",
          "name": "stdout",
          "text": [
            "{'nom': 'girafe', 'taille': 5.0, 'poids': 1100}\n"
          ]
        }
      ]
    },
    {
      "cell_type": "markdown",
      "source": [
        "On peut aussi initialiser toutes les clés et les valeurs d'un dictionnaire en une seule opération :"
      ],
      "metadata": {
        "id": "ApNYsx-QmBMS"
      }
    },
    {
      "cell_type": "code",
      "source": [
        "ani2 = {\"nom\": \"singe\", \"poids\": 70, \"taille\": 1.75}"
      ],
      "metadata": {
        "id": "xc3OvUtSmDY2"
      },
      "execution_count": null,
      "outputs": []
    },
    {
      "cell_type": "markdown",
      "source": [
        "#### Itération sur les clés pour obtenir les valeurs"
      ],
      "metadata": {
        "id": "7YNQM6X7mGAf"
      }
    },
    {
      "cell_type": "markdown",
      "source": [
        "Il est possible d’obtenir toutes les valeurs d’un dictionnaire à partir de ses clés :"
      ],
      "metadata": {
        "id": "VcT9ZfbzmJ_e"
      }
    },
    {
      "cell_type": "code",
      "source": [
        "for i in ani2:\n",
        "    print(i, ani2[i])"
      ],
      "metadata": {
        "colab": {
          "base_uri": "https://localhost:8080/"
        },
        "id": "ywk6nW1YmLaV",
        "outputId": "f53a54d2-e177-4cf0-efee-06183db0bdd9"
      },
      "execution_count": null,
      "outputs": [
        {
          "output_type": "stream",
          "name": "stdout",
          "text": [
            "nom singe\n",
            "poids 70\n",
            "taille 1.75\n"
          ]
        }
      ]
    },
    {
      "cell_type": "markdown",
      "source": [
        "**Méthodes .keys(), .values() et .items()**"
      ],
      "metadata": {
        "id": "2gm_jSH8mRQL"
      }
    },
    {
      "cell_type": "markdown",
      "source": [
        "Les méthodes .keys() et .values() renvoient, comme vous pouvez vous en doutez, les clés et les valeurs d’un dictionnaire\n",
        "\n"
      ],
      "metadata": {
        "id": "HkiY-lmvmUCw"
      }
    },
    {
      "cell_type": "code",
      "source": [
        "print(ani2.keys())"
      ],
      "metadata": {
        "colab": {
          "base_uri": "https://localhost:8080/"
        },
        "id": "R3pMV21umXPM",
        "outputId": "fbc16f9d-091e-4803-83cf-56d7cbb681ef"
      },
      "execution_count": null,
      "outputs": [
        {
          "output_type": "stream",
          "name": "stdout",
          "text": [
            "dict_keys(['nom', 'poids', 'taille'])\n"
          ]
        }
      ]
    },
    {
      "cell_type": "code",
      "source": [
        "print(ani2.values())"
      ],
      "metadata": {
        "colab": {
          "base_uri": "https://localhost:8080/"
        },
        "id": "5MVDbpiDmZfW",
        "outputId": "4bcca1bb-4205-439e-8fd7-17a2a31e4704"
      },
      "execution_count": null,
      "outputs": [
        {
          "output_type": "stream",
          "name": "stdout",
          "text": [
            "dict_values(['singe', 70, 1.75])\n"
          ]
        }
      ]
    },
    {
      "cell_type": "markdown",
      "source": [
        "Enfin, il existe la méthode .items() qui renvoie un nouvel objet dict_items :"
      ],
      "metadata": {
        "id": "_zxogTlLmazy"
      }
    },
    {
      "cell_type": "code",
      "source": [
        "print(ani2.items())"
      ],
      "metadata": {
        "colab": {
          "base_uri": "https://localhost:8080/"
        },
        "id": "GIttjHXZmeGa",
        "outputId": "e815c107-a847-4c87-ad06-1a711d7abc88"
      },
      "execution_count": null,
      "outputs": [
        {
          "output_type": "stream",
          "name": "stdout",
          "text": [
            "dict_items([('nom', 'singe'), ('poids', 70), ('taille', 1.75)])\n"
          ]
        }
      ]
    },
    {
      "cell_type": "markdown",
      "source": [
        "**Fonction dict()**"
      ],
      "metadata": {
        "id": "0qUMFGvdmh0Q"
      }
    },
    {
      "cell_type": "markdown",
      "source": [
        "La fonction dict() va convertir l’argument qui lui est passé en dictionnaire. Il s’agit donc d’une fonction de casting comme int(), str(), etc. Toutefois, l’argument qui lui est passé doit avoir une forme particulière : un objet séquentiel contenant d’autres objets séquentiels de 2 éléments."
      ],
      "metadata": {
        "id": "yuwf4xaPmjrs"
      }
    },
    {
      "cell_type": "code",
      "source": [
        "liste_animaux = [[\"girafe\", 2], [\"singe\", 3]]\n",
        "x=dict(liste_animaux)\n",
        "print(x)"
      ],
      "metadata": {
        "colab": {
          "base_uri": "https://localhost:8080/"
        },
        "id": "J9juuq17mmeh",
        "outputId": "3bfee6d1-b7b5-4313-faa2-f85712654ac6"
      },
      "execution_count": null,
      "outputs": [
        {
          "output_type": "stream",
          "name": "stdout",
          "text": [
            "{'girafe': 2, 'singe': 3}\n"
          ]
        }
      ]
    },
    {
      "cell_type": "markdown",
      "source": [
        "Si un des sous-éléments a plus de 2 éléments (ou moins), Python renvoie une erreur :"
      ],
      "metadata": {
        "id": "boDSMHrumpGt"
      }
    },
    {
      "cell_type": "code",
      "source": [
        "dict([(\"girafe\", 2), (\"singe\", 3, 4)])"
      ],
      "metadata": {
        "colab": {
          "base_uri": "https://localhost:8080/",
          "height": 165
        },
        "id": "WPrfRPsemrpJ",
        "outputId": "26caee7f-33c8-4014-9390-5560d5163d9f"
      },
      "execution_count": null,
      "outputs": [
        {
          "output_type": "error",
          "ename": "ValueError",
          "evalue": "ignored",
          "traceback": [
            "\u001b[0;31m---------------------------------------------------------------------------\u001b[0m",
            "\u001b[0;31mValueError\u001b[0m                                Traceback (most recent call last)",
            "\u001b[0;32m<ipython-input-12-423567b51f0e>\u001b[0m in \u001b[0;36m<module>\u001b[0;34m()\u001b[0m\n\u001b[0;32m----> 1\u001b[0;31m \u001b[0mdict\u001b[0m\u001b[0;34m(\u001b[0m\u001b[0;34m[\u001b[0m\u001b[0;34m(\u001b[0m\u001b[0;34m\"girafe\"\u001b[0m\u001b[0;34m,\u001b[0m \u001b[0;36m2\u001b[0m\u001b[0;34m)\u001b[0m\u001b[0;34m,\u001b[0m \u001b[0;34m(\u001b[0m\u001b[0;34m\"singe\"\u001b[0m\u001b[0;34m,\u001b[0m \u001b[0;36m3\u001b[0m\u001b[0;34m,\u001b[0m \u001b[0;36m4\u001b[0m\u001b[0;34m)\u001b[0m\u001b[0;34m]\u001b[0m\u001b[0;34m)\u001b[0m\u001b[0;34m\u001b[0m\u001b[0;34m\u001b[0m\u001b[0m\n\u001b[0m",
            "\u001b[0;31mValueError\u001b[0m: dictionary update sequence element #1 has length 3; 2 is required"
          ]
        }
      ]
    },
    {
      "cell_type": "markdown",
      "source": [
        "## les fichiers"
      ],
      "metadata": {
        "id": "FFnRDE9vmv9E"
      }
    },
    {
      "cell_type": "markdown",
      "source": [
        "Une grande partie de l'information en biologie est stockée sous forme de texte dans des fichiers. Pour traiter cette information, vous devez le plus souvent lire ou écrire dans un ou plusieurs fichiers. Python possède pour cela de nombreux outils qui vous simplifient la vie."
      ],
      "metadata": {
        "id": "APwB-K9in28a"
      }
    },
    {
      "cell_type": "markdown",
      "source": [
        "### ecriture dans un fichier"
      ],
      "metadata": {
        "id": "A0S5zblAoEC_"
      }
    },
    {
      "cell_type": "code",
      "source": [
        "fichier1=open('monfichier.txt','w')"
      ],
      "metadata": {
        "id": "1YoILS52mvca"
      },
      "execution_count": null,
      "outputs": []
    },
    {
      "cell_type": "code",
      "source": [
        "fichier1.write('gdsc!')\n",
        "fichier1.close()"
      ],
      "metadata": {
        "id": "y-l0JqERoIPg"
      },
      "execution_count": null,
      "outputs": []
    },
    {
      "cell_type": "code",
      "source": [
        "fichier1=open('monfichier.txt','w')\n",
        "fichier1.write('gdsc!')\n",
        "fichier1.write('gdsc!')\n",
        "fichier1.write('gdsc!')\n",
        "fichier1.close()"
      ],
      "metadata": {
        "id": "SJCFneHHoPqM"
      },
      "execution_count": null,
      "outputs": []
    },
    {
      "cell_type": "code",
      "source": [
        "fichier1=open('monfichier.txt','w')\n",
        "fichier1.writelines(['hello','gdsc','!'])\n",
        "fichier1.close()"
      ],
      "metadata": {
        "id": "sy0CV5pXoaeM"
      },
      "execution_count": null,
      "outputs": []
    },
    {
      "cell_type": "markdown",
      "source": [
        "### lecture d'un fichier"
      ],
      "metadata": {
        "id": "ID02qL4Srm9u"
      }
    },
    {
      "cell_type": "markdown",
      "source": [
        " la méthode .read() lit tout le contenu d'un fichier et renvoie une chaîne de caractères unique."
      ],
      "metadata": {
        "id": "UfLMXzpWom4O"
      }
    },
    {
      "cell_type": "code",
      "source": [
        "fichier1=open('monfichier.txt','r')\n",
        "f=fichier1.read()\n",
        "print(f)"
      ],
      "metadata": {
        "id": "FDcNpcf1ogpx"
      },
      "execution_count": null,
      "outputs": []
    },
    {
      "cell_type": "markdown",
      "source": [
        "La méthode .readline() (sans s à la fin) lit une ligne d'un fichier et la renvoie sous forme de chaîne de caractères. À chaque nouvel appel de .readline(), la ligne suivante est renvoyée."
      ],
      "metadata": {
        "id": "vL5-95__oo9k"
      }
    },
    {
      "cell_type": "code",
      "source": [
        "fichier1=open('monfichier.txt','r')\n",
        "f=fichier1.readline()\n",
        "print(f)"
      ],
      "metadata": {
        "id": "tR4WO4pLoomL"
      },
      "execution_count": null,
      "outputs": []
    },
    {
      "cell_type": "code",
      "source": [
        "f=fichier1.readline()\n",
        "print(f)\n",
        "fichier1.close()"
      ],
      "metadata": {
        "id": "NBoQAtt_o1fy"
      },
      "execution_count": null,
      "outputs": []
    },
    {
      "cell_type": "markdown",
      "source": [
        "\n",
        "\n",
        "---\n",
        "\n"
      ],
      "metadata": {
        "id": "DdnJVA7YpJ3_"
      }
    },
    {
      "cell_type": "code",
      "source": [
        "fichier1=open('monfichier.txt','w')\n",
        "fichier1.write('gdsc!')\n",
        "fichier1.write('gdsc!')\n",
        "fichier1.write('gdsc!')\n",
        "fichier1.close()"
      ],
      "metadata": {
        "id": "RX-ksf3apYEN"
      },
      "execution_count": null,
      "outputs": []
    },
    {
      "cell_type": "code",
      "source": [
        "fichier1=open('monfichier.txt','r')\n",
        "f=fichier1.readlines()\n",
        "print(f)\n",
        "fichier1.close()"
      ],
      "metadata": {
        "id": "oQ_KvZNopLqX"
      },
      "execution_count": null,
      "outputs": []
    },
    {
      "cell_type": "markdown",
      "source": [
        "Ici la méthode .readlines() agit sur l'objet fichier1 en déplaçant le curseur de lecture du début à la fin du fichier, puis elle renvoie une liste contenant toutes les lignes du fichier "
      ],
      "metadata": {
        "id": "KvkcHCOOpIUK"
      }
    }
  ]
}